{
 "cells": [
  {
   "cell_type": "markdown",
   "metadata": {},
   "source": [
    "# Crytocurrency price forecasting using Neural Networks"
   ]
  },
  {
   "cell_type": "code",
   "execution_count": 2,
   "metadata": {},
   "outputs": [],
   "source": [
    "import pandas as pd\n",
    "import numpy as np\n",
    "import matplotlib.pyplot as plt\n",
    "from sklearn.linear_model import LinearRegression\n",
    "from sklearn.model_selection import train_test_split\n",
    "from sklearn.preprocessing import StandardScaler\n",
    "from sklearn.preprocessing import MinMaxScaler\n",
    "from sklearn.metrics import mean_squared_error as MSE\n",
    "from sklearn.metrics import r2_score as R_squared\n",
    "from sklearn.metrics import explained_variance_score as EVS\n",
    "\n",
    "import tensorflow as tf\n",
    "\n",
    "from tensorflow import keras\n",
    "from tensorflow.keras.callbacks import TensorBoard\n",
    "from tensorflow.keras.models import Sequential, load_model\n",
    "from tensorflow.keras.layers import LSTM, Dense, Dropout\n",
    "from tensorflow.keras.layers import Embedding\n",
    "from tensorflow.keras.layers import SimpleRNN\n",
    "from tensorflow.keras.preprocessing import sequence\n",
    "from tensorflow.keras.preprocessing.text import Tokenizer\n",
    "from collections import OrderedDict\n",
    "\n",
    "# We do this to ignore several specific Pandas warnings\n",
    "import warnings\n",
    "warnings.filterwarnings(\"ignore\")"
   ]
  },
  {
   "cell_type": "code",
   "execution_count": 3,
   "metadata": {},
   "outputs": [],
   "source": [
    "data_path = 'D:/USMS/UChicago/STUDIES/Autumn 2020/MSCA 31009 2 Machine Learning & Predictive Analytics/Final Project/data/'"
   ]
  },
  {
   "cell_type": "code",
   "execution_count": 4,
   "metadata": {},
   "outputs": [
    {
     "data": {
      "text/html": [
       "<div>\n",
       "<style scoped>\n",
       "    .dataframe tbody tr th:only-of-type {\n",
       "        vertical-align: middle;\n",
       "    }\n",
       "\n",
       "    .dataframe tbody tr th {\n",
       "        vertical-align: top;\n",
       "    }\n",
       "\n",
       "    .dataframe thead th {\n",
       "        text-align: right;\n",
       "    }\n",
       "</style>\n",
       "<table border=\"1\" class=\"dataframe\">\n",
       "  <thead>\n",
       "    <tr style=\"text-align: right;\">\n",
       "      <th></th>\n",
       "      <th>Date</th>\n",
       "      <th>Open</th>\n",
       "      <th>High</th>\n",
       "      <th>Low</th>\n",
       "      <th>Close</th>\n",
       "      <th>Adj Close</th>\n",
       "      <th>Volume</th>\n",
       "    </tr>\n",
       "  </thead>\n",
       "  <tbody>\n",
       "    <tr>\n",
       "      <th>0</th>\n",
       "      <td>23-11-15</td>\n",
       "      <td>324.350006</td>\n",
       "      <td>325.118011</td>\n",
       "      <td>321.290009</td>\n",
       "      <td>323.045990</td>\n",
       "      <td>323.045990</td>\n",
       "      <td>27478900</td>\n",
       "    </tr>\n",
       "    <tr>\n",
       "      <th>1</th>\n",
       "      <td>24-11-15</td>\n",
       "      <td>323.014008</td>\n",
       "      <td>323.058014</td>\n",
       "      <td>318.118011</td>\n",
       "      <td>320.045990</td>\n",
       "      <td>320.045990</td>\n",
       "      <td>29362600</td>\n",
       "    </tr>\n",
       "    <tr>\n",
       "      <th>2</th>\n",
       "      <td>25-11-15</td>\n",
       "      <td>320.045013</td>\n",
       "      <td>329.134003</td>\n",
       "      <td>316.769989</td>\n",
       "      <td>328.205994</td>\n",
       "      <td>328.205994</td>\n",
       "      <td>41666900</td>\n",
       "    </tr>\n",
       "    <tr>\n",
       "      <th>3</th>\n",
       "      <td>26-11-15</td>\n",
       "      <td>328.303009</td>\n",
       "      <td>366.756989</td>\n",
       "      <td>328.229004</td>\n",
       "      <td>352.683990</td>\n",
       "      <td>352.683990</td>\n",
       "      <td>106105000</td>\n",
       "    </tr>\n",
       "    <tr>\n",
       "      <th>4</th>\n",
       "      <td>27-11-15</td>\n",
       "      <td>351.860992</td>\n",
       "      <td>363.588989</td>\n",
       "      <td>347.869995</td>\n",
       "      <td>358.041992</td>\n",
       "      <td>358.041992</td>\n",
       "      <td>55179100</td>\n",
       "    </tr>\n",
       "  </tbody>\n",
       "</table>\n",
       "</div>"
      ],
      "text/plain": [
       "       Date        Open        High         Low       Close   Adj Close  \\\n",
       "0  23-11-15  324.350006  325.118011  321.290009  323.045990  323.045990   \n",
       "1  24-11-15  323.014008  323.058014  318.118011  320.045990  320.045990   \n",
       "2  25-11-15  320.045013  329.134003  316.769989  328.205994  328.205994   \n",
       "3  26-11-15  328.303009  366.756989  328.229004  352.683990  352.683990   \n",
       "4  27-11-15  351.860992  363.588989  347.869995  358.041992  358.041992   \n",
       "\n",
       "      Volume  \n",
       "0   27478900  \n",
       "1   29362600  \n",
       "2   41666900  \n",
       "3  106105000  \n",
       "4   55179100  "
      ]
     },
     "execution_count": 4,
     "metadata": {},
     "output_type": "execute_result"
    }
   ],
   "source": [
    "# importing the data\n",
    "BTC_USD = pd.read_csv(data_path+'BTC-USD.csv')\n",
    "BTC_USD.head()"
   ]
  },
  {
   "cell_type": "code",
   "execution_count": 5,
   "metadata": {},
   "outputs": [
    {
     "data": {
      "text/html": [
       "<div>\n",
       "<style scoped>\n",
       "    .dataframe tbody tr th:only-of-type {\n",
       "        vertical-align: middle;\n",
       "    }\n",
       "\n",
       "    .dataframe tbody tr th {\n",
       "        vertical-align: top;\n",
       "    }\n",
       "\n",
       "    .dataframe thead th {\n",
       "        text-align: right;\n",
       "    }\n",
       "</style>\n",
       "<table border=\"1\" class=\"dataframe\">\n",
       "  <thead>\n",
       "    <tr style=\"text-align: right;\">\n",
       "      <th></th>\n",
       "      <th>Date</th>\n",
       "      <th>Open</th>\n",
       "      <th>High</th>\n",
       "      <th>Low</th>\n",
       "      <th>Close</th>\n",
       "      <th>Adj Close</th>\n",
       "      <th>Volume</th>\n",
       "    </tr>\n",
       "  </thead>\n",
       "  <tbody>\n",
       "    <tr>\n",
       "      <th>0</th>\n",
       "      <td>2015-11-23</td>\n",
       "      <td>0.004269</td>\n",
       "      <td>0.004351</td>\n",
       "      <td>0.004237</td>\n",
       "      <td>0.004288</td>\n",
       "      <td>0.004288</td>\n",
       "      <td>314451</td>\n",
       "    </tr>\n",
       "    <tr>\n",
       "      <th>1</th>\n",
       "      <td>2015-11-24</td>\n",
       "      <td>0.004288</td>\n",
       "      <td>0.004288</td>\n",
       "      <td>0.004201</td>\n",
       "      <td>0.004242</td>\n",
       "      <td>0.004242</td>\n",
       "      <td>197940</td>\n",
       "    </tr>\n",
       "    <tr>\n",
       "      <th>2</th>\n",
       "      <td>2015-11-25</td>\n",
       "      <td>0.004242</td>\n",
       "      <td>0.004325</td>\n",
       "      <td>0.004228</td>\n",
       "      <td>0.004318</td>\n",
       "      <td>0.004318</td>\n",
       "      <td>197356</td>\n",
       "    </tr>\n",
       "    <tr>\n",
       "      <th>3</th>\n",
       "      <td>2015-11-26</td>\n",
       "      <td>0.004317</td>\n",
       "      <td>0.004435</td>\n",
       "      <td>0.004227</td>\n",
       "      <td>0.004291</td>\n",
       "      <td>0.004291</td>\n",
       "      <td>400520</td>\n",
       "    </tr>\n",
       "    <tr>\n",
       "      <th>4</th>\n",
       "      <td>2015-11-27</td>\n",
       "      <td>0.004276</td>\n",
       "      <td>0.004304</td>\n",
       "      <td>0.004229</td>\n",
       "      <td>0.004276</td>\n",
       "      <td>0.004276</td>\n",
       "      <td>199790</td>\n",
       "    </tr>\n",
       "  </tbody>\n",
       "</table>\n",
       "</div>"
      ],
      "text/plain": [
       "         Date      Open      High       Low     Close  Adj Close  Volume\n",
       "0  2015-11-23  0.004269  0.004351  0.004237  0.004288   0.004288  314451\n",
       "1  2015-11-24  0.004288  0.004288  0.004201  0.004242   0.004242  197940\n",
       "2  2015-11-25  0.004242  0.004325  0.004228  0.004318   0.004318  197356\n",
       "3  2015-11-26  0.004317  0.004435  0.004227  0.004291   0.004291  400520\n",
       "4  2015-11-27  0.004276  0.004304  0.004229  0.004276   0.004276  199790"
      ]
     },
     "execution_count": 5,
     "metadata": {},
     "output_type": "execute_result"
    }
   ],
   "source": [
    "# importing the data\n",
    "XRP_USD = pd.read_csv(data_path+'XRP-USD.csv')\n",
    "XRP_USD.head()"
   ]
  },
  {
   "cell_type": "code",
   "execution_count": 6,
   "metadata": {},
   "outputs": [
    {
     "data": {
      "text/html": [
       "<div>\n",
       "<style scoped>\n",
       "    .dataframe tbody tr th:only-of-type {\n",
       "        vertical-align: middle;\n",
       "    }\n",
       "\n",
       "    .dataframe tbody tr th {\n",
       "        vertical-align: top;\n",
       "    }\n",
       "\n",
       "    .dataframe thead th {\n",
       "        text-align: right;\n",
       "    }\n",
       "</style>\n",
       "<table border=\"1\" class=\"dataframe\">\n",
       "  <thead>\n",
       "    <tr style=\"text-align: right;\">\n",
       "      <th></th>\n",
       "      <th>Date</th>\n",
       "      <th>Open</th>\n",
       "      <th>High</th>\n",
       "      <th>Low</th>\n",
       "      <th>Close</th>\n",
       "      <th>Adj Close</th>\n",
       "      <th>Volume</th>\n",
       "    </tr>\n",
       "  </thead>\n",
       "  <tbody>\n",
       "    <tr>\n",
       "      <th>0</th>\n",
       "      <td>2015-11-26</td>\n",
       "      <td>0.863273</td>\n",
       "      <td>0.903643</td>\n",
       "      <td>0.804360</td>\n",
       "      <td>0.884183</td>\n",
       "      <td>0.884183</td>\n",
       "      <td>947473</td>\n",
       "    </tr>\n",
       "    <tr>\n",
       "      <th>1</th>\n",
       "      <td>2015-11-27</td>\n",
       "      <td>0.882100</td>\n",
       "      <td>0.900051</td>\n",
       "      <td>0.860695</td>\n",
       "      <td>0.867951</td>\n",
       "      <td>0.867951</td>\n",
       "      <td>403813</td>\n",
       "    </tr>\n",
       "    <tr>\n",
       "      <th>2</th>\n",
       "      <td>2015-11-28</td>\n",
       "      <td>0.868102</td>\n",
       "      <td>0.929293</td>\n",
       "      <td>0.862122</td>\n",
       "      <td>0.915703</td>\n",
       "      <td>0.915703</td>\n",
       "      <td>462464</td>\n",
       "    </tr>\n",
       "    <tr>\n",
       "      <th>3</th>\n",
       "      <td>2015-11-29</td>\n",
       "      <td>0.914144</td>\n",
       "      <td>0.914153</td>\n",
       "      <td>0.860533</td>\n",
       "      <td>0.878614</td>\n",
       "      <td>0.878614</td>\n",
       "      <td>448358</td>\n",
       "    </tr>\n",
       "    <tr>\n",
       "      <th>4</th>\n",
       "      <td>2015-11-30</td>\n",
       "      <td>0.879951</td>\n",
       "      <td>0.895054</td>\n",
       "      <td>0.847696</td>\n",
       "      <td>0.873119</td>\n",
       "      <td>0.873119</td>\n",
       "      <td>784439</td>\n",
       "    </tr>\n",
       "  </tbody>\n",
       "</table>\n",
       "</div>"
      ],
      "text/plain": [
       "         Date      Open      High       Low     Close  Adj Close  Volume\n",
       "0  2015-11-26  0.863273  0.903643  0.804360  0.884183   0.884183  947473\n",
       "1  2015-11-27  0.882100  0.900051  0.860695  0.867951   0.867951  403813\n",
       "2  2015-11-28  0.868102  0.929293  0.862122  0.915703   0.915703  462464\n",
       "3  2015-11-29  0.914144  0.914153  0.860533  0.878614   0.878614  448358\n",
       "4  2015-11-30  0.879951  0.895054  0.847696  0.873119   0.873119  784439"
      ]
     },
     "execution_count": 6,
     "metadata": {},
     "output_type": "execute_result"
    }
   ],
   "source": [
    "# importing the data\n",
    "ETH_USD = pd.read_csv(data_path+'ETH-USD.csv')\n",
    "ETH_USD.head()"
   ]
  },
  {
   "cell_type": "code",
   "execution_count": 7,
   "metadata": {},
   "outputs": [
    {
     "data": {
      "image/png": "[encoded data removed]",
      "text/plain": [
       "<Figure size 1152x576 with 1 Axes>"
      ]
     },
     "metadata": {
      "needs_background": "light"
     },
     "output_type": "display_data"
    }
   ],
   "source": [
    "#setting index as date\n",
    "BTC_USD['Date'] = pd.to_datetime(BTC_USD.Date,format='%d-%m-%y')\n",
    "BTC_USD.index = BTC_USD['Date']\n",
    "\n",
    "#plot\n",
    "plt.figure(figsize=(16,8))\n",
    "plt.plot(BTC_USD['Adj Close'], label='Close Price history')\n",
    "plt.show()"
   ]
  },
  {
   "cell_type": "markdown",
   "metadata": {},
   "source": [
    "Linear Regression is not designed to capture the short term dynamics or the autocorrelations which are present in this sequential data. It is more designed to look at the data globally and capture the global trend. We need a model that is able to capture the short term dynamics and short term dependencies within our dataset."
   ]
  },
  {
   "cell_type": "markdown",
   "metadata": {},
   "source": [
    "In the world of Neural Networks, we have something called **Recurrent Neural Networks** which is designed to capture these dependencies. Let's apply this and see how it performs in predicting the Bitcoin prices"
   ]
  },
  {
   "cell_type": "code",
   "execution_count": 8,
   "metadata": {},
   "outputs": [
    {
     "data": {
      "text/html": [
       "<div>\n",
       "<style scoped>\n",
       "    .dataframe tbody tr th:only-of-type {\n",
       "        vertical-align: middle;\n",
       "    }\n",
       "\n",
       "    .dataframe tbody tr th {\n",
       "        vertical-align: top;\n",
       "    }\n",
       "\n",
       "    .dataframe thead th {\n",
       "        text-align: right;\n",
       "    }\n",
       "</style>\n",
       "<table border=\"1\" class=\"dataframe\">\n",
       "  <thead>\n",
       "    <tr style=\"text-align: right;\">\n",
       "      <th></th>\n",
       "      <th>Date</th>\n",
       "      <th>Open</th>\n",
       "      <th>High</th>\n",
       "      <th>Low</th>\n",
       "      <th>Close</th>\n",
       "      <th>Adj Close</th>\n",
       "      <th>Volume</th>\n",
       "    </tr>\n",
       "    <tr>\n",
       "      <th>Date</th>\n",
       "      <th></th>\n",
       "      <th></th>\n",
       "      <th></th>\n",
       "      <th></th>\n",
       "      <th></th>\n",
       "      <th></th>\n",
       "      <th></th>\n",
       "    </tr>\n",
       "  </thead>\n",
       "  <tbody>\n",
       "    <tr>\n",
       "      <th>2015-11-23</th>\n",
       "      <td>2015-11-23</td>\n",
       "      <td>324.350006</td>\n",
       "      <td>325.118011</td>\n",
       "      <td>321.290009</td>\n",
       "      <td>323.045990</td>\n",
       "      <td>323.045990</td>\n",
       "      <td>27478900</td>\n",
       "    </tr>\n",
       "    <tr>\n",
       "      <th>2015-11-24</th>\n",
       "      <td>2015-11-24</td>\n",
       "      <td>323.014008</td>\n",
       "      <td>323.058014</td>\n",
       "      <td>318.118011</td>\n",
       "      <td>320.045990</td>\n",
       "      <td>320.045990</td>\n",
       "      <td>29362600</td>\n",
       "    </tr>\n",
       "    <tr>\n",
       "      <th>2015-11-25</th>\n",
       "      <td>2015-11-25</td>\n",
       "      <td>320.045013</td>\n",
       "      <td>329.134003</td>\n",
       "      <td>316.769989</td>\n",
       "      <td>328.205994</td>\n",
       "      <td>328.205994</td>\n",
       "      <td>41666900</td>\n",
       "    </tr>\n",
       "    <tr>\n",
       "      <th>2015-11-26</th>\n",
       "      <td>2015-11-26</td>\n",
       "      <td>328.303009</td>\n",
       "      <td>366.756989</td>\n",
       "      <td>328.229004</td>\n",
       "      <td>352.683990</td>\n",
       "      <td>352.683990</td>\n",
       "      <td>106105000</td>\n",
       "    </tr>\n",
       "    <tr>\n",
       "      <th>2015-11-27</th>\n",
       "      <td>2015-11-27</td>\n",
       "      <td>351.860992</td>\n",
       "      <td>363.588989</td>\n",
       "      <td>347.869995</td>\n",
       "      <td>358.041992</td>\n",
       "      <td>358.041992</td>\n",
       "      <td>55179100</td>\n",
       "    </tr>\n",
       "  </tbody>\n",
       "</table>\n",
       "</div>"
      ],
      "text/plain": [
       "                 Date        Open        High         Low       Close  \\\n",
       "Date                                                                    \n",
       "2015-11-23 2015-11-23  324.350006  325.118011  321.290009  323.045990   \n",
       "2015-11-24 2015-11-24  323.014008  323.058014  318.118011  320.045990   \n",
       "2015-11-25 2015-11-25  320.045013  329.134003  316.769989  328.205994   \n",
       "2015-11-26 2015-11-26  328.303009  366.756989  328.229004  352.683990   \n",
       "2015-11-27 2015-11-27  351.860992  363.588989  347.869995  358.041992   \n",
       "\n",
       "             Adj Close     Volume  \n",
       "Date                               \n",
       "2015-11-23  323.045990   27478900  \n",
       "2015-11-24  320.045990   29362600  \n",
       "2015-11-25  328.205994   41666900  \n",
       "2015-11-26  352.683990  106105000  \n",
       "2015-11-27  358.041992   55179100  "
      ]
     },
     "execution_count": 8,
     "metadata": {},
     "output_type": "execute_result"
    }
   ],
   "source": [
    "BTC_USD.head()"
   ]
  },
  {
   "cell_type": "code",
   "execution_count": 9,
   "metadata": {},
   "outputs": [],
   "source": [
    "BTC_USD.reset_index(drop=True,inplace=True)"
   ]
  },
  {
   "cell_type": "code",
   "execution_count": 10,
   "metadata": {},
   "outputs": [
    {
     "data": {
      "text/html": [
       "<div>\n",
       "<style scoped>\n",
       "    .dataframe tbody tr th:only-of-type {\n",
       "        vertical-align: middle;\n",
       "    }\n",
       "\n",
       "    .dataframe tbody tr th {\n",
       "        vertical-align: top;\n",
       "    }\n",
       "\n",
       "    .dataframe thead th {\n",
       "        text-align: right;\n",
       "    }\n",
       "</style>\n",
       "<table border=\"1\" class=\"dataframe\">\n",
       "  <thead>\n",
       "    <tr style=\"text-align: right;\">\n",
       "      <th></th>\n",
       "      <th>Date</th>\n",
       "      <th>Open</th>\n",
       "      <th>High</th>\n",
       "      <th>Low</th>\n",
       "      <th>Close</th>\n",
       "      <th>Adj Close</th>\n",
       "      <th>Volume</th>\n",
       "    </tr>\n",
       "  </thead>\n",
       "  <tbody>\n",
       "    <tr>\n",
       "      <th>0</th>\n",
       "      <td>2015-11-23</td>\n",
       "      <td>324.350006</td>\n",
       "      <td>325.118011</td>\n",
       "      <td>321.290009</td>\n",
       "      <td>323.045990</td>\n",
       "      <td>323.045990</td>\n",
       "      <td>27478900</td>\n",
       "    </tr>\n",
       "    <tr>\n",
       "      <th>1</th>\n",
       "      <td>2015-11-24</td>\n",
       "      <td>323.014008</td>\n",
       "      <td>323.058014</td>\n",
       "      <td>318.118011</td>\n",
       "      <td>320.045990</td>\n",
       "      <td>320.045990</td>\n",
       "      <td>29362600</td>\n",
       "    </tr>\n",
       "    <tr>\n",
       "      <th>2</th>\n",
       "      <td>2015-11-25</td>\n",
       "      <td>320.045013</td>\n",
       "      <td>329.134003</td>\n",
       "      <td>316.769989</td>\n",
       "      <td>328.205994</td>\n",
       "      <td>328.205994</td>\n",
       "      <td>41666900</td>\n",
       "    </tr>\n",
       "    <tr>\n",
       "      <th>3</th>\n",
       "      <td>2015-11-26</td>\n",
       "      <td>328.303009</td>\n",
       "      <td>366.756989</td>\n",
       "      <td>328.229004</td>\n",
       "      <td>352.683990</td>\n",
       "      <td>352.683990</td>\n",
       "      <td>106105000</td>\n",
       "    </tr>\n",
       "    <tr>\n",
       "      <th>4</th>\n",
       "      <td>2015-11-27</td>\n",
       "      <td>351.860992</td>\n",
       "      <td>363.588989</td>\n",
       "      <td>347.869995</td>\n",
       "      <td>358.041992</td>\n",
       "      <td>358.041992</td>\n",
       "      <td>55179100</td>\n",
       "    </tr>\n",
       "  </tbody>\n",
       "</table>\n",
       "</div>"
      ],
      "text/plain": [
       "        Date        Open        High         Low       Close   Adj Close  \\\n",
       "0 2015-11-23  324.350006  325.118011  321.290009  323.045990  323.045990   \n",
       "1 2015-11-24  323.014008  323.058014  318.118011  320.045990  320.045990   \n",
       "2 2015-11-25  320.045013  329.134003  316.769989  328.205994  328.205994   \n",
       "3 2015-11-26  328.303009  366.756989  328.229004  352.683990  352.683990   \n",
       "4 2015-11-27  351.860992  363.588989  347.869995  358.041992  358.041992   \n",
       "\n",
       "      Volume  \n",
       "0   27478900  \n",
       "1   29362600  \n",
       "2   41666900  \n",
       "3  106105000  \n",
       "4   55179100  "
      ]
     },
     "execution_count": 10,
     "metadata": {},
     "output_type": "execute_result"
    }
   ],
   "source": [
    "BTC_USD.head()"
   ]
  },
  {
   "cell_type": "code",
   "execution_count": 11,
   "metadata": {},
   "outputs": [
    {
     "data": {
      "text/plain": [
       "(1828, 7)"
      ]
     },
     "execution_count": 11,
     "metadata": {},
     "output_type": "execute_result"
    }
   ],
   "source": [
    "BTC_USD.shape"
   ]
  },
  {
   "cell_type": "markdown",
   "metadata": {},
   "source": [
    "### Making the data ready for feeding to the RNNs"
   ]
  },
  {
   "cell_type": "code",
   "execution_count": 12,
   "metadata": {},
   "outputs": [],
   "source": [
    "# convert an array of values into a dataset matrix\n",
    "def create_dataset(dataset, look_back=1):\n",
    "    dataX, dataY = [], []\n",
    "    for i in range(len(dataset)-look_back-1):\n",
    "        a = dataset[i:(i+look_back), 0]\n",
    "        dataX.append(a)\n",
    "        dataY.append(dataset[i + look_back, 0])\n",
    "    return np.array(dataX), np.array(dataY)"
   ]
  },
  {
   "cell_type": "code",
   "execution_count": 13,
   "metadata": {},
   "outputs": [],
   "source": [
    "# fix random seed for reproducibility\n",
    "np.random.seed(5)"
   ]
  },
  {
   "cell_type": "code",
   "execution_count": 14,
   "metadata": {},
   "outputs": [],
   "source": [
    "# take adjusted close price column\n",
    "bitcoin_y = BTC_USD['Adj Close'].values\n",
    "bitcoin_dataset=bitcoin_y.reshape(-1, 1)"
   ]
  },
  {
   "cell_type": "code",
   "execution_count": 15,
   "metadata": {},
   "outputs": [],
   "source": [
    "# normalize the dataset\n",
    "scaler = MinMaxScaler(feature_range=(0, 1))\n",
    "bitcoin_dataset = scaler.fit_transform(bitcoin_dataset)"
   ]
  },
  {
   "cell_type": "code",
   "execution_count": 16,
   "metadata": {},
   "outputs": [],
   "source": [
    "# split into train and test sets, 25% test data, 75% training data\n",
    "bitcoin_train_size = int(len(bitcoin_dataset) * 0.75)\n",
    "bitcoin_test_size = len(bitcoin_dataset) - bitcoin_train_size\n",
    "bitcoin_train, bitcoin_test = bitcoin_dataset[0:bitcoin_train_size,:], bitcoin_dataset[bitcoin_train_size:len(bitcoin_dataset),:]"
   ]
  },
  {
   "cell_type": "code",
   "execution_count": 17,
   "metadata": {},
   "outputs": [],
   "source": [
    "# reshape into X=t and Y=t+1, timestep 240\n",
    "look_back = 240\n",
    "bitcoin_trainX, bitcoin_trainY = create_dataset(bitcoin_train, look_back)\n",
    "bitcoin_testX, bitcoin_testY = create_dataset(bitcoin_test, look_back)"
   ]
  },
  {
   "cell_type": "code",
   "execution_count": 18,
   "metadata": {},
   "outputs": [],
   "source": [
    "# reshape input to be [samples, time steps, features]\n",
    "bitcoin_trainX = np.reshape(bitcoin_trainX, (bitcoin_trainX.shape[0], 1, bitcoin_trainX.shape[1]))\n",
    "bitcoin_testX = np.reshape(bitcoin_testX, (bitcoin_testX.shape[0], 1, bitcoin_testX.shape[1]))"
   ]
  },
  {
   "cell_type": "markdown",
   "metadata": {},
   "source": [
    "### Simple RNN"
   ]
  },
  {
   "cell_type": "code",
   "execution_count": 19,
   "metadata": {},
   "outputs": [
    {
     "name": "stdout",
     "output_type": "stream",
     "text": [
      "Epoch 1/10\n",
      "5/5 [==============================] - 0s 2ms/step - loss: 0.1063 - mean_squared_error: 0.1063\n",
      "Epoch 2/10\n",
      "5/5 [==============================] - 0s 3ms/step - loss: 0.1063 - mean_squared_error: 0.1063\n",
      "Epoch 3/10\n",
      "5/5 [==============================] - 0s 3ms/step - loss: 0.1063 - mean_squared_error: 0.1063\n",
      "Epoch 4/10\n",
      "5/5 [==============================] - 0s 3ms/step - loss: 0.1063 - mean_squared_error: 0.1063\n",
      "Epoch 5/10\n",
      "5/5 [==============================] - 0s 3ms/step - loss: 0.1063 - mean_squared_error: 0.1063\n",
      "Epoch 6/10\n",
      "5/5 [==============================] - 0s 3ms/step - loss: 0.1063 - mean_squared_error: 0.1063\n",
      "Epoch 7/10\n",
      "5/5 [==============================] - 0s 3ms/step - loss: 0.1063 - mean_squared_error: 0.1063\n",
      "Epoch 8/10\n",
      "5/5 [==============================] - 0s 2ms/step - loss: 0.1063 - mean_squared_error: 0.1063\n",
      "Epoch 9/10\n",
      "5/5 [==============================] - 0s 2ms/step - loss: 0.1063 - mean_squared_error: 0.1063\n",
      "Epoch 10/10\n",
      "5/5 [==============================] - 0s 2ms/step - loss: 0.1063 - mean_squared_error: 0.1063\n"
     ]
    },
    {
     "data": {
      "text/plain": [
       "<tensorflow.python.keras.callbacks.History at 0x278b10ab048>"
      ]
     },
     "execution_count": 19,
     "metadata": {},
     "output_type": "execute_result"
    }
   ],
   "source": [
    "# using 10 epochs\n",
    "model_RNN = Sequential()\n",
    "model_RNN.add(SimpleRNN(1,activation = 'relu'))\n",
    "model_RNN.add(Dense(1,activation = 'relu'))\n",
    "model_RNN.compile(loss='mean_squared_error', optimizer='adam', metrics=['mean_squared_error'])\n",
    "model_RNN.fit(bitcoin_trainX, bitcoin_trainY, epochs=10, batch_size=240, verbose=1)"
   ]
  },
  {
   "cell_type": "code",
   "execution_count": 20,
   "metadata": {},
   "outputs": [],
   "source": [
    "# make predictions\n",
    "bitcoin_trainPredict_RNN = model_RNN.predict(bitcoin_trainX)\n",
    "bitcoin_testPredict_RNN = model_RNN.predict(bitcoin_testX)"
   ]
  },
  {
   "cell_type": "code",
   "execution_count": 21,
   "metadata": {},
   "outputs": [
    {
     "name": "stdout",
     "output_type": "stream",
     "text": [
      "Train RMSE for the bitcoin LSTM: 0.33\n",
      "Test RMSE for the bitcoin LSTM: 0.56\n"
     ]
    }
   ],
   "source": [
    "# calculate root mean squared error\n",
    "bitcoin_trainScore = np.sqrt(MSE(bitcoin_trainY, bitcoin_trainPredict_RNN))\n",
    "print('Train RMSE for the bitcoin LSTM: %.2f' % (bitcoin_trainScore))\n",
    "bitcoin_testScore = np.sqrt(MSE(bitcoin_testY, bitcoin_testPredict_RNN))\n",
    "print('Test RMSE for the bitcoin LSTM: %.2f' % (bitcoin_testScore))"
   ]
  },
  {
   "cell_type": "markdown",
   "metadata": {},
   "source": [
    "We see that using 10 epochs resulted in not so good predictions as the model was not able to learn properly, it is underfitting. The accuracy is very low as well. Let's try with more epochs"
   ]
  },
  {
   "cell_type": "code",
   "execution_count": 22,
   "metadata": {},
   "outputs": [
    {
     "name": "stdout",
     "output_type": "stream",
     "text": [
      "Epoch 1/100\n",
      "5/5 [==============================] - 0s 2ms/step - loss: 0.1063 - mean_squared_error: 0.1063\n",
      "Epoch 2/100\n",
      "5/5 [==============================] - 0s 2ms/step - loss: 0.1063 - mean_squared_error: 0.1063\n",
      "Epoch 3/100\n",
      "5/5 [==============================] - 0s 3ms/step - loss: 0.1063 - mean_squared_error: 0.1063\n",
      "Epoch 4/100\n",
      "5/5 [==============================] - 0s 3ms/step - loss: 0.1063 - mean_squared_error: 0.1063\n",
      "Epoch 5/100\n",
      "5/5 [==============================] - 0s 3ms/step - loss: 0.1063 - mean_squared_error: 0.1063\n",
      "Epoch 6/100\n",
      "5/5 [==============================] - 0s 2ms/step - loss: 0.1063 - mean_squared_error: 0.1063\n",
      "Epoch 7/100\n",
      "5/5 [==============================] - 0s 2ms/step - loss: 0.1063 - mean_squared_error: 0.1063\n",
      "Epoch 8/100\n",
      "5/5 [==============================] - 0s 2ms/step - loss: 0.1063 - mean_squared_error: 0.1063\n",
      "Epoch 9/100\n",
      "5/5 [==============================] - 0s 3ms/step - loss: 0.1063 - mean_squared_error: 0.1063\n",
      "Epoch 10/100\n",
      "5/5 [==============================] - 0s 2ms/step - loss: 0.1063 - mean_squared_error: 0.1063\n",
      "Epoch 11/100\n",
      "5/5 [==============================] - 0s 2ms/step - loss: 0.1063 - mean_squared_error: 0.1063\n",
      "Epoch 12/100\n",
      "5/5 [==============================] - 0s 3ms/step - loss: 0.1063 - mean_squared_error: 0.1063\n",
      "Epoch 13/100\n",
      "5/5 [==============================] - 0s 3ms/step - loss: 0.1063 - mean_squared_error: 0.1063\n",
      "Epoch 14/100\n",
      "5/5 [==============================] - 0s 3ms/step - loss: 0.1063 - mean_squared_error: 0.1063\n",
      "Epoch 15/100\n",
      "5/5 [==============================] - 0s 3ms/step - loss: 0.1063 - mean_squared_error: 0.1063\n",
      "Epoch 16/100\n",
      "5/5 [==============================] - 0s 3ms/step - loss: 0.1063 - mean_squared_error: 0.1063\n",
      "Epoch 17/100\n",
      "5/5 [==============================] - 0s 2ms/step - loss: 0.1063 - mean_squared_error: 0.1063\n",
      "Epoch 18/100\n",
      "5/5 [==============================] - 0s 3ms/step - loss: 0.1063 - mean_squared_error: 0.1063\n",
      "Epoch 19/100\n",
      "5/5 [==============================] - 0s 2ms/step - loss: 0.1063 - mean_squared_error: 0.1063\n",
      "Epoch 20/100\n",
      "5/5 [==============================] - 0s 2ms/step - loss: 0.1063 - mean_squared_error: 0.1063\n",
      "Epoch 21/100\n",
      "5/5 [==============================] - 0s 2ms/step - loss: 0.1063 - mean_squared_error: 0.1063\n",
      "Epoch 22/100\n",
      "5/5 [==============================] - 0s 3ms/step - loss: 0.1063 - mean_squared_error: 0.1063\n",
      "Epoch 23/100\n",
      "5/5 [==============================] - 0s 3ms/step - loss: 0.1063 - mean_squared_error: 0.1063\n",
      "Epoch 24/100\n",
      "5/5 [==============================] - 0s 2ms/step - loss: 0.1063 - mean_squared_error: 0.1063\n",
      "Epoch 25/100\n",
      "5/5 [==============================] - 0s 2ms/step - loss: 0.1063 - mean_squared_error: 0.1063\n",
      "Epoch 26/100\n",
      "5/5 [==============================] - 0s 2ms/step - loss: 0.1063 - mean_squared_error: 0.1063\n",
      "Epoch 27/100\n",
      "5/5 [==============================] - 0s 2ms/step - loss: 0.1063 - mean_squared_error: 0.1063\n",
      "Epoch 28/100\n",
      "5/5 [==============================] - 0s 2ms/step - loss: 0.1063 - mean_squared_error: 0.1063\n",
      "Epoch 29/100\n",
      "5/5 [==============================] - 0s 2ms/step - loss: 0.1063 - mean_squared_error: 0.1063\n",
      "Epoch 30/100\n",
      "5/5 [==============================] - 0s 3ms/step - loss: 0.1063 - mean_squared_error: 0.1063\n",
      "Epoch 31/100\n",
      "5/5 [==============================] - 0s 2ms/step - loss: 0.1063 - mean_squared_error: 0.1063\n",
      "Epoch 32/100\n",
      "5/5 [==============================] - 0s 2ms/step - loss: 0.1063 - mean_squared_error: 0.1063\n",
      "Epoch 33/100\n",
      "5/5 [==============================] - 0s 3ms/step - loss: 0.1063 - mean_squared_error: 0.1063\n",
      "Epoch 34/100\n",
      "5/5 [==============================] - 0s 3ms/step - loss: 0.1063 - mean_squared_error: 0.1063\n",
      "Epoch 35/100\n",
      "5/5 [==============================] - 0s 2ms/step - loss: 0.1063 - mean_squared_error: 0.1063\n",
      "Epoch 36/100\n",
      "5/5 [==============================] - 0s 2ms/step - loss: 0.1063 - mean_squared_error: 0.1063\n",
      "Epoch 37/100\n",
      "5/5 [==============================] - 0s 2ms/step - loss: 0.1063 - mean_squared_error: 0.1063\n",
      "Epoch 38/100\n",
      "5/5 [==============================] - 0s 2ms/step - loss: 0.1063 - mean_squared_error: 0.1063\n",
      "Epoch 39/100\n",
      "5/5 [==============================] - 0s 2ms/step - loss: 0.1063 - mean_squared_error: 0.1063\n",
      "Epoch 40/100\n",
      "5/5 [==============================] - 0s 2ms/step - loss: 0.1063 - mean_squared_error: 0.1063\n",
      "Epoch 41/100\n",
      "5/5 [==============================] - 0s 2ms/step - loss: 0.1063 - mean_squared_error: 0.1063\n",
      "Epoch 42/100\n",
      "5/5 [==============================] - 0s 2ms/step - loss: 0.1063 - mean_squared_error: 0.1063\n",
      "Epoch 43/100\n",
      "5/5 [==============================] - 0s 2ms/step - loss: 0.1063 - mean_squared_error: 0.1063\n",
      "Epoch 44/100\n",
      "5/5 [==============================] - 0s 3ms/step - loss: 0.1063 - mean_squared_error: 0.1063\n",
      "Epoch 45/100\n",
      "5/5 [==============================] - 0s 2ms/step - loss: 0.1063 - mean_squared_error: 0.1063\n",
      "Epoch 46/100\n",
      "5/5 [==============================] - 0s 3ms/step - loss: 0.1063 - mean_squared_error: 0.1063\n",
      "Epoch 47/100\n",
      "5/5 [==============================] - ETA: 0s - loss: 0.1133 - mean_squared_error: 0.11 - 0s 2ms/step - loss: 0.1063 - mean_squared_error: 0.1063\n",
      "Epoch 48/100\n",
      "5/5 [==============================] - 0s 2ms/step - loss: 0.1063 - mean_squared_error: 0.1063\n",
      "Epoch 49/100\n",
      "5/5 [==============================] - 0s 3ms/step - loss: 0.1063 - mean_squared_error: 0.1063\n",
      "Epoch 50/100\n",
      "5/5 [==============================] - 0s 2ms/step - loss: 0.1063 - mean_squared_error: 0.1063\n",
      "Epoch 51/100\n",
      "5/5 [==============================] - 0s 2ms/step - loss: 0.1063 - mean_squared_error: 0.1063\n",
      "Epoch 52/100\n",
      "5/5 [==============================] - 0s 2ms/step - loss: 0.1063 - mean_squared_error: 0.1063\n",
      "Epoch 53/100\n",
      "5/5 [==============================] - 0s 2ms/step - loss: 0.1063 - mean_squared_error: 0.1063\n",
      "Epoch 54/100\n",
      "5/5 [==============================] - 0s 3ms/step - loss: 0.1063 - mean_squared_error: 0.1063\n",
      "Epoch 55/100\n",
      "5/5 [==============================] - 0s 2ms/step - loss: 0.1063 - mean_squared_error: 0.1063\n",
      "Epoch 56/100\n",
      "5/5 [==============================] - 0s 2ms/step - loss: 0.1063 - mean_squared_error: 0.1063\n",
      "Epoch 57/100\n",
      "5/5 [==============================] - 0s 2ms/step - loss: 0.1063 - mean_squared_error: 0.1063\n",
      "Epoch 58/100\n",
      "5/5 [==============================] - 0s 2ms/step - loss: 0.1063 - mean_squared_error: 0.1063\n",
      "Epoch 59/100\n",
      "5/5 [==============================] - 0s 2ms/step - loss: 0.1063 - mean_squared_error: 0.1063\n",
      "Epoch 60/100\n",
      "5/5 [==============================] - 0s 2ms/step - loss: 0.1063 - mean_squared_error: 0.1063\n",
      "Epoch 61/100\n",
      "5/5 [==============================] - 0s 2ms/step - loss: 0.1063 - mean_squared_error: 0.1063\n",
      "Epoch 62/100\n",
      "5/5 [==============================] - 0s 2ms/step - loss: 0.1063 - mean_squared_error: 0.1063\n",
      "Epoch 63/100\n",
      "5/5 [==============================] - 0s 2ms/step - loss: 0.1063 - mean_squared_error: 0.1063\n",
      "Epoch 64/100\n",
      "5/5 [==============================] - 0s 2ms/step - loss: 0.1063 - mean_squared_error: 0.1063\n",
      "Epoch 65/100\n",
      "5/5 [==============================] - 0s 2ms/step - loss: 0.1063 - mean_squared_error: 0.1063\n",
      "Epoch 66/100\n",
      "5/5 [==============================] - 0s 2ms/step - loss: 0.1063 - mean_squared_error: 0.1063\n",
      "Epoch 67/100\n",
      "5/5 [==============================] - 0s 2ms/step - loss: 0.1063 - mean_squared_error: 0.1063\n",
      "Epoch 68/100\n",
      "5/5 [==============================] - 0s 2ms/step - loss: 0.1063 - mean_squared_error: 0.1063\n",
      "Epoch 69/100\n",
      "5/5 [==============================] - 0s 2ms/step - loss: 0.1063 - mean_squared_error: 0.1063\n",
      "Epoch 70/100\n",
      "5/5 [==============================] - 0s 2ms/step - loss: 0.1063 - mean_squared_error: 0.1063\n",
      "Epoch 71/100\n",
      "5/5 [==============================] - 0s 2ms/step - loss: 0.1063 - mean_squared_error: 0.1063\n",
      "Epoch 72/100\n",
      "5/5 [==============================] - 0s 2ms/step - loss: 0.1063 - mean_squared_error: 0.1063\n",
      "Epoch 73/100\n",
      "5/5 [==============================] - 0s 2ms/step - loss: 0.1063 - mean_squared_error: 0.1063\n",
      "Epoch 74/100\n",
      "5/5 [==============================] - 0s 2ms/step - loss: 0.1063 - mean_squared_error: 0.1063\n",
      "Epoch 75/100\n",
      "5/5 [==============================] - 0s 2ms/step - loss: 0.1063 - mean_squared_error: 0.1063\n",
      "Epoch 76/100\n"
     ]
    },
    {
     "name": "stdout",
     "output_type": "stream",
     "text": [
      "5/5 [==============================] - 0s 2ms/step - loss: 0.1063 - mean_squared_error: 0.1063\n",
      "Epoch 77/100\n",
      "5/5 [==============================] - 0s 2ms/step - loss: 0.1063 - mean_squared_error: 0.1063\n",
      "Epoch 78/100\n",
      "5/5 [==============================] - 0s 2ms/step - loss: 0.1063 - mean_squared_error: 0.1063\n",
      "Epoch 79/100\n",
      "5/5 [==============================] - 0s 2ms/step - loss: 0.1063 - mean_squared_error: 0.1063\n",
      "Epoch 80/100\n",
      "5/5 [==============================] - 0s 3ms/step - loss: 0.1063 - mean_squared_error: 0.1063\n",
      "Epoch 81/100\n",
      "5/5 [==============================] - 0s 2ms/step - loss: 0.1063 - mean_squared_error: 0.1063\n",
      "Epoch 82/100\n",
      "5/5 [==============================] - 0s 3ms/step - loss: 0.1063 - mean_squared_error: 0.1063\n",
      "Epoch 83/100\n",
      "5/5 [==============================] - 0s 2ms/step - loss: 0.1063 - mean_squared_error: 0.1063\n",
      "Epoch 84/100\n",
      "5/5 [==============================] - 0s 2ms/step - loss: 0.1063 - mean_squared_error: 0.1063\n",
      "Epoch 85/100\n",
      "5/5 [==============================] - 0s 2ms/step - loss: 0.1063 - mean_squared_error: 0.1063\n",
      "Epoch 86/100\n",
      "5/5 [==============================] - 0s 3ms/step - loss: 0.1063 - mean_squared_error: 0.1063\n",
      "Epoch 87/100\n",
      "5/5 [==============================] - 0s 2ms/step - loss: 0.1063 - mean_squared_error: 0.1063\n",
      "Epoch 88/100\n",
      "5/5 [==============================] - 0s 2ms/step - loss: 0.1063 - mean_squared_error: 0.1063\n",
      "Epoch 89/100\n",
      "5/5 [==============================] - 0s 2ms/step - loss: 0.1063 - mean_squared_error: 0.1063\n",
      "Epoch 90/100\n",
      "5/5 [==============================] - 0s 2ms/step - loss: 0.1063 - mean_squared_error: 0.1063\n",
      "Epoch 91/100\n",
      "5/5 [==============================] - 0s 2ms/step - loss: 0.1063 - mean_squared_error: 0.1063\n",
      "Epoch 92/100\n",
      "5/5 [==============================] - 0s 2ms/step - loss: 0.1063 - mean_squared_error: 0.1063\n",
      "Epoch 93/100\n",
      "5/5 [==============================] - 0s 2ms/step - loss: 0.1063 - mean_squared_error: 0.1063\n",
      "Epoch 94/100\n",
      "5/5 [==============================] - 0s 2ms/step - loss: 0.1063 - mean_squared_error: 0.1063\n",
      "Epoch 95/100\n",
      "5/5 [==============================] - 0s 2ms/step - loss: 0.1063 - mean_squared_error: 0.1063\n",
      "Epoch 96/100\n",
      "5/5 [==============================] - 0s 2ms/step - loss: 0.1063 - mean_squared_error: 0.1063\n",
      "Epoch 97/100\n",
      "5/5 [==============================] - 0s 2ms/step - loss: 0.1063 - mean_squared_error: 0.1063\n",
      "Epoch 98/100\n",
      "5/5 [==============================] - 0s 2ms/step - loss: 0.1063 - mean_squared_error: 0.1063\n",
      "Epoch 99/100\n",
      "5/5 [==============================] - 0s 2ms/step - loss: 0.1063 - mean_squared_error: 0.1063\n",
      "Epoch 100/100\n",
      "5/5 [==============================] - 0s 2ms/step - loss: 0.1063 - mean_squared_error: 0.1063\n"
     ]
    },
    {
     "data": {
      "text/plain": [
       "<tensorflow.python.keras.callbacks.History at 0x278b265dda0>"
      ]
     },
     "execution_count": 22,
     "metadata": {},
     "output_type": "execute_result"
    }
   ],
   "source": [
    "# using 100 epochs\n",
    "model_RNN = Sequential()\n",
    "model_RNN.add(SimpleRNN(1,activation = 'relu'))\n",
    "model_RNN.add(Dense(1,activation = 'relu'))\n",
    "model_RNN.compile(loss='mean_squared_error', optimizer='adam', metrics=['mean_squared_error'])\n",
    "model_RNN.fit(bitcoin_trainX, bitcoin_trainY, epochs=100, batch_size=240, verbose=1)"
   ]
  },
  {
   "cell_type": "code",
   "execution_count": 23,
   "metadata": {},
   "outputs": [],
   "source": [
    "# make predictions\n",
    "bitcoin_trainPredict_RNN = model_RNN.predict(bitcoin_trainX)\n",
    "bitcoin_testPredict_RNN = model_RNN.predict(bitcoin_testX)"
   ]
  },
  {
   "cell_type": "code",
   "execution_count": 24,
   "metadata": {},
   "outputs": [
    {
     "name": "stdout",
     "output_type": "stream",
     "text": [
      "Train RMSE for the bitcoin LSTM: 0.33\n",
      "Test RMSE for the bitcoin LSTM: 0.56\n"
     ]
    }
   ],
   "source": [
    "# calculate root mean squared error\n",
    "bitcoin_trainScore = np.sqrt(MSE(bitcoin_trainY, bitcoin_trainPredict_RNN))\n",
    "print('Train RMSE for the bitcoin LSTM: %.2f' % (bitcoin_trainScore))\n",
    "bitcoin_testScore = np.sqrt(MSE(bitcoin_testY, bitcoin_testPredict_RNN))\n",
    "print('Test RMSE for the bitcoin LSTM: %.2f' % (bitcoin_testScore))"
   ]
  },
  {
   "cell_type": "markdown",
   "metadata": {},
   "source": [
    "We now see the model is fitting much better and making **better predictions**."
   ]
  },
  {
   "cell_type": "markdown",
   "metadata": {},
   "source": [
    "Checking for vanishing gradient problem in RNN - using **tanh** activation"
   ]
  },
  {
   "cell_type": "code",
   "execution_count": 25,
   "metadata": {},
   "outputs": [
    {
     "name": "stdout",
     "output_type": "stream",
     "text": [
      "Epoch 1/10\n",
      "5/5 [==============================] - 0s 2ms/step - loss: 0.2545 - mean_squared_error: 0.2545\n",
      "Epoch 2/10\n",
      "5/5 [==============================] - 0s 3ms/step - loss: 0.0319 - mean_squared_error: 0.0319\n",
      "Epoch 3/10\n",
      "5/5 [==============================] - 0s 2ms/step - loss: 0.0474 - mean_squared_error: 0.0474\n",
      "Epoch 4/10\n",
      "5/5 [==============================] - 0s 2ms/step - loss: 0.0590 - mean_squared_error: 0.0590\n",
      "Epoch 5/10\n",
      "5/5 [==============================] - 0s 2ms/step - loss: 0.0476 - mean_squared_error: 0.0476\n",
      "Epoch 6/10\n",
      "5/5 [==============================] - 0s 2ms/step - loss: 0.0274 - mean_squared_error: 0.0274\n",
      "Epoch 7/10\n",
      "5/5 [==============================] - 0s 2ms/step - loss: 0.0203 - mean_squared_error: 0.0203\n",
      "Epoch 8/10\n",
      "5/5 [==============================] - 0s 3ms/step - loss: 0.0241 - mean_squared_error: 0.0241\n",
      "Epoch 9/10\n",
      "5/5 [==============================] - 0s 2ms/step - loss: 0.0192 - mean_squared_error: 0.0192\n",
      "Epoch 10/10\n",
      "5/5 [==============================] - 0s 2ms/step - loss: 0.0173 - mean_squared_error: 0.0173\n"
     ]
    },
    {
     "data": {
      "text/plain": [
       "<tensorflow.python.keras.callbacks.History at 0x278b3b06f98>"
      ]
     },
     "execution_count": 25,
     "metadata": {},
     "output_type": "execute_result"
    }
   ],
   "source": [
    "# using more layers - to show vanishing gradient problem\n",
    "model_RNN = Sequential()\n",
    "model_RNN.add(SimpleRNN(1,activation = 'tanh'))\n",
    "model_RNN.add(Dense(1,activation = 'tanh'))\n",
    "model_RNN.compile(loss='mean_squared_error', optimizer='adam', metrics=['mean_squared_error'])\n",
    "model_RNN.fit(bitcoin_trainX, bitcoin_trainY, epochs=10, batch_size=240, verbose=1)"
   ]
  },
  {
   "cell_type": "code",
   "execution_count": 26,
   "metadata": {},
   "outputs": [],
   "source": [
    "# make predictions\n",
    "bitcoin_trainPredict_RNN = model_RNN.predict(bitcoin_trainX)\n",
    "bitcoin_testPredict_RNN = model_RNN.predict(bitcoin_testX)"
   ]
  },
  {
   "cell_type": "code",
   "execution_count": 27,
   "metadata": {},
   "outputs": [
    {
     "name": "stdout",
     "output_type": "stream",
     "text": [
      "Train RMSE for the bitcoin LSTM: 0.13\n",
      "Test RMSE for the bitcoin LSTM: 0.09\n"
     ]
    }
   ],
   "source": [
    "# calculate root mean squared error\n",
    "bitcoin_trainScore = np.sqrt(MSE(bitcoin_trainY, bitcoin_trainPredict_RNN))\n",
    "print('Train RMSE for the bitcoin LSTM: %.2f' % (bitcoin_trainScore))\n",
    "bitcoin_testScore = np.sqrt(MSE(bitcoin_testY, bitcoin_testPredict_RNN))\n",
    "print('Test RMSE for the bitcoin LSTM: %.2f' % (bitcoin_testScore))"
   ]
  },
  {
   "cell_type": "markdown",
   "metadata": {},
   "source": [
    "We see there is Vanishing Gradient Problem as model is not learning, because weights are not updated"
   ]
  },
  {
   "cell_type": "markdown",
   "metadata": {},
   "source": [
    "### LSTM - Long Short Term Memory"
   ]
  },
  {
   "cell_type": "code",
   "execution_count": 28,
   "metadata": {},
   "outputs": [
    {
     "name": "stdout",
     "output_type": "stream",
     "text": [
      "Epoch 1/100\n",
      "5/5 [==============================] - 0s 4ms/step - loss: 0.0539 - mean_squared_error: 0.0539\n",
      "Epoch 2/100\n",
      "5/5 [==============================] - 0s 4ms/step - loss: 0.0328 - mean_squared_error: 0.0328\n",
      "Epoch 3/100\n",
      "5/5 [==============================] - 0s 4ms/step - loss: 0.0148 - mean_squared_error: 0.0148\n",
      "Epoch 4/100\n",
      "5/5 [==============================] - 0s 4ms/step - loss: 0.0143 - mean_squared_error: 0.0143\n",
      "Epoch 5/100\n",
      "5/5 [==============================] - 0s 4ms/step - loss: 0.0093 - mean_squared_error: 0.0093\n",
      "Epoch 6/100\n",
      "5/5 [==============================] - 0s 4ms/step - loss: 0.0083 - mean_squared_error: 0.0083\n",
      "Epoch 7/100\n",
      "5/5 [==============================] - 0s 4ms/step - loss: 0.0071 - mean_squared_error: 0.0071\n",
      "Epoch 8/100\n",
      "5/5 [==============================] - 0s 4ms/step - loss: 0.0065 - mean_squared_error: 0.0065\n",
      "Epoch 9/100\n",
      "5/5 [==============================] - 0s 5ms/step - loss: 0.0062 - mean_squared_error: 0.0062\n",
      "Epoch 10/100\n",
      "5/5 [==============================] - 0s 4ms/step - loss: 0.0061 - mean_squared_error: 0.0061\n",
      "Epoch 11/100\n",
      "5/5 [==============================] - 0s 5ms/step - loss: 0.0060 - mean_squared_error: 0.0060\n",
      "Epoch 12/100\n",
      "5/5 [==============================] - 0s 5ms/step - loss: 0.0055 - mean_squared_error: 0.0055\n",
      "Epoch 13/100\n",
      "5/5 [==============================] - 0s 4ms/step - loss: 0.0050 - mean_squared_error: 0.0050\n",
      "Epoch 14/100\n",
      "5/5 [==============================] - 0s 3ms/step - loss: 0.0048 - mean_squared_error: 0.0048\n",
      "Epoch 15/100\n",
      "5/5 [==============================] - 0s 4ms/step - loss: 0.0046 - mean_squared_error: 0.0046\n",
      "Epoch 16/100\n",
      "5/5 [==============================] - 0s 4ms/step - loss: 0.0043 - mean_squared_error: 0.0043\n",
      "Epoch 17/100\n",
      "5/5 [==============================] - 0s 4ms/step - loss: 0.0043 - mean_squared_error: 0.0043\n",
      "Epoch 18/100\n",
      "5/5 [==============================] - 0s 4ms/step - loss: 0.0041 - mean_squared_error: 0.0041\n",
      "Epoch 19/100\n",
      "5/5 [==============================] - 0s 4ms/step - loss: 0.0036 - mean_squared_error: 0.0036\n",
      "Epoch 20/100\n",
      "5/5 [==============================] - 0s 4ms/step - loss: 0.0038 - mean_squared_error: 0.0038\n",
      "Epoch 21/100\n",
      "5/5 [==============================] - 0s 4ms/step - loss: 0.0033 - mean_squared_error: 0.0033\n",
      "Epoch 22/100\n",
      "5/5 [==============================] - 0s 4ms/step - loss: 0.0035 - mean_squared_error: 0.0035\n",
      "Epoch 23/100\n",
      "5/5 [==============================] - 0s 4ms/step - loss: 0.0032 - mean_squared_error: 0.0032\n",
      "Epoch 24/100\n",
      "5/5 [==============================] - 0s 4ms/step - loss: 0.0031 - mean_squared_error: 0.0031\n",
      "Epoch 25/100\n",
      "5/5 [==============================] - 0s 4ms/step - loss: 0.0031 - mean_squared_error: 0.0031\n",
      "Epoch 26/100\n",
      "5/5 [==============================] - 0s 4ms/step - loss: 0.0029 - mean_squared_error: 0.0029\n",
      "Epoch 27/100\n",
      "5/5 [==============================] - 0s 4ms/step - loss: 0.0030 - mean_squared_error: 0.0030\n",
      "Epoch 28/100\n",
      "5/5 [==============================] - 0s 5ms/step - loss: 0.0030 - mean_squared_error: 0.0030\n",
      "Epoch 29/100\n",
      "5/5 [==============================] - 0s 3ms/step - loss: 0.0028 - mean_squared_error: 0.0028\n",
      "Epoch 30/100\n",
      "5/5 [==============================] - 0s 4ms/step - loss: 0.0028 - mean_squared_error: 0.0028\n",
      "Epoch 31/100\n",
      "5/5 [==============================] - 0s 4ms/step - loss: 0.0025 - mean_squared_error: 0.0025\n",
      "Epoch 32/100\n",
      "5/5 [==============================] - 0s 4ms/step - loss: 0.0025 - mean_squared_error: 0.0025\n",
      "Epoch 33/100\n",
      "5/5 [==============================] - 0s 4ms/step - loss: 0.0026 - mean_squared_error: 0.0026\n",
      "Epoch 34/100\n",
      "5/5 [==============================] - 0s 4ms/step - loss: 0.0025 - mean_squared_error: 0.0025\n",
      "Epoch 35/100\n",
      "5/5 [==============================] - 0s 4ms/step - loss: 0.0024 - mean_squared_error: 0.0024\n",
      "Epoch 36/100\n",
      "5/5 [==============================] - 0s 4ms/step - loss: 0.0025 - mean_squared_error: 0.0025\n",
      "Epoch 37/100\n",
      "5/5 [==============================] - 0s 4ms/step - loss: 0.0027 - mean_squared_error: 0.0027\n",
      "Epoch 38/100\n",
      "5/5 [==============================] - 0s 4ms/step - loss: 0.0021 - mean_squared_error: 0.0021\n",
      "Epoch 39/100\n",
      "5/5 [==============================] - 0s 4ms/step - loss: 0.0023 - mean_squared_error: 0.0023\n",
      "Epoch 40/100\n",
      "5/5 [==============================] - 0s 4ms/step - loss: 0.0023 - mean_squared_error: 0.0023\n",
      "Epoch 41/100\n",
      "5/5 [==============================] - 0s 4ms/step - loss: 0.0023 - mean_squared_error: 0.0023\n",
      "Epoch 42/100\n",
      "5/5 [==============================] - 0s 4ms/step - loss: 0.0021 - mean_squared_error: 0.0021\n",
      "Epoch 43/100\n",
      "5/5 [==============================] - 0s 4ms/step - loss: 0.0022 - mean_squared_error: 0.0022\n",
      "Epoch 44/100\n",
      "5/5 [==============================] - 0s 4ms/step - loss: 0.0021 - mean_squared_error: 0.0021\n",
      "Epoch 45/100\n",
      "5/5 [==============================] - 0s 4ms/step - loss: 0.0021 - mean_squared_error: 0.0021\n",
      "Epoch 46/100\n",
      "5/5 [==============================] - 0s 4ms/step - loss: 0.0020 - mean_squared_error: 0.0020\n",
      "Epoch 47/100\n",
      "5/5 [==============================] - 0s 4ms/step - loss: 0.0023 - mean_squared_error: 0.0023\n",
      "Epoch 48/100\n",
      "5/5 [==============================] - 0s 4ms/step - loss: 0.0017 - mean_squared_error: 0.0017\n",
      "Epoch 49/100\n",
      "5/5 [==============================] - 0s 4ms/step - loss: 0.0020 - mean_squared_error: 0.0020\n",
      "Epoch 50/100\n",
      "5/5 [==============================] - ETA: 0s - loss: 0.0026 - mean_squared_error: 0.00 - 0s 4ms/step - loss: 0.0018 - mean_squared_error: 0.0018\n",
      "Epoch 51/100\n",
      "5/5 [==============================] - 0s 4ms/step - loss: 0.0020 - mean_squared_error: 0.0020\n",
      "Epoch 52/100\n",
      "5/5 [==============================] - 0s 4ms/step - loss: 0.0019 - mean_squared_error: 0.0019\n",
      "Epoch 53/100\n",
      "5/5 [==============================] - 0s 4ms/step - loss: 0.0020 - mean_squared_error: 0.0020\n",
      "Epoch 54/100\n",
      "5/5 [==============================] - 0s 4ms/step - loss: 0.0019 - mean_squared_error: 0.0019\n",
      "Epoch 55/100\n",
      "5/5 [==============================] - 0s 5ms/step - loss: 0.0018 - mean_squared_error: 0.0018\n",
      "Epoch 56/100\n",
      "5/5 [==============================] - 0s 4ms/step - loss: 0.0017 - mean_squared_error: 0.0017\n",
      "Epoch 57/100\n",
      "5/5 [==============================] - 0s 4ms/step - loss: 0.0019 - mean_squared_error: 0.0019\n",
      "Epoch 58/100\n",
      "5/5 [==============================] - 0s 3ms/step - loss: 0.0017 - mean_squared_error: 0.0017\n",
      "Epoch 59/100\n",
      "5/5 [==============================] - 0s 4ms/step - loss: 0.0017 - mean_squared_error: 0.0017\n",
      "Epoch 60/100\n",
      "5/5 [==============================] - 0s 4ms/step - loss: 0.0017 - mean_squared_error: 0.0017\n",
      "Epoch 61/100\n",
      "5/5 [==============================] - 0s 4ms/step - loss: 0.0018 - mean_squared_error: 0.0018\n",
      "Epoch 62/100\n",
      "5/5 [==============================] - 0s 4ms/step - loss: 0.0017 - mean_squared_error: 0.0017\n",
      "Epoch 63/100\n",
      "5/5 [==============================] - 0s 3ms/step - loss: 0.0017 - mean_squared_error: 0.0017\n",
      "Epoch 64/100\n",
      "5/5 [==============================] - 0s 4ms/step - loss: 0.0018 - mean_squared_error: 0.0018\n",
      "Epoch 65/100\n",
      "5/5 [==============================] - 0s 4ms/step - loss: 0.0017 - mean_squared_error: 0.0017\n",
      "Epoch 66/100\n",
      "5/5 [==============================] - 0s 4ms/step - loss: 0.0017 - mean_squared_error: 0.0017\n",
      "Epoch 67/100\n",
      "5/5 [==============================] - 0s 5ms/step - loss: 0.0017 - mean_squared_error: 0.0017\n",
      "Epoch 68/100\n",
      "5/5 [==============================] - 0s 4ms/step - loss: 0.0016 - mean_squared_error: 0.0016\n",
      "Epoch 69/100\n",
      "5/5 [==============================] - 0s 4ms/step - loss: 0.0015 - mean_squared_error: 0.0015\n",
      "Epoch 70/100\n",
      "5/5 [==============================] - 0s 4ms/step - loss: 0.0014 - mean_squared_error: 0.0014\n",
      "Epoch 71/100\n",
      "5/5 [==============================] - 0s 4ms/step - loss: 0.0016 - mean_squared_error: 0.0016\n",
      "Epoch 72/100\n",
      "5/5 [==============================] - 0s 4ms/step - loss: 0.0015 - mean_squared_error: 0.0015\n",
      "Epoch 73/100\n",
      "5/5 [==============================] - 0s 3ms/step - loss: 0.0015 - mean_squared_error: 0.0015\n",
      "Epoch 74/100\n",
      "5/5 [==============================] - 0s 4ms/step - loss: 0.0015 - mean_squared_error: 0.0015\n",
      "Epoch 75/100\n",
      "5/5 [==============================] - 0s 4ms/step - loss: 0.0015 - mean_squared_error: 0.0015\n",
      "Epoch 76/100\n"
     ]
    },
    {
     "name": "stdout",
     "output_type": "stream",
     "text": [
      "5/5 [==============================] - 0s 4ms/step - loss: 0.0015 - mean_squared_error: 0.0015\n",
      "Epoch 77/100\n",
      "5/5 [==============================] - 0s 4ms/step - loss: 0.0015 - mean_squared_error: 0.0015\n",
      "Epoch 78/100\n",
      "5/5 [==============================] - 0s 5ms/step - loss: 0.0013 - mean_squared_error: 0.0013\n",
      "Epoch 79/100\n",
      "5/5 [==============================] - 0s 4ms/step - loss: 0.0014 - mean_squared_error: 0.0014\n",
      "Epoch 80/100\n",
      "5/5 [==============================] - 0s 4ms/step - loss: 0.0015 - mean_squared_error: 0.0015\n",
      "Epoch 81/100\n",
      "5/5 [==============================] - 0s 4ms/step - loss: 0.0014 - mean_squared_error: 0.0014\n",
      "Epoch 82/100\n",
      "5/5 [==============================] - 0s 4ms/step - loss: 0.0014 - mean_squared_error: 0.0014\n",
      "Epoch 83/100\n",
      "5/5 [==============================] - 0s 4ms/step - loss: 0.0015 - mean_squared_error: 0.0015\n",
      "Epoch 84/100\n",
      "5/5 [==============================] - 0s 4ms/step - loss: 0.0015 - mean_squared_error: 0.0015\n",
      "Epoch 85/100\n",
      "5/5 [==============================] - 0s 4ms/step - loss: 0.0015 - mean_squared_error: 0.0015\n",
      "Epoch 86/100\n",
      "5/5 [==============================] - 0s 4ms/step - loss: 0.0014 - mean_squared_error: 0.0014\n",
      "Epoch 87/100\n",
      "5/5 [==============================] - 0s 4ms/step - loss: 0.0013 - mean_squared_error: 0.0013    \n",
      "Epoch 88/100\n",
      "5/5 [==============================] - 0s 4ms/step - loss: 0.0014 - mean_squared_error: 0.0014\n",
      "Epoch 89/100\n",
      "5/5 [==============================] - 0s 5ms/step - loss: 0.0013 - mean_squared_error: 0.0013\n",
      "Epoch 90/100\n",
      "5/5 [==============================] - 0s 4ms/step - loss: 0.0013 - mean_squared_error: 0.0013    \n",
      "Epoch 91/100\n",
      "5/5 [==============================] - 0s 4ms/step - loss: 0.0013 - mean_squared_error: 0.0013\n",
      "Epoch 92/100\n",
      "5/5 [==============================] - 0s 4ms/step - loss: 0.0013 - mean_squared_error: 0.0013    \n",
      "Epoch 93/100\n",
      "5/5 [==============================] - 0s 4ms/step - loss: 0.0013 - mean_squared_error: 0.0013\n",
      "Epoch 94/100\n",
      "5/5 [==============================] - 0s 4ms/step - loss: 0.0014 - mean_squared_error: 0.0014\n",
      "Epoch 95/100\n",
      "5/5 [==============================] - 0s 4ms/step - loss: 0.0013 - mean_squared_error: 0.0013\n",
      "Epoch 96/100\n",
      "5/5 [==============================] - 0s 4ms/step - loss: 0.0013 - mean_squared_error: 0.0013\n",
      "Epoch 97/100\n",
      "5/5 [==============================] - 0s 4ms/step - loss: 0.0012 - mean_squared_error: 0.0012    \n",
      "Epoch 98/100\n",
      "5/5 [==============================] - 0s 5ms/step - loss: 0.0013 - mean_squared_error: 0.0013\n",
      "Epoch 99/100\n",
      "5/5 [==============================] - 0s 4ms/step - loss: 0.0012 - mean_squared_error: 0.0012\n",
      "Epoch 100/100\n",
      "5/5 [==============================] - 0s 4ms/step - loss: 0.0014 - mean_squared_error: 0.0014\n"
     ]
    },
    {
     "data": {
      "text/plain": [
       "<tensorflow.python.keras.callbacks.History at 0x278b5d21dd8>"
      ]
     },
     "execution_count": 28,
     "metadata": {},
     "output_type": "execute_result"
    }
   ],
   "source": [
    "# create and fit the LSTM network, optimizer=adam, 25 neurons, dropout 0.1\n",
    "bitcoin_lstm_model = Sequential()\n",
    "bitcoin_lstm_model.add(LSTM(25, input_shape=(1, look_back)))\n",
    "bitcoin_lstm_model.add(Dropout(0.1))\n",
    "bitcoin_lstm_model.add(Dense(1))\n",
    "bitcoin_lstm_model.compile(loss='mean_squared_error', optimizer='adam', metrics=['mean_squared_error'])\n",
    "bitcoin_lstm_model.fit(bitcoin_trainX, bitcoin_trainY, epochs=100, batch_size=240, verbose=1)"
   ]
  },
  {
   "cell_type": "code",
   "execution_count": 29,
   "metadata": {},
   "outputs": [],
   "source": [
    "# make predictions\n",
    "bitcoin_trainPredict = bitcoin_lstm_model.predict(bitcoin_trainX)\n",
    "bitcoin_testPredict = bitcoin_lstm_model.predict(bitcoin_testX)"
   ]
  },
  {
   "cell_type": "code",
   "execution_count": 30,
   "metadata": {},
   "outputs": [
    {
     "name": "stdout",
     "output_type": "stream",
     "text": [
      "Train RMSE for the bitcoin LSTM: 0.03\n",
      "Test RMSE for the bitcoin LSTM: 0.05\n"
     ]
    }
   ],
   "source": [
    "# calculate root mean squared error\n",
    "bitcoin_trainScore = np.sqrt(MSE(bitcoin_trainY, bitcoin_trainPredict))\n",
    "print('Train RMSE for the bitcoin LSTM: %.2f' % (bitcoin_trainScore))\n",
    "bitcoin_testScore = np.sqrt(MSE(bitcoin_testY, bitcoin_testPredict))\n",
    "print('Test RMSE for the bitcoin LSTM: %.2f' % (bitcoin_testScore))"
   ]
  },
  {
   "cell_type": "code",
   "execution_count": 31,
   "metadata": {},
   "outputs": [],
   "source": [
    "# invert predictions\n",
    "bitcoin_trainPredict_reverted = scaler.inverse_transform(bitcoin_trainPredict)\n",
    "bitcoin_trainY_reverted = scaler.inverse_transform([bitcoin_trainY])\n",
    "bitcoin_testPredict_reverted = scaler.inverse_transform(bitcoin_testPredict)\n",
    "bitcoin_testY_reverted = scaler.inverse_transform([bitcoin_testY])"
   ]
  },
  {
   "cell_type": "code",
   "execution_count": 32,
   "metadata": {},
   "outputs": [],
   "source": [
    "# shift train predictions for plotting\n",
    "bitcoin_trainPredictPlot = np.empty_like(bitcoin_dataset)\n",
    "bitcoin_trainPredictPlot[:, :] = np.nan\n",
    "bitcoin_trainPredictPlot[look_back:len(bitcoin_trainPredict_reverted)+look_back, :] = bitcoin_trainPredict_reverted"
   ]
  },
  {
   "cell_type": "code",
   "execution_count": 33,
   "metadata": {},
   "outputs": [],
   "source": [
    "# shift test predictions for plotting\n",
    "bitcoin_testPredictPlot = np.empty_like(bitcoin_dataset)\n",
    "bitcoin_testPredictPlot[:, :] = np.nan\n",
    "bitcoin_testPredictPlot[len(bitcoin_trainPredict_reverted)+(look_back*2)+1:len(bitcoin_dataset)-1, :] = bitcoin_testPredict_reverted"
   ]
  },
  {
   "cell_type": "code",
   "execution_count": 34,
   "metadata": {},
   "outputs": [
    {
     "data": {
      "text/plain": [
       "[<matplotlib.lines.Line2D at 0x278b91f77f0>]"
      ]
     },
     "execution_count": 34,
     "metadata": {},
     "output_type": "execute_result"
    },
    {
     "data": {
      "image/png": "[encoded data removed]",
      "text/plain": [
       "<Figure size 1152x576 with 1 Axes>"
      ]
     },
     "metadata": {
      "needs_background": "light"
     },
     "output_type": "display_data"
    }
   ],
   "source": [
    "# plot baseline and predictions\n",
    "plt.figure(figsize=(16,8))\n",
    "plt.plot(scaler.inverse_transform(bitcoin_dataset))\n",
    "plt.plot(bitcoin_trainPredictPlot)\n",
    "plt.plot(bitcoin_testPredictPlot)"
   ]
  },
  {
   "cell_type": "markdown",
   "metadata": {},
   "source": [
    "Using a different optimizer - **Stochastic Gradient Descent**"
   ]
  },
  {
   "cell_type": "code",
   "execution_count": 35,
   "metadata": {
    "scrolled": true
   },
   "outputs": [
    {
     "name": "stdout",
     "output_type": "stream",
     "text": [
      "Epoch 1/10\n",
      "5/5 [==============================] - 0s 5ms/step - loss: 0.1104 - mean_squared_error: 0.1104\n",
      "Epoch 2/10\n",
      "5/5 [==============================] - 0s 5ms/step - loss: 0.0803 - mean_squared_error: 0.0803\n",
      "Epoch 3/10\n",
      "5/5 [==============================] - 0s 5ms/step - loss: 0.0597 - mean_squared_error: 0.0597\n",
      "Epoch 4/10\n",
      "5/5 [==============================] - 0s 5ms/step - loss: 0.0479 - mean_squared_error: 0.0479\n",
      "Epoch 5/10\n",
      "5/5 [==============================] - 0s 5ms/step - loss: 0.0397 - mean_squared_error: 0.0397\n",
      "Epoch 6/10\n",
      "5/5 [==============================] - ETA: 0s - loss: 0.0359 - mean_squared_error: 0.03 - 0s 4ms/step - loss: 0.0343 - mean_squared_error: 0.0343\n",
      "Epoch 7/10\n",
      "5/5 [==============================] - 0s 4ms/step - loss: 0.0314 - mean_squared_error: 0.0314\n",
      "Epoch 8/10\n",
      "5/5 [==============================] - 0s 4ms/step - loss: 0.0280 - mean_squared_error: 0.0280\n",
      "Epoch 9/10\n",
      "5/5 [==============================] - 0s 3ms/step - loss: 0.0268 - mean_squared_error: 0.0268\n",
      "Epoch 10/10\n",
      "5/5 [==============================] - 0s 4ms/step - loss: 0.0261 - mean_squared_error: 0.0261\n"
     ]
    },
    {
     "data": {
      "text/plain": [
       "<tensorflow.python.keras.callbacks.History at 0x278b93f5a58>"
      ]
     },
     "execution_count": 35,
     "metadata": {},
     "output_type": "execute_result"
    }
   ],
   "source": [
    "# create and fit the LSTM network, optimizer=SGD, 25 neurons, dropout 0.1\n",
    "bitcoin_lstm_model = Sequential()\n",
    "bitcoin_lstm_model.add(LSTM(25, input_shape=(1, look_back)))\n",
    "bitcoin_lstm_model.add(Dropout(0.1))\n",
    "bitcoin_lstm_model.add(Dense(1))\n",
    "bitcoin_lstm_model.compile(loss='mean_squared_error', optimizer='SGD',metrics=['mean_squared_error'])\n",
    "bitcoin_lstm_model.fit(bitcoin_trainX, bitcoin_trainY, epochs=10, batch_size=240, verbose=1)"
   ]
  },
  {
   "cell_type": "code",
   "execution_count": 36,
   "metadata": {},
   "outputs": [],
   "source": [
    "# make predictions\n",
    "bitcoin_trainPredict = bitcoin_lstm_model.predict(bitcoin_trainX)\n",
    "bitcoin_testPredict = bitcoin_lstm_model.predict(bitcoin_testX)"
   ]
  },
  {
   "cell_type": "code",
   "execution_count": 37,
   "metadata": {},
   "outputs": [
    {
     "name": "stdout",
     "output_type": "stream",
     "text": [
      "Train RMSE for the bitcoin LSTM: 0.15\n",
      "Test RMSE for the bitcoin LSTM: 0.21\n"
     ]
    }
   ],
   "source": [
    "# calculate root mean squared error\n",
    "bitcoin_trainScore = np.sqrt(MSE(bitcoin_trainY, bitcoin_trainPredict))\n",
    "print('Train RMSE for the bitcoin LSTM: %.2f' % (bitcoin_trainScore))\n",
    "bitcoin_testScore = np.sqrt(MSE(bitcoin_testY, bitcoin_testPredict))\n",
    "print('Test RMSE for the bitcoin LSTM: %.2f' % (bitcoin_testScore))"
   ]
  },
  {
   "cell_type": "markdown",
   "metadata": {},
   "source": [
    "We see **Stochastic Gradient Descent** is not that effective as **ADAM** when it comes to optimizing the cost function"
   ]
  },
  {
   "cell_type": "markdown",
   "metadata": {},
   "source": [
    "Using a different optimizer - **AdaGrad**"
   ]
  },
  {
   "cell_type": "code",
   "execution_count": 38,
   "metadata": {},
   "outputs": [
    {
     "name": "stdout",
     "output_type": "stream",
     "text": [
      "Epoch 1/10\n",
      "5/5 [==============================] - 0s 4ms/step - loss: 0.1245 - mean_squared_error: 0.1245\n",
      "Epoch 2/10\n",
      "5/5 [==============================] - 0s 4ms/step - loss: 0.1120 - mean_squared_error: 0.1120\n",
      "Epoch 3/10\n",
      "5/5 [==============================] - 0s 4ms/step - loss: 0.0983 - mean_squared_error: 0.0983\n",
      "Epoch 4/10\n",
      "5/5 [==============================] - 0s 4ms/step - loss: 0.0881 - mean_squared_error: 0.0881\n",
      "Epoch 5/10\n",
      "5/5 [==============================] - 0s 3ms/step - loss: 0.0812 - mean_squared_error: 0.0812\n",
      "Epoch 6/10\n",
      "5/5 [==============================] - 0s 4ms/step - loss: 0.0726 - mean_squared_error: 0.0726\n",
      "Epoch 7/10\n",
      "5/5 [==============================] - 0s 4ms/step - loss: 0.0680 - mean_squared_error: 0.0680\n",
      "Epoch 8/10\n",
      "5/5 [==============================] - 0s 4ms/step - loss: 0.0649 - mean_squared_error: 0.0649\n",
      "Epoch 9/10\n",
      "5/5 [==============================] - 0s 4ms/step - loss: 0.0591 - mean_squared_error: 0.0591\n",
      "Epoch 10/10\n",
      "5/5 [==============================] - 0s 4ms/step - loss: 0.0557 - mean_squared_error: 0.0557\n"
     ]
    },
    {
     "data": {
      "text/plain": [
       "<tensorflow.python.keras.callbacks.History at 0x278bcc06d68>"
      ]
     },
     "execution_count": 38,
     "metadata": {},
     "output_type": "execute_result"
    }
   ],
   "source": [
    "# create and fit the LSTM network, optimizer=SGD, 25 neurons, dropout 0.1\n",
    "bitcoin_lstm_model = Sequential()\n",
    "bitcoin_lstm_model.add(LSTM(25, input_shape=(1, look_back)))\n",
    "bitcoin_lstm_model.add(Dropout(0.1))\n",
    "bitcoin_lstm_model.add(Dense(1))\n",
    "bitcoin_lstm_model.compile(loss='mean_squared_error', optimizer='Adagrad',metrics=['mean_squared_error'])\n",
    "bitcoin_lstm_model.fit(bitcoin_trainX, bitcoin_trainY, epochs=10, batch_size=240, verbose=1)"
   ]
  },
  {
   "cell_type": "code",
   "execution_count": 39,
   "metadata": {},
   "outputs": [],
   "source": [
    "# make predictions\n",
    "bitcoin_trainPredict = bitcoin_lstm_model.predict(bitcoin_trainX)\n",
    "bitcoin_testPredict = bitcoin_lstm_model.predict(bitcoin_testX)"
   ]
  },
  {
   "cell_type": "code",
   "execution_count": 40,
   "metadata": {},
   "outputs": [
    {
     "name": "stdout",
     "output_type": "stream",
     "text": [
      "Train RMSE for the bitcoin LSTM: 0.23\n",
      "Test RMSE for the bitcoin LSTM: 0.33\n"
     ]
    }
   ],
   "source": [
    "# calculate root mean squared error\n",
    "bitcoin_trainScore = np.sqrt(MSE(bitcoin_trainY, bitcoin_trainPredict))\n",
    "print('Train RMSE for the bitcoin LSTM: %.2f' % (bitcoin_trainScore))\n",
    "bitcoin_testScore = np.sqrt(MSE(bitcoin_testY, bitcoin_testPredict))\n",
    "print('Test RMSE for the bitcoin LSTM: %.2f' % (bitcoin_testScore))"
   ]
  },
  {
   "cell_type": "markdown",
   "metadata": {},
   "source": [
    "**AdaGrad** also not performing that well"
   ]
  },
  {
   "cell_type": "code",
   "execution_count": null,
   "metadata": {},
   "outputs": [],
   "source": []
  }
 ],
 "metadata": {
  "kernelspec": {
   "display_name": "Python 3",
   "language": "python",
   "name": "python3"
  },
  "language_info": {
   "codemirror_mode": {
    "name": "ipython",
    "version": 3
   },
   "file_extension": ".py",
   "mimetype": "text/x-python",
   "name": "python",
   "nbconvert_exporter": "python",
   "pygments_lexer": "ipython3",
   "version": "3.7.3"
  }
 },
 "nbformat": 4,
 "nbformat_minor": 2
}
