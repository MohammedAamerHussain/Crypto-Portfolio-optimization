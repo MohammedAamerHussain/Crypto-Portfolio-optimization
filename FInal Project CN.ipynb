{
 "cells": [
  {
   "cell_type": "code",
   "execution_count": 1,
   "metadata": {},
   "outputs": [],
   "source": [
    "import pandas as pd\n",
    "import numpy as np\n",
    "import matplotlib.pyplot as plt\n",
    "import seaborn as sns\n",
    "import statsmodels.tsa as ts\n",
    "import pmdarima as pm\n",
    "import datetime as dt\n",
    "from datetime import datetime "
   ]
  },
  {
   "cell_type": "markdown",
   "metadata": {},
   "source": [
    "## Data Prep"
   ]
  },
  {
   "cell_type": "code",
   "execution_count": 2,
   "metadata": {},
   "outputs": [
    {
     "data": {
      "text/html": [
       "<div>\n",
       "<style scoped>\n",
       "    .dataframe tbody tr th:only-of-type {\n",
       "        vertical-align: middle;\n",
       "    }\n",
       "\n",
       "    .dataframe tbody tr th {\n",
       "        vertical-align: top;\n",
       "    }\n",
       "\n",
       "    .dataframe thead th {\n",
       "        text-align: right;\n",
       "    }\n",
       "</style>\n",
       "<table border=\"1\" class=\"dataframe\">\n",
       "  <thead>\n",
       "    <tr style=\"text-align: right;\">\n",
       "      <th></th>\n",
       "      <th>Date</th>\n",
       "      <th>Open</th>\n",
       "      <th>High</th>\n",
       "      <th>Low</th>\n",
       "      <th>Close</th>\n",
       "      <th>Adj Close</th>\n",
       "      <th>Volume</th>\n",
       "      <th>Open_VIX</th>\n",
       "      <th>High_VIX</th>\n",
       "      <th>Low_VIX</th>\n",
       "      <th>...</th>\n",
       "      <th>MA50</th>\n",
       "      <th>MA200</th>\n",
       "      <th>MACD</th>\n",
       "      <th>MACD_Signal</th>\n",
       "      <th>MACD_Indicator</th>\n",
       "      <th>Bollinger_High</th>\n",
       "      <th>Bollinger_Low</th>\n",
       "      <th>Return</th>\n",
       "      <th>Return_Binary</th>\n",
       "      <th>CenMA10</th>\n",
       "    </tr>\n",
       "  </thead>\n",
       "  <tbody>\n",
       "    <tr>\n",
       "      <th>1252</th>\n",
       "      <td>2020-11-16</td>\n",
       "      <td>447.558990</td>\n",
       "      <td>463.831024</td>\n",
       "      <td>445.501617</td>\n",
       "      <td>459.940308</td>\n",
       "      <td>459.940308</td>\n",
       "      <td>1.144124e+10</td>\n",
       "      <td>23.660000</td>\n",
       "      <td>24.08</td>\n",
       "      <td>22.430000</td>\n",
       "      <td>...</td>\n",
       "      <td>381.723126</td>\n",
       "      <td>278.523084</td>\n",
       "      <td>23.683894</td>\n",
       "      <td>17.797286</td>\n",
       "      <td>5.886608</td>\n",
       "      <td>483.621209</td>\n",
       "      <td>349.880345</td>\n",
       "      <td>-14.686126</td>\n",
       "      <td>0</td>\n",
       "      <td>0.0</td>\n",
       "    </tr>\n",
       "    <tr>\n",
       "      <th>1253</th>\n",
       "      <td>2020-11-17</td>\n",
       "      <td>464.406647</td>\n",
       "      <td>482.232208</td>\n",
       "      <td>460.776611</td>\n",
       "      <td>480.360077</td>\n",
       "      <td>480.360077</td>\n",
       "      <td>1.459306e+10</td>\n",
       "      <td>22.840000</td>\n",
       "      <td>24.09</td>\n",
       "      <td>22.340000</td>\n",
       "      <td>...</td>\n",
       "      <td>383.157109</td>\n",
       "      <td>279.873460</td>\n",
       "      <td>25.206254</td>\n",
       "      <td>19.279080</td>\n",
       "      <td>5.927174</td>\n",
       "      <td>490.984909</td>\n",
       "      <td>353.638962</td>\n",
       "      <td>20.419769</td>\n",
       "      <td>1</td>\n",
       "      <td>0.0</td>\n",
       "    </tr>\n",
       "    <tr>\n",
       "      <th>1254</th>\n",
       "      <td>2020-11-18</td>\n",
       "      <td>480.346832</td>\n",
       "      <td>491.999908</td>\n",
       "      <td>465.830963</td>\n",
       "      <td>479.484070</td>\n",
       "      <td>479.484070</td>\n",
       "      <td>1.788020e+10</td>\n",
       "      <td>22.860001</td>\n",
       "      <td>23.92</td>\n",
       "      <td>21.660000</td>\n",
       "      <td>...</td>\n",
       "      <td>386.012268</td>\n",
       "      <td>281.329007</td>\n",
       "      <td>26.041854</td>\n",
       "      <td>20.631635</td>\n",
       "      <td>5.410219</td>\n",
       "      <td>498.320789</td>\n",
       "      <td>355.032492</td>\n",
       "      <td>-0.876007</td>\n",
       "      <td>0</td>\n",
       "      <td>0.0</td>\n",
       "    </tr>\n",
       "    <tr>\n",
       "      <th>1255</th>\n",
       "      <td>2020-11-19</td>\n",
       "      <td>479.481018</td>\n",
       "      <td>480.121735</td>\n",
       "      <td>465.704254</td>\n",
       "      <td>471.630432</td>\n",
       "      <td>471.630432</td>\n",
       "      <td>1.247393e+10</td>\n",
       "      <td>23.620001</td>\n",
       "      <td>24.52</td>\n",
       "      <td>22.559999</td>\n",
       "      <td>...</td>\n",
       "      <td>388.579749</td>\n",
       "      <td>282.705276</td>\n",
       "      <td>25.773252</td>\n",
       "      <td>21.659958</td>\n",
       "      <td>4.113294</td>\n",
       "      <td>503.650783</td>\n",
       "      <td>355.488243</td>\n",
       "      <td>-7.853638</td>\n",
       "      <td>0</td>\n",
       "      <td>0.0</td>\n",
       "    </tr>\n",
       "    <tr>\n",
       "      <th>1256</th>\n",
       "      <td>2020-11-20</td>\n",
       "      <td>471.631470</td>\n",
       "      <td>513.610352</td>\n",
       "      <td>471.631470</td>\n",
       "      <td>509.744568</td>\n",
       "      <td>509.744568</td>\n",
       "      <td>1.862994e+10</td>\n",
       "      <td>23.430000</td>\n",
       "      <td>23.73</td>\n",
       "      <td>22.129999</td>\n",
       "      <td>...</td>\n",
       "      <td>390.650320</td>\n",
       "      <td>284.001733</td>\n",
       "      <td>28.309540</td>\n",
       "      <td>22.989874</td>\n",
       "      <td>5.319666</td>\n",
       "      <td>516.137587</td>\n",
       "      <td>352.999227</td>\n",
       "      <td>38.114136</td>\n",
       "      <td>1</td>\n",
       "      <td>0.0</td>\n",
       "    </tr>\n",
       "  </tbody>\n",
       "</table>\n",
       "<p>5 rows × 49 columns</p>\n",
       "</div>"
      ],
      "text/plain": [
       "           Date        Open        High         Low       Close   Adj Close  \\\n",
       "1252 2020-11-16  447.558990  463.831024  445.501617  459.940308  459.940308   \n",
       "1253 2020-11-17  464.406647  482.232208  460.776611  480.360077  480.360077   \n",
       "1254 2020-11-18  480.346832  491.999908  465.830963  479.484070  479.484070   \n",
       "1255 2020-11-19  479.481018  480.121735  465.704254  471.630432  471.630432   \n",
       "1256 2020-11-20  471.631470  513.610352  471.631470  509.744568  509.744568   \n",
       "\n",
       "            Volume   Open_VIX  High_VIX    Low_VIX  ...        MA50  \\\n",
       "1252  1.144124e+10  23.660000     24.08  22.430000  ...  381.723126   \n",
       "1253  1.459306e+10  22.840000     24.09  22.340000  ...  383.157109   \n",
       "1254  1.788020e+10  22.860001     23.92  21.660000  ...  386.012268   \n",
       "1255  1.247393e+10  23.620001     24.52  22.559999  ...  388.579749   \n",
       "1256  1.862994e+10  23.430000     23.73  22.129999  ...  390.650320   \n",
       "\n",
       "           MA200       MACD  MACD_Signal  MACD_Indicator  Bollinger_High  \\\n",
       "1252  278.523084  23.683894    17.797286        5.886608      483.621209   \n",
       "1253  279.873460  25.206254    19.279080        5.927174      490.984909   \n",
       "1254  281.329007  26.041854    20.631635        5.410219      498.320789   \n",
       "1255  282.705276  25.773252    21.659958        4.113294      503.650783   \n",
       "1256  284.001733  28.309540    22.989874        5.319666      516.137587   \n",
       "\n",
       "      Bollinger_Low     Return  Return_Binary  CenMA10  \n",
       "1252     349.880345 -14.686126              0      0.0  \n",
       "1253     353.638962  20.419769              1      0.0  \n",
       "1254     355.032492  -0.876007              0      0.0  \n",
       "1255     355.488243  -7.853638              0      0.0  \n",
       "1256     352.999227  38.114136              1      0.0  \n",
       "\n",
       "[5 rows x 49 columns]"
      ]
     },
     "execution_count": 2,
     "metadata": {},
     "output_type": "execute_result"
    }
   ],
   "source": [
    "data=pd.read_csv(r\"C:\\Users\\cnaka\\Class Notes\\31009 Machine Learning\\Final Project\\ETH-USD.csv\")\n",
    "vix=pd.read_csv(r\"C:\\Users\\cnaka\\Class Notes\\31009 Machine Learning\\Final Project\\^VIX.csv\")\n",
    "spy=pd.read_csv(r\"C:\\Users\\cnaka\\Class Notes\\31009 Machine Learning\\Final Project\\SPY.csv\")\n",
    "ten=pd.read_csv(r\"C:\\Users\\cnaka\\Class Notes\\31009 Machine Learning\\Final Project\\^TNX.csv\")\n",
    "five=pd.read_csv(r\"C:\\Users\\cnaka\\Class Notes\\31009 Machine Learning\\Final Project\\^FVX.csv\")\n",
    "thirty=pd.read_csv(r\"C:\\Users\\cnaka\\Class Notes\\31009 Machine Learning\\Final Project\\^TYX.csv\")\n",
    "ten.columns = [\"Date\",\"Open_Ten\",\"High_Ten\",\"Low_Ten\",\"Close_Ten\",'Adj_Close_Ten',\"Volume_Ten\"]\n",
    "five.columns = [\"Date\",\"Open_Five\",\"High_Five\",\"Low_Five\",\"Close_Five\",'Adj_Close_Five',\"Volume_Five\"]\n",
    "thirty.columns = [\"Date\",\"Open_Thirty\",\"High_Thirty\",\"Low_Thirty\",\"Close_Thirty\",'Adj_Close_Thirty',\"Volume_Thirty\"]\n",
    "spy.columns = [\"Date\",\"Open_SPY\",\"High_SPY\",\"Low_SPY\",\"Close_SPY\",'Adj_Close_SPY',\"Volume_SPY\"]\n",
    "vix.columns = [\"Date\",\"Open_VIX\",\"High_VIX\",\"Low_VIX\",\"Close_VIX\",'Adj_Close_VIX',\"Volume_VIX\"]\n",
    "data = data.merge(vix,on=\"Date\").merge(spy,on=\"Date\").merge(five,on=\"Date\").merge(ten,on=\"Date\").merge(thirty,on=\"Date\")\n",
    "for i in range(0,data.shape[0]):\n",
    "    for j in range(0,data.shape[1]):\n",
    "        if data.isnull().iloc[i,j]==True:\n",
    "            data.iloc[i,j]=data.iloc[i-1,j]\n",
    "data[\"Yield_Spread\"] = data[\"Close_Thirty\"]-data[\"Close_Five\"]\n",
    "data[\"MA10\"] = data[\"Close\"].shift(1).rolling(window=10).mean().fillna(0)\n",
    "data[\"MA50\"] = data[\"Close\"].shift(1).rolling(window=50).mean().fillna(0)\n",
    "data[\"MA200\"] = data[\"Close\"].shift(1).rolling(window=200).mean().fillna(0)\n",
    "data[\"MACD\"] = (data.Close.ewm(span=12).mean().fillna(0)-data.Close.ewm(span=26).mean().fillna(0))\n",
    "data[\"MACD_Signal\"]=data.MACD.ewm(span=9).mean().fillna(0)\n",
    "data[\"MACD_Indicator\"]=data[\"MACD\"]-data[\"MACD_Signal\"].fillna(0)\n",
    "data[\"Bollinger_High\"] = (data[\"Close\"].rolling(window=20).mean()+2*data[\"Close\"].rolling(window=20).std()).fillna(0)\n",
    "data[\"Bollinger_Low\"] = (data[\"Close\"].rolling(window=20).mean()-2*data[\"Close\"].rolling(window=20).std()).fillna(0)\n",
    "data[\"Date\"]=pd.to_datetime(data[\"Date\"])\n",
    "datadiff=data.diff()\n",
    "datadiff[\"Date\"]=data[\"Date\"]\n",
    "data=data.merge(datadiff[[\"Close\",\"Date\"]],on=\"Date\").rename(columns={\"Close_x\":\"Close\",\n",
    "            \"Close_y\":\"Return\"})\n",
    "data[\"Return_Binary\"]=[1 if data[\"Return\"][x]>0 else 0 for x in range(0,len(data))]\n",
    "data[\"CenMA10\"]=np.zeros(len(data))\n",
    "maw=10\n",
    "for i in range(int(maw/2-1),len(data)-int(maw/2)):\n",
    "    data.loc[i,\"CenMA10\"]=sum(data[\"Close\"][i:i+maw])/maw\n",
    "data.tail()"
   ]
  },
  {
   "cell_type": "code",
   "execution_count": 3,
   "metadata": {},
   "outputs": [
    {
     "data": {
      "text/plain": [
       "Text(0.5, 0, 'MACD')"
      ]
     },
     "execution_count": 3,
     "metadata": {},
     "output_type": "execute_result"
    },
    {
     "data": {
      "image/png": "[encoded data removed]",
      "text/plain": [
       "<Figure size 720x432 with 2 Axes>"
      ]
     },
     "metadata": {
      "needs_background": "light"
     },
     "output_type": "display_data"
    }
   ],
   "source": [
    "fig=plt.figure(figsize=(10,6))\n",
    "ax1=fig.add_subplot(211)\n",
    "ax1.plot(data[\"Close\"])\n",
    "ax1.fill_between(range(0,len(data)),data[\"Bollinger_High\"],data[\"Bollinger_Low\"], color='b', alpha=.1)\n",
    "ax1.set_title(\"Ethereum Close Price w/Bollinger Bands\")\n",
    "ax2=fig.add_subplot(212)\n",
    "ax2.bar(x=range(0,len(data)),height=data[\"MACD_Indicator\"])\n",
    "ax2.set_xlabel(\"MACD\")\n"
   ]
  },
  {
   "cell_type": "code",
   "execution_count": 76,
   "metadata": {},
   "outputs": [],
   "source": [
    "h=1 #forecast horizon\n",
    "w=7 #window size"
   ]
  },
  {
   "cell_type": "code",
   "execution_count": 54,
   "metadata": {},
   "outputs": [],
   "source": [
    "data=data[(data[\"Date\"]>=\"2017-05-25\") & (data[\"Date\"]<=\"2020-11-15\")]\n",
    "data=data.reset_index().drop(\"index\",axis=1)\n",
    "train=data.loc[0:round(len(data[\"Return\"])*.6)][[\"Close\",\"Volume\",\"MACD_Indicator\"#,\"Open\",\"High\",\"Low\",\"Volume\",\"CenMA10\"#,\"Close_VIX\",\"Volume\",\"MA10\",\"MA50\",\"MA200\",\"MACD_Indicator\",\"Bollinger_High\",\"Bollinger_Low\"\n",
    "                                               ]]\n",
    "validate = data.loc[round(len(data[\"Return\"])*.6)+1:round(len(data[\"Return\"])*.8)][[\"Close\",\"Volume\",\"MACD_Indicator\"#,\"Open\",\"High\",\"Low\",\"Volume\",\"CenMA10\"#,\"Close_VIX\",\"Volume\"#,\"MA10\",\"MA50\",\"MA200\",\"MACD_Indicator\",\"Bollinger_High\",\"Bollinger_Low\"\n",
    "                                                                                 ]]\n",
    "test =data.loc[round(len(data[\"Return\"])*.8)+1:][[\"Close\",\"Volume\",\"MACD_Indicator\"#,\"Open\",\"High\",\"Low\",\"Volume\",\"CenMA10\"#,\"Close_VIX\",\"Volume\"#,\"MA10\",\"MA50\",\"MA200\",\"MACD_Indicator\",\"Bollinger_High\",\"Bollinger_Low\"\n",
    "                                                ]]"
   ]
  },
  {
   "cell_type": "code",
   "execution_count": 55,
   "metadata": {},
   "outputs": [],
   "source": [
    "from sklearn.preprocessing import StandardScaler\n",
    "scaler = StandardScaler()\n",
    "train_scaled=scaler.fit_transform(train)\n",
    "validate_scaled=scaler.transform(validate)\n",
    "test_scaled=scaler.transform(test)"
   ]
  },
  {
   "cell_type": "code",
   "execution_count": 77,
   "metadata": {},
   "outputs": [],
   "source": [
    "def create_datasets(X,w,h):\n",
    "    X_set,Y_set=[],[]\n",
    "    for i in range(w,len(X)):\n",
    "        X_set.append(X[i-w:i,])\n",
    "        Y_set.append(X[i:i+h,0]#.reshape((w,1))\n",
    "                    )\n",
    "    return np.array(X_set),np.array(Y_set)"
   ]
  },
  {
   "cell_type": "code",
   "execution_count": 78,
   "metadata": {
    "scrolled": true
   },
   "outputs": [
    {
     "name": "stdout",
     "output_type": "stream",
     "text": [
      "(520, 7, 3) (520, 1)\n",
      "(168, 7, 3) (168, 1)\n",
      "(167, 7, 3) (167, 1)\n"
     ]
    }
   ],
   "source": [
    "X_train,Y_train=create_datasets(train_scaled,w,h)\n",
    "X_validate,Y_validate=create_datasets(validate_scaled,w,h)\n",
    "X_test,Y_test=create_datasets(test_scaled,w,h)\n",
    "print(X_train.shape,Y_train.shape)\n",
    "print(X_validate.shape,Y_validate.shape)\n",
    "print(X_test.shape,Y_test.shape)"
   ]
  },
  {
   "cell_type": "markdown",
   "metadata": {},
   "source": [
    "# Linear Regression"
   ]
  },
  {
   "cell_type": "code",
   "execution_count": 84,
   "metadata": {},
   "outputs": [
    {
     "data": {
      "text/plain": [
       "0.04365965886935641"
      ]
     },
     "execution_count": 84,
     "metadata": {},
     "output_type": "execute_result"
    }
   ],
   "source": [
    "from sklearn.linear_model import LinearRegression\n",
    "y=data[data[\"Date\"]>\"2017-05-23\"][\"Close\"].diff()[1:]\n",
    "X=datadiff[datadiff[\"Date\"]>\"2017-05-24\"].drop(\"Date\",axis=1)[[\"Close\",\"Volume\",\"Close_VIX\",\"Volume_VIX\",\"Close_SPY\",\"Volume_SPY\",\"Close_Five\",\"Close_Ten\",\"Close_Thirty\",\"Yield_Spread\"]][:-1].fillna(0)\n",
    "lm=LinearRegression()\n",
    "lm.fit(y=y,X=X)\n",
    "lm.score(y=y,X=X)"
   ]
  },
  {
   "cell_type": "markdown",
   "metadata": {},
   "source": [
    "# Time Series"
   ]
  },
  {
   "cell_type": "code",
   "execution_count": 105,
   "metadata": {},
   "outputs": [
    {
     "data": {
      "image/png": "[encoded data removed]",
      "text/plain": [
       "<Figure size 432x288 with 1 Axes>"
      ]
     },
     "metadata": {
      "needs_background": "light"
     },
     "output_type": "display_data"
    }
   ],
   "source": [
    "from scipy.stats import boxcox\n",
    "plt.plot(pd.DataFrame(boxcox(train[\"Close\"])[0]).diff())\n",
    "dataadj=boxcox(train[\"Close\"])[0]"
   ]
  },
  {
   "cell_type": "code",
   "execution_count": 106,
   "metadata": {},
   "outputs": [
    {
     "name": "stdout",
     "output_type": "stream",
     "text": [
      "Performing stepwise search to minimize aic\n",
      " ARIMA(1,1,1)(0,0,0)[0] intercept   : AIC=-2299.176, Time=0.38 sec\n",
      " ARIMA(0,1,0)(0,0,0)[0] intercept   : AIC=-2302.538, Time=0.06 sec\n",
      " ARIMA(1,1,0)(0,0,0)[0] intercept   : AIC=-2301.169, Time=0.07 sec\n",
      " ARIMA(0,1,1)(0,0,0)[0] intercept   : AIC=-2301.181, Time=0.16 sec\n",
      " ARIMA(0,1,0)(0,0,0)[0]             : AIC=-2304.399, Time=0.08 sec\n",
      "\n",
      "Best model:  ARIMA(0,1,0)(0,0,0)[0]          \n",
      "Total fit time: 0.812 seconds\n"
     ]
    },
    {
     "data": {
      "text/plain": [
       "ARIMA(order=(0, 1, 0), scoring_args={}, suppress_warnings=True,\n",
       "      with_intercept=False)"
      ]
     },
     "execution_count": 106,
     "metadata": {},
     "output_type": "execute_result"
    }
   ],
   "source": [
    "pm.auto_arima(dataadj, start_p=1, start_q=1,\n",
    "                         test='adf',\n",
    "                         start_P=0, \n",
    "                         trace=True,\n",
    "                         error_action='ignore',  \n",
    "                         suppress_warnings=True, \n",
    "                         stepwise=True)"
   ]
  },
  {
   "cell_type": "code",
   "execution_count": 107,
   "metadata": {},
   "outputs": [
    {
     "data": {
      "text/plain": [
       "[<matplotlib.lines.Line2D at 0x20904f5a2e0>]"
      ]
     },
     "execution_count": 107,
     "metadata": {},
     "output_type": "execute_result"
    },
    {
     "data": {
      "image/png": "[encoded data removed]",
      "text/plain": [
       "<Figure size 432x288 with 1 Axes>"
      ]
     },
     "metadata": {
      "needs_background": "light"
     },
     "output_type": "display_data"
    }
   ],
   "source": [
    "plt.plot(data[data[\"Date\"]>\"2017-05-25\"][\"Close\"])"
   ]
  },
  {
   "cell_type": "code",
   "execution_count": 109,
   "metadata": {},
   "outputs": [
    {
     "name": "stderr",
     "output_type": "stream",
     "text": [
      "<ipython-input-109-75ff775b6d4c>:1: UserWarning: Boolean Series key will be reindexed to match DataFrame index.\n",
      "  pm.auto_arima(train[data[\"Date\"]>\"2017-05-25\"][\"Close\"],start_p=1, start_q=1,\n"
     ]
    },
    {
     "name": "stdout",
     "output_type": "stream",
     "text": [
      "Performing stepwise search to minimize aic\n",
      " ARIMA(1,1,1)(0,0,0)[0] intercept   : AIC=5172.369, Time=0.41 sec\n",
      " ARIMA(0,1,0)(0,0,0)[0] intercept   : AIC=5169.263, Time=0.02 sec\n",
      " ARIMA(1,1,0)(0,0,0)[0] intercept   : AIC=5171.248, Time=0.09 sec\n",
      " ARIMA(0,1,1)(0,0,0)[0] intercept   : AIC=5171.249, Time=0.13 sec\n",
      " ARIMA(0,1,0)(0,0,0)[0]             : AIC=5167.303, Time=0.02 sec\n",
      "\n",
      "Best model:  ARIMA(0,1,0)(0,0,0)[0]          \n",
      "Total fit time: 0.673 seconds\n"
     ]
    },
    {
     "data": {
      "text/plain": [
       "ARIMA(order=(0, 1, 0), scoring_args={}, suppress_warnings=True,\n",
       "      with_intercept=False)"
      ]
     },
     "execution_count": 109,
     "metadata": {},
     "output_type": "execute_result"
    }
   ],
   "source": [
    "pm.auto_arima(train[data[\"Date\"]>\"2017-05-25\"][\"Close\"],start_p=1, start_q=1,\n",
    "                         test='adf',\n",
    "                         start_P=0, \n",
    "                         trace=True,\n",
    "                         error_action='ignore',  \n",
    "                         suppress_warnings=True, \n",
    "                         stepwise=True)"
   ]
  },
  {
   "cell_type": "code",
   "execution_count": 111,
   "metadata": {},
   "outputs": [
    {
     "name": "stdout",
     "output_type": "stream",
     "text": [
      "Performing stepwise search to minimize aicc\n",
      " ARIMA(1,0,1)(0,0,0)[0] intercept   : AICC=8257.935, Time=0.53 sec\n",
      " ARIMA(0,0,0)(0,0,0)[0] intercept   : AICC=8255.118, Time=0.02 sec\n",
      " ARIMA(1,0,0)(0,0,0)[0] intercept   : AICC=8257.127, Time=0.04 sec\n",
      " ARIMA(0,0,1)(0,0,0)[0] intercept   : AICC=8257.127, Time=0.16 sec\n",
      " ARIMA(0,0,0)(0,0,0)[0]             : AICC=8253.250, Time=0.01 sec\n",
      "\n",
      "Best model:  ARIMA(0,0,0)(0,0,0)[0]          \n",
      "Total fit time: 0.776 seconds\n"
     ]
    }
   ],
   "source": [
    "arimax=pm.auto_arima(data[data[\"Date\"]>\"2017-05-24\"][\"Close\"].diff()[1:],exongenous=datadiff[datadiff[\"Date\"]>=\"2017-05-25\"],start_p=1, start_q=1,\n",
    "                         test='adf',\n",
    "                         start_P=0, \n",
    "                         trace=True,\n",
    "                         error_action='ignore',  \n",
    "                         suppress_warnings=True,\n",
    "                         information_criterion=\"aicc\",\n",
    "                         stepwise=True)\n"
   ]
  },
  {
   "cell_type": "code",
   "execution_count": 48,
   "metadata": {},
   "outputs": [
    {
     "data": {
      "text/html": [
       "<table class=\"simpletable\">\n",
       "<caption>SARIMAX Results</caption>\n",
       "<tr>\n",
       "  <th>Dep. Variable:</th>           <td>y</td>        <th>  No. Observations:  </th>    <td>880</td>   \n",
       "</tr>\n",
       "<tr>\n",
       "  <th>Model:</th>           <td>SARIMAX(0, 0, 1)</td> <th>  Log Likelihood     </th> <td>-3038.384</td>\n",
       "</tr>\n",
       "<tr>\n",
       "  <th>Date:</th>            <td>Tue, 24 Nov 2020</td> <th>  AIC                </th> <td>6080.768</td> \n",
       "</tr>\n",
       "<tr>\n",
       "  <th>Time:</th>                <td>15:58:07</td>     <th>  BIC                </th> <td>6090.328</td> \n",
       "</tr>\n",
       "<tr>\n",
       "  <th>Sample:</th>                  <td>0</td>        <th>  HQIC               </th> <td>6084.424</td> \n",
       "</tr>\n",
       "<tr>\n",
       "  <th></th>                      <td> - 880</td>      <th>                     </th>     <td> </td>    \n",
       "</tr>\n",
       "<tr>\n",
       "  <th>Covariance Type:</th>        <td>opg</td>       <th>                     </th>     <td> </td>    \n",
       "</tr>\n",
       "</table>\n",
       "<table class=\"simpletable\">\n",
       "<tr>\n",
       "     <td></td>       <th>coef</th>     <th>std err</th>      <th>z</th>      <th>P>|z|</th>  <th>[0.025</th>    <th>0.975]</th>  \n",
       "</tr>\n",
       "<tr>\n",
       "  <th>ma.L1</th>  <td>    0.2042</td> <td>    0.009</td> <td>   22.345</td> <td> 0.000</td> <td>    0.186</td> <td>    0.222</td>\n",
       "</tr>\n",
       "<tr>\n",
       "  <th>sigma2</th> <td>   58.4098</td> <td>    0.737</td> <td>   79.298</td> <td> 0.000</td> <td>   56.966</td> <td>   59.854</td>\n",
       "</tr>\n",
       "</table>\n",
       "<table class=\"simpletable\">\n",
       "<tr>\n",
       "  <th>Ljung-Box (Q):</th>          <td>124.60</td> <th>  Jarque-Bera (JB):  </th> <td>72243.57</td>\n",
       "</tr>\n",
       "<tr>\n",
       "  <th>Prob(Q):</th>                 <td>0.00</td>  <th>  Prob(JB):          </th>   <td>0.00</td>  \n",
       "</tr>\n",
       "<tr>\n",
       "  <th>Heteroskedasticity (H):</th>  <td>0.06</td>  <th>  Skew:              </th>   <td>2.88</td>  \n",
       "</tr>\n",
       "<tr>\n",
       "  <th>Prob(H) (two-sided):</th>     <td>0.00</td>  <th>  Kurtosis:          </th>   <td>47.01</td> \n",
       "</tr>\n",
       "</table><br/><br/>Warnings:<br/>[1] Covariance matrix calculated using the outer product of gradients (complex-step)."
      ],
      "text/plain": [
       "<class 'statsmodels.iolib.summary.Summary'>\n",
       "\"\"\"\n",
       "                               SARIMAX Results                                \n",
       "==============================================================================\n",
       "Dep. Variable:                      y   No. Observations:                  880\n",
       "Model:               SARIMAX(0, 0, 1)   Log Likelihood               -3038.384\n",
       "Date:                Tue, 24 Nov 2020   AIC                           6080.768\n",
       "Time:                        15:58:07   BIC                           6090.328\n",
       "Sample:                             0   HQIC                          6084.424\n",
       "                                - 880                                         \n",
       "Covariance Type:                  opg                                         \n",
       "==============================================================================\n",
       "                 coef    std err          z      P>|z|      [0.025      0.975]\n",
       "------------------------------------------------------------------------------\n",
       "ma.L1          0.2042      0.009     22.345      0.000       0.186       0.222\n",
       "sigma2        58.4098      0.737     79.298      0.000      56.966      59.854\n",
       "===================================================================================\n",
       "Ljung-Box (Q):                      124.60   Jarque-Bera (JB):             72243.57\n",
       "Prob(Q):                              0.00   Prob(JB):                         0.00\n",
       "Heteroskedasticity (H):               0.06   Skew:                             2.88\n",
       "Prob(H) (two-sided):                  0.00   Kurtosis:                        47.01\n",
       "===================================================================================\n",
       "\n",
       "Warnings:\n",
       "[1] Covariance matrix calculated using the outer product of gradients (complex-step).\n",
       "\"\"\""
      ]
     },
     "execution_count": 48,
     "metadata": {},
     "output_type": "execute_result"
    }
   ],
   "source": [
    "arimax.summary()"
   ]
  },
  {
   "cell_type": "code",
   "execution_count": 76,
   "metadata": {},
   "outputs": [
    {
     "data": {
      "text/plain": [
       "'2020-11-20'"
      ]
     },
     "execution_count": 76,
     "metadata": {},
     "output_type": "execute_result"
    }
   ],
   "source": [
    "max(data[\"Date\"])"
   ]
  },
  {
   "cell_type": "code",
   "execution_count": 54,
   "metadata": {},
   "outputs": [
    {
     "data": {
      "text/plain": [
       "Index(['Open', 'High', 'Low', 'Close', 'Adj Close', 'Volume', 'Open_VIX',\n",
       "       'High_VIX', 'Low_VIX', 'Close_VIX', 'Adj_Close_VIX', 'Volume_VIX',\n",
       "       'Open_SPY', 'High_SPY', 'Low_SPY', 'Close_SPY', 'Adj_Close_SPY',\n",
       "       'Volume_SPY', 'Open_Five', 'High_Five', 'Low_Five', 'Close_Five',\n",
       "       'Adj_Close_Five', 'Volume_Five', 'Open_Ten', 'High_Ten', 'Low_Ten',\n",
       "       'Close_Ten', 'Adj_Close_Ten', 'Volume_Ten', 'Open_Thirty',\n",
       "       'High_Thirty', 'Low_Thirty', 'Close_Thirty', 'Adj_Close_Thirty',\n",
       "       'Volume_Thirty', 'Yield_Spread', 'Date'],\n",
       "      dtype='object')"
      ]
     },
     "execution_count": 54,
     "metadata": {},
     "output_type": "execute_result"
    }
   ],
   "source": [
    "datadiff.columns"
   ]
  },
  {
   "cell_type": "markdown",
   "metadata": {},
   "source": [
    "# Neural Nets"
   ]
  },
  {
   "cell_type": "markdown",
   "metadata": {},
   "source": [
    "## Naive Forecast"
   ]
  },
  {
   "cell_type": "code",
   "execution_count": 11,
   "metadata": {},
   "outputs": [],
   "source": [
    "from tensorflow import keras\n",
    "import tensorflow as tf\n",
    "import tensorflow_addons as tfa\n",
    "tf.config.run_functions_eagerly(True)"
   ]
  },
  {
   "cell_type": "code",
   "execution_count": 102,
   "metadata": {},
   "outputs": [
    {
     "name": "stdout",
     "output_type": "stream",
     "text": [
      "MSE=[0.01942502]\n"
     ]
    }
   ],
   "source": [
    "itr=len(Y_train-h)\n",
    "errors=[]\n",
    "for i in range(1,itr):\n",
    "    errors.append((Y_train[i]-Y_train[i-1])**2)\n",
    "print(\"MSE={}\".format(sum(errors)/(len(Y_train)-1)))"
   ]
  },
  {
   "cell_type": "markdown",
   "metadata": {},
   "source": [
    "## Basic LSTM"
   ]
  },
  {
   "cell_type": "code",
   "execution_count": 112,
   "metadata": {},
   "outputs": [
    {
     "name": "stdout",
     "output_type": "stream",
     "text": [
      "Epoch 1/50\n",
      " 3/17 [====>.........................] - ETA: 0s - loss: 0.9218"
     ]
    },
    {
     "name": "stderr",
     "output_type": "stream",
     "text": [
      "C:\\Users\\cnaka\\anaconda3\\lib\\site-packages\\tensorflow\\python\\data\\ops\\dataset_ops.py:3349: UserWarning: Even though the tf.config.experimental_run_functions_eagerly option is set, this option does not apply to tf.data functions. tf.data functions are still traced and executed as graphs.\n",
      "  warnings.warn(\n"
     ]
    },
    {
     "name": "stdout",
     "output_type": "stream",
     "text": [
      "17/17 [==============================] - 1s 39ms/step - loss: 0.6589\n",
      "Epoch 2/50\n",
      "17/17 [==============================] - 1s 38ms/step - loss: 0.2269\n",
      "Epoch 3/50\n",
      "17/17 [==============================] - 1s 39ms/step - loss: 0.1518\n",
      "Epoch 4/50\n",
      "17/17 [==============================] - 1s 37ms/step - loss: 0.1093\n",
      "Epoch 5/50\n",
      "17/17 [==============================] - 1s 40ms/step - loss: 0.0638\n",
      "Epoch 6/50\n",
      "17/17 [==============================] - 1s 35ms/step - loss: 0.0512\n",
      "Epoch 7/50\n",
      "17/17 [==============================] - 1s 40ms/step - loss: 0.0509\n",
      "Epoch 8/50\n",
      "17/17 [==============================] - 1s 39ms/step - loss: 0.0419\n",
      "Epoch 9/50\n",
      "17/17 [==============================] - 1s 36ms/step - loss: 0.0428\n",
      "Epoch 10/50\n",
      "17/17 [==============================] - 1s 37ms/step - loss: 0.0382\n",
      "Epoch 11/50\n",
      "17/17 [==============================] - 1s 39ms/step - loss: 0.0374\n",
      "Epoch 12/50\n",
      "17/17 [==============================] - 1s 37ms/step - loss: 0.0368\n",
      "Epoch 13/50\n",
      "17/17 [==============================] - 1s 34ms/step - loss: 0.0363\n",
      "Epoch 14/50\n",
      "17/17 [==============================] - 1s 42ms/step - loss: 0.0331: 0s - loss: 0.0\n",
      "Epoch 15/50\n",
      "17/17 [==============================] - 1s 38ms/step - loss: 0.0336\n",
      "Epoch 16/50\n",
      "17/17 [==============================] - 1s 43ms/step - loss: 0.0333\n",
      "Epoch 17/50\n",
      "17/17 [==============================] - 1s 38ms/step - loss: 0.0347\n",
      "Epoch 18/50\n",
      "17/17 [==============================] - 1s 35ms/step - loss: 0.0315\n",
      "Epoch 19/50\n",
      "17/17 [==============================] - 1s 37ms/step - loss: 0.0305\n",
      "Epoch 20/50\n",
      "17/17 [==============================] - 1s 38ms/step - loss: 0.0300\n",
      "Epoch 21/50\n",
      "17/17 [==============================] - 1s 39ms/step - loss: 0.0285\n",
      "Epoch 22/50\n",
      "17/17 [==============================] - 1s 44ms/step - loss: 0.0285\n",
      "Epoch 23/50\n",
      "17/17 [==============================] - 1s 36ms/step - loss: 0.0243\n",
      "Epoch 24/50\n",
      "17/17 [==============================] - 1s 37ms/step - loss: 0.0246\n",
      "Epoch 25/50\n",
      "17/17 [==============================] - 1s 39ms/step - loss: 0.0226\n",
      "Epoch 26/50\n",
      "17/17 [==============================] - 1s 37ms/step - loss: 0.0230\n",
      "Epoch 27/50\n",
      "17/17 [==============================] - 1s 37ms/step - loss: 0.0237\n",
      "Epoch 28/50\n",
      "17/17 [==============================] - 1s 40ms/step - loss: 0.0210\n",
      "Epoch 29/50\n",
      "17/17 [==============================] - 1s 43ms/step - loss: 0.0243\n",
      "Epoch 30/50\n",
      "17/17 [==============================] - 1s 37ms/step - loss: 0.0220\n",
      "Epoch 31/50\n",
      "17/17 [==============================] - 1s 41ms/step - loss: 0.0200\n",
      "Epoch 32/50\n",
      "17/17 [==============================] - 1s 45ms/step - loss: 0.0236\n",
      "Epoch 33/50\n",
      "17/17 [==============================] - 1s 38ms/step - loss: 0.0204\n",
      "Epoch 34/50\n",
      "17/17 [==============================] - 1s 40ms/step - loss: 0.0214\n",
      "Epoch 35/50\n",
      "17/17 [==============================] - 1s 42ms/step - loss: 0.0286\n",
      "Epoch 36/50\n",
      "17/17 [==============================] - 1s 42ms/step - loss: 0.0211\n",
      "Epoch 37/50\n",
      "17/17 [==============================] - 1s 41ms/step - loss: 0.0173\n",
      "Epoch 38/50\n",
      "17/17 [==============================] - 1s 41ms/step - loss: 0.0170\n",
      "Epoch 39/50\n",
      "17/17 [==============================] - 1s 38ms/step - loss: 0.0178\n",
      "Epoch 40/50\n",
      "17/17 [==============================] - 1s 39ms/step - loss: 0.0205\n",
      "Epoch 41/50\n",
      "17/17 [==============================] - 1s 39ms/step - loss: 0.0153\n",
      "Epoch 42/50\n",
      "17/17 [==============================] - 1s 39ms/step - loss: 0.0154\n",
      "Epoch 43/50\n",
      "17/17 [==============================] - 1s 40ms/step - loss: 0.0144\n",
      "Epoch 44/50\n",
      "17/17 [==============================] - 1s 41ms/step - loss: 0.0138\n",
      "Epoch 45/50\n",
      "17/17 [==============================] - 1s 38ms/step - loss: 0.0163\n",
      "Epoch 46/50\n",
      "17/17 [==============================] - 1s 38ms/step - loss: 0.0154\n",
      "Epoch 47/50\n",
      "17/17 [==============================] - 1s 43ms/step - loss: 0.0134\n",
      "Epoch 48/50\n",
      "17/17 [==============================] - 1s 40ms/step - loss: 0.0141\n",
      "Epoch 49/50\n",
      "17/17 [==============================] - 1s 38ms/step - loss: 0.0123\n",
      "Epoch 50/50\n",
      "17/17 [==============================] - 1s 41ms/step - loss: 0.0113\n"
     ]
    },
    {
     "data": {
      "text/plain": [
       "<tensorflow.python.keras.callbacks.History at 0x20900c14fa0>"
      ]
     },
     "execution_count": 112,
     "metadata": {},
     "output_type": "execute_result"
    }
   ],
   "source": [
    "model=keras.models.Sequential([\n",
    "    keras.layers.LSTM(20,return_sequences=True,input_shape = [X_train.shape[1],X_train.shape[2]]),\n",
    "    keras.layers.Dropout(.3),\n",
    "    keras.layers.LSTM(40,return_sequences=True),\n",
    "    keras.layers.LSTM(20),\n",
    "    keras.layers.Dense(1)\n",
    "])\n",
    "model.compile(loss=\"MeanSquaredError\",optimizer = \"adam\")\n",
    "model.fit(x=X_train,y=Y_train,epochs=50)"
   ]
  },
  {
   "cell_type": "code",
   "execution_count": 113,
   "metadata": {},
   "outputs": [
    {
     "name": "stdout",
     "output_type": "stream",
     "text": [
      "Model: \"sequential_12\"\n",
      "_________________________________________________________________\n",
      "Layer (type)                 Output Shape              Param #   \n",
      "=================================================================\n",
      "lstm_7 (LSTM)                (None, 10, 20)            2160      \n",
      "_________________________________________________________________\n",
      "dropout_1 (Dropout)          (None, 10, 20)            0         \n",
      "_________________________________________________________________\n",
      "lstm_8 (LSTM)                (None, 10, 40)            9760      \n",
      "_________________________________________________________________\n",
      "lstm_9 (LSTM)                (None, 20)                4880      \n",
      "_________________________________________________________________\n",
      "dense_17 (Dense)             (None, 1)                 21        \n",
      "=================================================================\n",
      "Total params: 16,821\n",
      "Trainable params: 16,821\n",
      "Non-trainable params: 0\n",
      "_________________________________________________________________\n"
     ]
    }
   ],
   "source": [
    "model.summary()"
   ]
  },
  {
   "cell_type": "code",
   "execution_count": 114,
   "metadata": {},
   "outputs": [
    {
     "name": "stdout",
     "output_type": "stream",
     "text": [
      "6/6 [==============================] - 0s 22ms/step - loss: 0.0259\n"
     ]
    },
    {
     "data": {
      "text/plain": [
       "0.025903921574354172"
      ]
     },
     "execution_count": 114,
     "metadata": {},
     "output_type": "execute_result"
    }
   ],
   "source": [
    "model.evaluate(x=X_validate,y=Y_validate)"
   ]
  },
  {
   "cell_type": "code",
   "execution_count": 115,
   "metadata": {},
   "outputs": [
    {
     "data": {
      "text/plain": [
       "[<matplotlib.lines.Line2D at 0x20903cd0580>]"
      ]
     },
     "execution_count": 115,
     "metadata": {},
     "output_type": "execute_result"
    },
    {
     "data": {
      "image/png": "[encoded data removed]",
      "text/plain": [
       "<Figure size 720x432 with 1 Axes>"
      ]
     },
     "metadata": {
      "needs_background": "light"
     },
     "output_type": "display_data"
    }
   ],
   "source": [
    "plt.figure(figsize=(10,6))\n",
    "plt.plot(np.vstack((Y_train,model.predict(X_validate))),color=\"red\")\n",
    "plt.plot(np.vstack((Y_train,Y_validate)),color=\"blue\")"
   ]
  },
  {
   "cell_type": "markdown",
   "metadata": {},
   "source": [
    "## GRU Cells"
   ]
  },
  {
   "cell_type": "code",
   "execution_count": 79,
   "metadata": {},
   "outputs": [
    {
     "name": "stderr",
     "output_type": "stream",
     "text": [
      "C:\\Users\\cnaka\\anaconda3\\lib\\site-packages\\tensorflow\\python\\data\\ops\\dataset_ops.py:3349: UserWarning: Even though the tf.config.experimental_run_functions_eagerly option is set, this option does not apply to tf.data functions. tf.data functions are still traced and executed as graphs.\n",
      "  warnings.warn(\n"
     ]
    },
    {
     "name": "stdout",
     "output_type": "stream",
     "text": [
      "Epoch 1/100\n",
      "17/17 [==============================] - 2s 105ms/step - loss: 0.5191 - val_loss: 0.1194\n",
      "Epoch 2/100\n",
      "17/17 [==============================] - 1s 81ms/step - loss: 0.0799 - val_loss: 0.1922\n",
      "Epoch 3/100\n",
      "17/17 [==============================] - 1s 82ms/step - loss: 0.0494 - val_loss: 0.0300\n",
      "Epoch 4/100\n",
      "17/17 [==============================] - 1s 81ms/step - loss: 0.0407 - val_loss: 0.0360\n",
      "Epoch 5/100\n",
      "17/17 [==============================] - 1s 79ms/step - loss: 0.0381 - val_loss: 0.0155\n",
      "Epoch 6/100\n",
      "17/17 [==============================] - 1s 80ms/step - loss: 0.0338 - val_loss: 0.0126\n",
      "Epoch 7/100\n",
      "17/17 [==============================] - 1s 81ms/step - loss: 0.0304 - val_loss: 0.0137\n",
      "Epoch 8/100\n",
      "17/17 [==============================] - 1s 81ms/step - loss: 0.0316 - val_loss: 0.0100\n",
      "Epoch 9/100\n",
      "17/17 [==============================] - 1s 82ms/step - loss: 0.0315 - val_loss: 0.0109\n",
      "Epoch 10/100\n",
      "17/17 [==============================] - 1s 80ms/step - loss: 0.0288 - val_loss: 0.0088\n",
      "Epoch 11/100\n",
      "17/17 [==============================] - 2s 95ms/step - loss: 0.0270 - val_loss: 0.0117\n",
      "Epoch 12/100\n",
      "17/17 [==============================] - 1s 82ms/step - loss: 0.0263 - val_loss: 0.0074\n",
      "Epoch 13/100\n",
      "17/17 [==============================] - 1s 81ms/step - loss: 0.0254 - val_loss: 0.0084\n",
      "Epoch 14/100\n",
      "17/17 [==============================] - 1s 82ms/step - loss: 0.0236 - val_loss: 0.0082\n",
      "Epoch 15/100\n",
      "17/17 [==============================] - 1s 82ms/step - loss: 0.0230 - val_loss: 0.0070\n",
      "Epoch 16/100\n",
      "17/17 [==============================] - 1s 79ms/step - loss: 0.0228 - val_loss: 0.0090\n",
      "Epoch 17/100\n",
      "17/17 [==============================] - 1s 81ms/step - loss: 0.0239 - val_loss: 0.0078\n",
      "Epoch 18/100\n",
      "17/17 [==============================] - 1s 82ms/step - loss: 0.0234 - val_loss: 0.0184\n",
      "Epoch 19/100\n",
      "17/17 [==============================] - 1s 83ms/step - loss: 0.0237 - val_loss: 0.0080\n",
      "Epoch 20/100\n",
      "17/17 [==============================] - 1s 81ms/step - loss: 0.0214 - val_loss: 0.0071\n"
     ]
    },
    {
     "data": {
      "text/plain": [
       "<tensorflow.python.keras.callbacks.History at 0x1a6639dabe0>"
      ]
     },
     "execution_count": 79,
     "metadata": {},
     "output_type": "execute_result"
    }
   ],
   "source": [
    "\n",
    "callback = tf.keras.callbacks.EarlyStopping(monitor='val_loss', patience=5)\n",
    "model = keras.models.Sequential([\n",
    "    #keras.layers.Conv1D(filters=50,kernel_size=3,strides=1,padding=\"valid\",input_shape = [X_train.shape[1],X_train.shape[2]]),\n",
    "    keras.layers.GRU(50,return_sequences=True,recurrent_dropout=.1),\n",
    "    keras.layers.GRU(50,recurrent_dropout=.1),\n",
    "    keras.layers.Dense(1)\n",
    "])\n",
    "opt = keras.optimizers.Adam(learning_rate=.001)\n",
    "model.compile(optimizer=opt,loss=sign_loss_wrapper(1.05))\n",
    "model.fit(X_train,Y_train,epochs=100,validation_data=(X_test,Y_test),callbacks=[callback]\n",
    "         )"
   ]
  },
  {
   "cell_type": "code",
   "execution_count": 80,
   "metadata": {},
   "outputs": [
    {
     "name": "stdout",
     "output_type": "stream",
     "text": [
      "6/6 [==============================] - 0s 29ms/step - loss: 0.0071\n"
     ]
    },
    {
     "data": {
      "text/plain": [
       "0.007056738715618849"
      ]
     },
     "execution_count": 80,
     "metadata": {},
     "output_type": "execute_result"
    }
   ],
   "source": [
    "model.evaluate(X_test,Y_test)"
   ]
  },
  {
   "cell_type": "code",
   "execution_count": 81,
   "metadata": {},
   "outputs": [
    {
     "data": {
      "text/plain": [
       "<matplotlib.legend.Legend at 0x1a660d30310>"
      ]
     },
     "execution_count": 81,
     "metadata": {},
     "output_type": "execute_result"
    },
    {
     "data": {
      "image/png": "[encoded data removed]",
      "text/plain": [
       "<Figure size 720x432 with 1 Axes>"
      ]
     },
     "metadata": {
      "needs_background": "light"
     },
     "output_type": "display_data"
    }
   ],
   "source": [
    "plt.figure(figsize=(10,6))\n",
    "plt.plot(np.vstack((np.sqrt(scaler.var_[0])*model.predict(X_validate)+scaler.mean_[0],np.sqrt(scaler.var_[0])*model.predict(X_test)+scaler.mean_[0])),color=\"red\",label=\"Fcst\")\n",
    "plt.plot(np.vstack((np.sqrt(scaler.var_[0])*Y_validate+scaler.mean_[0],np.sqrt(scaler.var_[0])*Y_test+scaler.mean_[0])),color=\"blue\",label=\"Actuals\")\n",
    "plt.title(\"Ethereum Prediction - RNN w/ Technical Indicators\")\n",
    "plt.legend()"
   ]
  },
  {
   "cell_type": "code",
   "execution_count": 82,
   "metadata": {},
   "outputs": [
    {
     "name": "stderr",
     "output_type": "stream",
     "text": [
      "C:\\Users\\cnaka\\anaconda3\\lib\\site-packages\\tensorflow\\python\\data\\ops\\dataset_ops.py:3349: UserWarning: Even though the tf.config.experimental_run_functions_eagerly option is set, this option does not apply to tf.data functions. tf.data functions are still traced and executed as graphs.\n",
      "  warnings.warn(\n"
     ]
    },
    {
     "data": {
      "text/html": [
       "<div>\n",
       "<style scoped>\n",
       "    .dataframe tbody tr th:only-of-type {\n",
       "        vertical-align: middle;\n",
       "    }\n",
       "\n",
       "    .dataframe tbody tr th {\n",
       "        vertical-align: top;\n",
       "    }\n",
       "\n",
       "    .dataframe thead th {\n",
       "        text-align: right;\n",
       "    }\n",
       "</style>\n",
       "<table border=\"1\" class=\"dataframe\">\n",
       "  <thead>\n",
       "    <tr style=\"text-align: right;\">\n",
       "      <th></th>\n",
       "      <th>Forecast</th>\n",
       "      <th>Actual</th>\n",
       "    </tr>\n",
       "  </thead>\n",
       "  <tbody>\n",
       "    <tr>\n",
       "      <th>0</th>\n",
       "      <td>146.224518</td>\n",
       "      <td>132.737167</td>\n",
       "    </tr>\n",
       "    <tr>\n",
       "      <th>1</th>\n",
       "      <td>155.360962</td>\n",
       "      <td>134.911606</td>\n",
       "    </tr>\n",
       "    <tr>\n",
       "      <th>2</th>\n",
       "      <td>155.092575</td>\n",
       "      <td>138.761444</td>\n",
       "    </tr>\n",
       "    <tr>\n",
       "      <th>3</th>\n",
       "      <td>150.675720</td>\n",
       "      <td>136.195892</td>\n",
       "    </tr>\n",
       "    <tr>\n",
       "      <th>4</th>\n",
       "      <td>149.464203</td>\n",
       "      <td>138.361557</td>\n",
       "    </tr>\n",
       "    <tr>\n",
       "      <th>...</th>\n",
       "      <td>...</td>\n",
       "      <td>...</td>\n",
       "    </tr>\n",
       "    <tr>\n",
       "      <th>162</th>\n",
       "      <td>406.039062</td>\n",
       "      <td>444.163055</td>\n",
       "    </tr>\n",
       "    <tr>\n",
       "      <th>163</th>\n",
       "      <td>420.602417</td>\n",
       "      <td>449.679626</td>\n",
       "    </tr>\n",
       "    <tr>\n",
       "      <th>164</th>\n",
       "      <td>435.696106</td>\n",
       "      <td>462.960541</td>\n",
       "    </tr>\n",
       "    <tr>\n",
       "      <th>165</th>\n",
       "      <td>450.293945</td>\n",
       "      <td>461.005280</td>\n",
       "    </tr>\n",
       "    <tr>\n",
       "      <th>166</th>\n",
       "      <td>459.533447</td>\n",
       "      <td>474.626434</td>\n",
       "    </tr>\n",
       "  </tbody>\n",
       "</table>\n",
       "<p>167 rows × 2 columns</p>\n",
       "</div>"
      ],
      "text/plain": [
       "       Forecast      Actual\n",
       "0    146.224518  132.737167\n",
       "1    155.360962  134.911606\n",
       "2    155.092575  138.761444\n",
       "3    150.675720  136.195892\n",
       "4    149.464203  138.361557\n",
       "..          ...         ...\n",
       "162  406.039062  444.163055\n",
       "163  420.602417  449.679626\n",
       "164  435.696106  462.960541\n",
       "165  450.293945  461.005280\n",
       "166  459.533447  474.626434\n",
       "\n",
       "[167 rows x 2 columns]"
      ]
     },
     "execution_count": 82,
     "metadata": {},
     "output_type": "execute_result"
    }
   ],
   "source": [
    "df=pd.DataFrame()\n",
    "df[\"Forecast\"]=(np.sqrt(scaler.var_[0])*model.predict(X_test).T+scaler.mean_[0]).flatten()\n",
    "df[\"Actual\"]=(np.sqrt(scaler.var_[0])*Y_test.T+scaler.mean_[0]).flatten()\n",
    "df"
   ]
  },
  {
   "cell_type": "code",
   "execution_count": 83,
   "metadata": {},
   "outputs": [
    {
     "name": "stdout",
     "output_type": "stream",
     "text": [
      "       Forecast      Actual Predicted Move  Correct Sign\n",
      "0    146.224518  132.737167              0           0.0\n",
      "1    155.360962  134.911606           True           1.0\n",
      "2    155.092575  138.761444           True           1.0\n",
      "3    150.675720  136.195892           True           0.0\n",
      "4    149.464203  138.361557           True           1.0\n",
      "5    149.075378  133.937943           True           0.0\n",
      "6    150.857346  132.904541           True           0.0\n",
      "7    151.419113  133.593567           True           1.0\n",
      "8    149.154602  135.634552           True           1.0\n",
      "9    151.173523  142.029144           True           1.0\n",
      "10   157.668655  142.091309           True           1.0\n",
      "11   157.801102  169.135880           True           1.0\n",
      "12   175.604965  165.101944           True           0.0\n",
      "13   185.621536  172.641739           True           1.0\n",
      "14   185.358627  170.807144           True           0.0\n",
      "15   183.653214  156.279556           True           0.0\n",
      "16   184.173904  157.596390           True           1.0\n",
      "17   180.891357  153.286896           True           0.0\n",
      "18   178.628082  172.157379           True           1.0\n",
      "19   190.542435  171.638580           True           0.0\n",
      "20   188.072601  172.297165           True           1.0\n",
      "21   191.853439  172.737701           True           1.0\n",
      "22   188.058350  182.599579           True           1.0\n",
      "23   189.870483  185.028671           True           1.0\n",
      "24   197.216248  189.236938           True           1.0\n",
      "25   198.430008  197.224716           True           1.0\n",
      "26   200.993271  198.415390           True           1.0\n",
      "27   204.767273  216.968231           True           1.0\n",
      "28   216.919525  207.602051          False           1.0\n",
      "29   224.326126  214.219101           True           1.0\n",
      "30   221.377045  208.174011           True           0.0\n",
      "31   219.468140  206.774399           True           0.0\n",
      "32   215.982468  204.055786           True           0.0\n",
      "33   215.251129  212.289398           True           1.0\n",
      "34   220.185150  212.991577           True           1.0\n",
      "35   217.572083  185.912842           True           0.0\n",
      "36   209.532516  189.312500           True           1.0\n",
      "37   200.186768  199.193283           True           1.0\n",
      "38   197.900269  202.949097          False           0.0\n",
      "39   203.045868  195.622665           True           0.0\n",
      "40   201.399292  214.525055           True           1.0\n",
      "41   203.539719  213.451111          False           1.0\n",
      "42   204.175278  210.096741          False           1.0\n",
      "43   204.710709  199.883606          False           1.0\n",
      "44   206.105911  207.169189           True           1.0\n",
      "45   207.036133  201.902313          False           1.0\n",
      "46   204.722610  208.863434           True           1.0\n",
      "47   206.667572  219.840439          False           0.0\n",
      "48   212.912598  220.675125          False           0.0\n",
      "49   218.500275  246.991760          False           0.0\n",
      "50   230.523834  237.219055          False           1.0\n",
      "51   236.895538  244.179321          False           0.0\n",
      "52   238.335526  244.426392          False           0.0\n",
      "53   241.930023  241.221985          False           1.0\n",
      "54   243.973175  246.309906           True           1.0\n",
      "55   245.821320  244.911453          False           1.0\n",
      "56   248.176071  247.444946           True           1.0\n",
      "57   250.460175  231.702667           True           0.0\n",
      "58   250.637268  237.493210           True           1.0\n",
      "59   245.210388  229.928909           True           0.0\n",
      "60   240.328217  234.416168           True           1.0\n",
      "61   235.713837  233.028275           True           0.0\n",
      "62   233.667480  232.101166           True           0.0\n",
      "63   233.100540  227.138290           True           0.0\n",
      "64   232.531311  242.533188           True           1.0\n",
      "65   238.239838  244.142151          False           0.0\n",
      "66   242.538208  235.772461          False           1.0\n",
      "67   244.708801  232.944489           True           0.0\n",
      "68   242.563660  229.668045           True           0.0\n",
      "69   239.241913  228.194870           True           0.0\n",
      "70   235.957855  226.315002           True           0.0\n",
      "71   233.077240  231.113419           True           1.0\n",
      "72   232.809509  229.392197           True           0.0\n",
      "73   233.223587  241.510223           True           1.0\n",
      "74   239.657608  239.075531          False           1.0\n",
      "75   242.693375  246.670013           True           1.0\n",
      "76   249.689896  243.015961           True           0.0\n",
      "77   251.547943  240.984985           True           0.0\n",
      "78   249.979431  239.604584           True           0.0\n",
      "79   248.280945  240.211487           True           1.0\n",
      "80   246.921356  238.423523           True           0.0\n",
      "81   244.693787  233.640884           True           0.0\n",
      "82   241.899109  232.773087           True           0.0\n",
      "83   239.493225  236.153168           True           1.0\n",
      "84   239.018311  245.016724           True           1.0\n",
      "85   243.372482  262.190643          False           0.0\n",
      "86   254.308350  274.689056          False           0.0\n",
      "87   270.478699  279.215424          False           0.0\n",
      "88   281.848450  321.514099           True           1.0\n",
      "89   306.363434  316.657257          False           1.0\n",
      "90   318.257202  318.190887           True           1.0\n",
      "91   323.438538  334.586639           True           1.0\n",
      "92   332.560394  345.554657          False           0.0\n",
      "93   343.303802  386.295166          False           0.0\n",
      "94   365.617340  389.875488          False           0.0\n",
      "95   384.639252  401.590576          False           0.0\n",
      "96   399.027924  394.961945          False           1.0\n",
      "97   404.951508  379.512848           True           0.0\n",
      "98   400.849792  395.887573           True           1.0\n",
      "99   399.332733  380.384064           True           0.0\n",
      "100  392.782074  391.024170           True           1.0\n",
      "101  389.177460  428.741791          False           0.0\n",
      "102  396.243042  437.397827          False           0.0\n",
      "103  405.130249  429.531250          False           1.0\n",
      "104  411.440643  423.669312          False           1.0\n",
      "105  415.447906  406.463776          False           1.0\n",
      "106  410.369690  416.439789           True           1.0\n",
      "107  410.474396  389.126343          False           1.0\n",
      "108  401.698608  408.144196           True           1.0\n",
      "109  401.745697  384.001038          False           1.0\n",
      "110  394.030151  386.466125           True           1.0\n",
      "111  389.720062  382.632629           True           0.0\n",
      "112  386.864044  395.874664           True           1.0\n",
      "113  392.730225  435.079742          False           0.0\n",
      "114  411.273254  477.051910          False           0.0\n",
      "115  432.079956  440.040497          False           1.0\n",
      "116  427.062622  385.671936          False           1.0\n",
      "117  398.340454  388.241150           True           1.0\n",
      "118  375.048706  337.602112          False           1.0\n",
      "119  345.048431  351.110016           True           1.0\n",
      "120  328.147064  368.101898          False           0.0\n",
      "121  319.759644  374.695587          False           0.0\n",
      "122  315.548523  377.268860          False           0.0\n",
      "123  316.186279  364.839233          False           1.0\n",
      "124  320.358856  365.812286          False           0.0\n",
      "125  326.262054  389.019226          False           0.0\n",
      "126  335.882812  384.364532          False           1.0\n",
      "127  346.194153  341.786072          False           1.0\n",
      "128  340.612946  344.503174          False           0.0\n",
      "129  334.864960  320.585541          False           1.0\n",
      "130  326.047089  349.356659           True           1.0\n",
      "131  328.502136  352.161865          False           0.0\n",
      "132  335.624054  354.950500          False           0.0\n",
      "133  343.573822  359.963409          False           0.0\n",
      "134  352.980011  360.022369          False           0.0\n",
      "135  361.950104  353.231293           True           0.0\n",
      "136  364.618042  346.532654           True           0.0\n",
      "137  361.343323  354.277100           True           1.0\n",
      "138  359.704468  341.021149           True           0.0\n",
      "139  355.227692  342.119781           True           1.0\n",
      "140  351.402649  351.455658           True           1.0\n",
      "141  352.503326  366.046417           True           1.0\n",
      "142  359.732391  387.731262          False           0.0\n",
      "143  372.017181  381.190765          False           1.0\n",
      "144  377.473083  379.484039          False           1.0\n",
      "145  378.247742  377.441833          False           1.0\n",
      "146  376.341370  366.229004          False           1.0\n",
      "147  369.379944  379.935608           True           1.0\n",
      "148  368.338593  369.136902          False           1.0\n",
      "149  366.602875  392.189972          False           0.0\n",
      "150  367.652740  413.772980          False           0.0\n",
      "151  375.117432  409.766693          False           1.0\n",
      "152  383.804291  393.888306          False           1.0\n",
      "153  385.481567  403.997040          False           0.0\n",
      "154  388.448822  388.650757          False           1.0\n",
      "155  384.865906  386.730103          False           1.0\n",
      "156  381.158203  382.819977          False           1.0\n",
      "157  377.522003  383.156738          False           0.0\n",
      "158  374.391266  387.602173          False           0.0\n",
      "159  374.942810  402.141998          False           0.0\n",
      "160  380.826141  414.067352          False           0.0\n",
      "161  388.423462  454.719299          False           0.0\n",
      "162  406.039062  444.163055          False           1.0\n",
      "163  420.602417  449.679626          False           0.0\n",
      "164  435.696106  462.960541          False           0.0\n",
      "165  450.293945  461.005280          False           1.0\n",
      "166  459.533447  474.626434          False           0.0\n"
     ]
    }
   ],
   "source": [
    "df[\"Predicted Move\"]=np.zeros(167)\n",
    "df[\"Correct Sign\"]=np.zeros(167)\n",
    "for i in range(1,len(df[\"Forecast\"])):\n",
    "    df.iloc[i,2]=(np.sign(df[\"Forecast\"][i]-df[\"Actual\"][i-1])==1)\n",
    "    if np.sign(df[\"Forecast\"][i]-df[\"Actual\"][i-1])==np.sign(df[\"Actual\"][i]-df[\"Actual\"][i-1]):\n",
    "        df.iloc[i,3]=1\n",
    "with pd.option_context('display.max_rows', None, 'display.max_columns', None):  # more options can be specified also\n",
    "    print(df)\n"
   ]
  },
  {
   "cell_type": "code",
   "execution_count": 88,
   "metadata": {},
   "outputs": [
    {
     "name": "stdout",
     "output_type": "stream",
     "text": [
      "DPA=0.54\n"
     ]
    }
   ],
   "source": [
    "print(\"DPA={}\".format(round(sum(df[\"Correct Sign\"])/len(df[\"Correct Sign\"]),2)))"
   ]
  },
  {
   "cell_type": "markdown",
   "metadata": {},
   "source": [
    "## Custom Loss Function"
   ]
  },
  {
   "cell_type": "code",
   "execution_count": 69,
   "metadata": {},
   "outputs": [],
   "source": [
    "def sign_loss_wrapper(alpha):\n",
    "    def sign_loss(y_true, y_pred):\n",
    "        #extract the \"next day's price\" of tensor\n",
    "        y_true_next = y_true[1:]\n",
    "        y_pred_next = y_pred[1:]\n",
    "        #extract the \"today's price\" of tensor\n",
    "        y_true_tdy = y_true[:-1]\n",
    "        y_pred_tdy = y_pred[:-1]\n",
    "        #substract to get up/down movement of the two tensors\n",
    "        y_true_diff = tf.reshape(tf.subtract(y_true_next, y_true_tdy),[-1])\n",
    "        y_pred_diff = tf.reshape(tf.subtract(y_pred_next, y_true_tdy),[-1])\n",
    "        #create a standard tensor with zero value for comparison\n",
    "        standard = tf.zeros_like(y_pred_diff)\n",
    "        #compare with the standard; if true, UP; else DOWN\n",
    "        y_true_move = tf.greater_equal(y_true_diff, standard)\n",
    "        y_pred_move = tf.greater_equal(y_pred_diff, standard)\n",
    "        #find indices where the directions are not the same\n",
    "        condition = (tf.not_equal(y_true_move, y_pred_move)&y_true_move==False)\n",
    "        indices =tf.where(condition)\n",
    "        ones = tf.ones_like(indices)\n",
    "        indices = tf.add(indices, ones)\n",
    "        direction_loss = tf.Variable(tf.ones_like(y_pred), dtype='float32')\n",
    "        updates = keras.backend.cast(tf.ones_like(indices),dtype='float32')\n",
    "        direction_loss = tf.tensor_scatter_nd_update(direction_loss, indices, alpha*updates)\n",
    "        return keras.backend.mean(tf.multiply(keras.backend.square(y_true - y_pred), direction_loss), axis=-1)\n",
    "    return sign_loss"
   ]
  },
  {
   "cell_type": "code",
   "execution_count": 65,
   "metadata": {},
   "outputs": [],
   "source": [
    "def sign_loss_diffed(alpha):\n",
    "    def internal(y_true,y_pred):\n",
    "        standard = tf.zeros_like(y_pred)\n",
    "        y_true_move = tf.reshape(tf.greater_equal(y_true, standard),[-1])\n",
    "        y_pred_move = tf.reshape(tf.greater_equal(y_pred, standard),[-1])\n",
    "        condition = tf.not_equal(y_true_move, y_pred_move)\n",
    "        indices =tf.where(condition)\n",
    "        direction_loss = tf.Variable(tf.ones_like(y_pred), dtype='float32')\n",
    "        updates = keras.backend.cast(tf.ones_like(indices),dtype='float32')\n",
    "        direction_loss = tf.tensor_scatter_nd_update(direction_loss, indices, alpha*updates)\n",
    "        return keras.backend.mean(tf.multiply(keras.backend.square(y_true - y_pred), direction_loss), axis=-1)\n",
    "    return internal"
   ]
  },
  {
   "cell_type": "code",
   "execution_count": 41,
   "metadata": {},
   "outputs": [
    {
     "name": "stdout",
     "output_type": "stream",
     "text": [
      "Epoch 1/10\n",
      "14/14 [==============================] - 6s 461ms/step - loss: 0.2211\n",
      "Epoch 2/10\n",
      "14/14 [==============================] - 6s 454ms/step - loss: 0.0692\n",
      "Epoch 3/10\n",
      "14/14 [==============================] - 6s 449ms/step - loss: 0.0539\n",
      "Epoch 4/10\n",
      "14/14 [==============================] - 7s 474ms/step - loss: 0.0484\n",
      "Epoch 5/10\n",
      "14/14 [==============================] - 7s 469ms/step - loss: 0.0443\n",
      "Epoch 6/10\n",
      "14/14 [==============================] - 6s 457ms/step - loss: 0.0425\n",
      "Epoch 7/10\n",
      "14/14 [==============================] - 6s 458ms/step - loss: 0.0390\n",
      "Epoch 8/10\n",
      "14/14 [==============================] - 7s 466ms/step - loss: 0.0368\n",
      "Epoch 9/10\n",
      "14/14 [==============================] - 8s 565ms/step - loss: 0.0353\n",
      "Epoch 10/10\n",
      "14/14 [==============================] - 8s 577ms/step - loss: 0.0336\n"
     ]
    },
    {
     "data": {
      "text/plain": [
       "<tensorflow.python.keras.callbacks.History at 0x2a587fe3b80>"
      ]
     },
     "execution_count": 41,
     "metadata": {},
     "output_type": "execute_result"
    }
   ],
   "source": [
    "model = keras.models.Sequential([\n",
    "    keras.layers.Conv1D(filters=20,kernel_size=5,padding=\"valid\",input_shape = [X_train.shape[1],X_train.shape[2]]),\n",
    "    keras.layers.GRU(200,return_sequences=True,input_shape = [X_train.shape[1],X_train.shape[2]]),\n",
    "    keras.layers.Dropout(.3),\n",
    "    keras.layers.GRU(200),\n",
    "    #keras.layers.Dropout(.2),\n",
    "    #keras.layers.GRU(50,return_sequences=True),\n",
    "    keras.layers.Dense(1)\n",
    "])\n",
    "model.compile(optimizer=\"adam\",loss=sign_loss_wrapper(1.15))\n",
    "model.fit(x=X_train,y=Y_train,epochs=1)"
   ]
  },
  {
   "cell_type": "code",
   "execution_count": 99,
   "metadata": {},
   "outputs": [
    {
     "name": "stdout",
     "output_type": "stream",
     "text": [
      "3/3 [==============================] - 0s 138ms/step - loss: 0.0038\n"
     ]
    },
    {
     "data": {
      "text/plain": [
       "0.003836629446595907"
      ]
     },
     "execution_count": 99,
     "metadata": {},
     "output_type": "execute_result"
    }
   ],
   "source": [
    "model.evaluate(x=X_validate,y=Y_validate)"
   ]
  },
  {
   "cell_type": "code",
   "execution_count": 100,
   "metadata": {},
   "outputs": [
    {
     "data": {
      "text/plain": [
       "<matplotlib.legend.Legend at 0x242927fc520>"
      ]
     },
     "execution_count": 100,
     "metadata": {},
     "output_type": "execute_result"
    },
    {
     "data": {
      "image/png": "[encoded data removed]",
      "text/plain": [
       "<Figure size 720x432 with 1 Axes>"
      ]
     },
     "metadata": {
      "needs_background": "light"
     },
     "output_type": "display_data"
    }
   ],
   "source": [
    "plt.figure(figsize=(10,6))\n",
    "plt.plot(np.vstack((np.sqrt(scaler.var_)*model.predict(X_validate)+scaler.mean_,np.sqrt(scaler.var_)*model.predict(X_test)+scaler.mean_)),color=\"red\",label=\"Fcst\")\n",
    "plt.plot(np.vstack((np.sqrt(scaler.var_)*Y_validate+scaler.mean_,np.sqrt(scaler.var_)*Y_test+scaler.mean_)),color=\"blue\",label=\"Actuals\")\n",
    "plt.title(\"LiteCoin Prediction - GRU RNN w 1DConv Layer\")\n",
    "plt.legend()"
   ]
  },
  {
   "cell_type": "code",
   "execution_count": 101,
   "metadata": {},
   "outputs": [
    {
     "name": "stderr",
     "output_type": "stream",
     "text": [
      "C:\\Users\\cnaka\\anaconda3\\lib\\site-packages\\tensorflow\\python\\data\\ops\\dataset_ops.py:3349: UserWarning: Even though the tf.config.experimental_run_functions_eagerly option is set, this option does not apply to tf.data functions. tf.data functions are still traced and executed as graphs.\n",
      "  warnings.warn(\n"
     ]
    },
    {
     "data": {
      "text/plain": [
       "0.47368421052631576"
      ]
     },
     "execution_count": 101,
     "metadata": {},
     "output_type": "execute_result"
    }
   ],
   "source": [
    "df=pd.DataFrame()\n",
    "df[\"Forecast\"]=(np.sqrt(scaler.var_)*model.predict(X_validate).T+scaler.mean_).flatten()\n",
    "df[\"Actual\"]=(np.sqrt(scaler.var_)*Y_validate.T+scaler.mean_).flatten()\n",
    "df[\"Correct Sign\"]=np.zeros(76)\n",
    "for i in range(1,len(df[\"Forecast\"])):\n",
    "    if np.sign(df[\"Forecast\"][i]-df[\"Actual\"][i-1])==np.sign(df[\"Actual\"][i]-df[\"Actual\"][i-1]):\n",
    "        df.iloc[i,2]=1\n",
    "sum(df[\"Correct Sign\"])/len(df[\"Correct Sign\"])"
   ]
  },
  {
   "cell_type": "markdown",
   "metadata": {},
   "source": [
    "## GAN"
   ]
  },
  {
   "cell_type": "code",
   "execution_count": 154,
   "metadata": {},
   "outputs": [
    {
     "name": "stdout",
     "output_type": "stream",
     "text": [
      "Model: \"sequential_22\"\n",
      "_________________________________________________________________\n",
      "Layer (type)                 Output Shape              Param #   \n",
      "=================================================================\n",
      "gru_34 (GRU)                 (None, 100, 200)          121800    \n",
      "_________________________________________________________________\n",
      "dropout_22 (Dropout)         (None, 100, 200)          0         \n",
      "_________________________________________________________________\n",
      "gru_35 (GRU)                 (None, 100, 200)          241200    \n",
      "_________________________________________________________________\n",
      "dense_22 (Dense)             (None, 100, 1)            201       \n",
      "=================================================================\n",
      "Total params: 363,201\n",
      "Trainable params: 363,201\n",
      "Non-trainable params: 0\n",
      "_________________________________________________________________\n"
     ]
    }
   ],
   "source": [
    "\n",
    "G = keras.models.Sequential([\n",
    "    keras.layers.GRU(200,return_sequences=True,input_shape = [w,1]),\n",
    "    keras.layers.Dropout(.3),\n",
    "    keras.layers.GRU(200,return_sequences=True),\n",
    "    #keras.layers.Dropout(.2),\n",
    "    #keras.layers.GRU(50,return_sequences=True),\n",
    "    keras.layers.Dense(1)\n",
    "])\n",
    "#G.compile(optimizer=\"adam\",loss=\"mse\")\n",
    "G.summary()"
   ]
  },
  {
   "cell_type": "code",
   "execution_count": 137,
   "metadata": {},
   "outputs": [
    {
     "name": "stderr",
     "output_type": "stream",
     "text": [
      "C:\\Users\\cnaka\\anaconda3\\lib\\site-packages\\tensorflow\\python\\data\\ops\\dataset_ops.py:3349: UserWarning: Even though the tf.config.experimental_run_functions_eagerly option is set, this option does not apply to tf.data functions. tf.data functions are still traced and executed as graphs.\n",
      "  warnings.warn(\n"
     ]
    },
    {
     "name": "stdout",
     "output_type": "stream",
     "text": [
      "Epoch 1/10\n",
      "15/15 [==============================] - 10s 673ms/step - loss: 0.4194\n",
      "Epoch 2/10\n",
      "15/15 [==============================] - 10s 657ms/step - loss: 0.2305\n",
      "Epoch 3/10\n",
      "15/15 [==============================] - 10s 664ms/step - loss: 0.1992\n",
      "Epoch 4/10\n",
      "15/15 [==============================] - 10s 665ms/step - loss: 0.1845\n",
      "Epoch 5/10\n",
      "15/15 [==============================] - 10s 667ms/step - loss: 0.1787\n",
      "Epoch 6/10\n",
      "15/15 [==============================] - 10s 672ms/step - loss: 0.1749\n",
      "Epoch 7/10\n",
      "15/15 [==============================] - 10s 665ms/step - loss: 0.1705\n",
      "Epoch 8/10\n",
      "15/15 [==============================] - 10s 658ms/step - loss: 0.1673\n",
      "Epoch 9/10\n",
      "15/15 [==============================] - 10s 670ms/step - loss: 0.1621\n",
      "Epoch 10/10\n",
      "15/15 [==============================] - 10s 655ms/step - loss: 0.1593\n"
     ]
    },
    {
     "data": {
      "text/plain": [
       "<tensorflow.python.keras.callbacks.History at 0x2a59ee71130>"
      ]
     },
     "execution_count": 137,
     "metadata": {},
     "output_type": "execute_result"
    }
   ],
   "source": [
    "G.fit(x=X_train,y=Y_train,epochs=10)"
   ]
  },
  {
   "cell_type": "code",
   "execution_count": 155,
   "metadata": {},
   "outputs": [
    {
     "name": "stdout",
     "output_type": "stream",
     "text": [
      "Model: \"sequential_23\"\n",
      "_________________________________________________________________\n",
      "Layer (type)                 Output Shape              Param #   \n",
      "=================================================================\n",
      "conv1d_18 (Conv1D)           (None, 49, 32)            160       \n",
      "_________________________________________________________________\n",
      "leaky_re_lu_15 (LeakyReLU)   (None, 49, 32)            0         \n",
      "_________________________________________________________________\n",
      "conv1d_19 (Conv1D)           (None, 23, 64)            8256      \n",
      "_________________________________________________________________\n",
      "leaky_re_lu_16 (LeakyReLU)   (None, 23, 64)            0         \n",
      "_________________________________________________________________\n",
      "batch_normalization_6 (Batch (None, 23, 64)            256       \n",
      "_________________________________________________________________\n",
      "conv1d_20 (Conv1D)           (None, 10, 128)           32896     \n",
      "_________________________________________________________________\n",
      "leaky_re_lu_17 (LeakyReLU)   (None, 10, 128)           0         \n",
      "_________________________________________________________________\n",
      "batch_normalization_7 (Batch (None, 10, 128)           512       \n",
      "_________________________________________________________________\n",
      "dropout_23 (Dropout)         (None, 10, 128)           0         \n",
      "_________________________________________________________________\n",
      "dense_23 (Dense)             (None, 10, 1)             129       \n",
      "=================================================================\n",
      "Total params: 42,209\n",
      "Trainable params: 41,825\n",
      "Non-trainable params: 384\n",
      "_________________________________________________________________\n"
     ]
    }
   ],
   "source": [
    "D = keras.models.Sequential([\n",
    "    keras.layers.Conv1D(32,4,strides=2,input_shape=[w,1]),\n",
    "    keras.layers.LeakyReLU(),\n",
    "    keras.layers.Conv1D(64,4,strides=2),\n",
    "    keras.layers.LeakyReLU(),\n",
    "    keras.layers.BatchNormalization(),\n",
    "    keras.layers.Conv1D(128,4,strides=2),\n",
    "    keras.layers.LeakyReLU(),\n",
    "    keras.layers.BatchNormalization(),\n",
    "    #keras.layers.Flatten(),\n",
    "    keras.layers.Dropout(.3),\n",
    "    keras.layers.Dense(1,activation='tanh')\n",
    "])\n",
    "D.compile(optimizer=\"adam\",loss=\"binary_crossentropy\")\n",
    "D.summary()\n"
   ]
  },
  {
   "cell_type": "code",
   "execution_count": 156,
   "metadata": {},
   "outputs": [],
   "source": [
    "D.trainable=False\n",
    "gan_input = keras.Input(shape=[w,1])\n",
    "gan_output = D(G(gan_input))\n",
    "gan=keras.models.Model(gan_input,gan_output)\n",
    "gan_optimizer = keras.optimizers.RMSprop(lr=.0004,clipvalue=1,decay=1e-8)\n",
    "gan.compile(optimizer=gan_optimizer,loss='binary_crossentropy')"
   ]
  },
  {
   "cell_type": "code",
   "execution_count": 157,
   "metadata": {},
   "outputs": [
    {
     "name": "stderr",
     "output_type": "stream",
     "text": [
      "C:\\Users\\cnaka\\anaconda3\\lib\\site-packages\\tensorflow\\python\\data\\ops\\dataset_ops.py:3349: UserWarning: Even though the tf.config.experimental_run_functions_eagerly option is set, this option does not apply to tf.data functions. tf.data functions are still traced and executed as graphs.\n",
      "  warnings.warn(\n"
     ]
    },
    {
     "name": "stdout",
     "output_type": "stream",
     "text": [
      "Discriminator Loss= 0.6948157548904419\n",
      "Adverserial Loss= 0.018529895693063736\n",
      "Discriminator Loss= 0.14166761934757233\n",
      "Adverserial Loss= 0.4475536346435547\n"
     ]
    }
   ],
   "source": [
    "iterations=100\n",
    "batchsize=14\n",
    "start=0\n",
    "random_latent_vectors=np.random.normal(size=(batchsize,w,1))\n",
    "for step in range(iterations):\n",
    "    generated_sequences = G.predict(random_latent_vectors)\n",
    "    stop = start+batchsize\n",
    "    real_sequences = X_train[start:stop]\n",
    "    combined_sequences = np.concatenate([generated_sequences,real_sequences])\n",
    "    labels = np.concatenate([np.zeros((batchsize,1)),np.ones((batchsize,1))])\n",
    "    labels += .05*np.random.random(labels.shape)\n",
    "    D_loss=D.train_on_batch(combined_sequences,labels)\n",
    "    random_latent_vectors=np.random.normal(size=(batchsize,w,1))\n",
    "    misleading_labels = np.zeros((batchsize,1))\n",
    "    a_loss=gan.train_on_batch(random_latent_vectors,misleading_labels)\n",
    "    start=start+batchsize\n",
    "    if start>len(X_train)-batchsize:\n",
    "        start=0\n",
    "    if step%50==0:\n",
    "        print(\"Discriminator Loss=\",D_loss)\n",
    "        print(\"Adverserial Loss=\",a_loss)"
   ]
  },
  {
   "cell_type": "code",
   "execution_count": 87,
   "metadata": {},
   "outputs": [
    {
     "name": "stderr",
     "output_type": "stream",
     "text": [
      "C:\\Users\\cnaka\\anaconda3\\lib\\site-packages\\tensorflow\\python\\data\\ops\\dataset_ops.py:3349: UserWarning: Even though the tf.config.experimental_run_functions_eagerly option is set, this option does not apply to tf.data functions. tf.data functions are still traced and executed as graphs.\n",
      "  warnings.warn(\n"
     ]
    },
    {
     "data": {
      "text/plain": [
       "0.5131578947368421"
      ]
     },
     "execution_count": 87,
     "metadata": {},
     "output_type": "execute_result"
    }
   ],
   "source": [
    "df=pd.DataFrame()\n",
    "df[\"Forecast\"]=(np.sqrt(scaler.var_)*G.predict(X_validate)[:,-1]+scaler.mean_).flatten()\n",
    "df[\"Actual\"]=(np.sqrt(scaler.var_)*Y_validate[:,-1].reshape((76,1))+scaler.mean_).flatten()\n",
    "df[\"Correct Sign\"]=np.zeros(76)\n",
    "for i in range(1,len(df[\"Forecast\"])):\n",
    "    if np.sign(df[\"Forecast\"][i]-df[\"Actual\"][i-1])==np.sign(df[\"Actual\"][i]-df[\"Actual\"][i-1]):\n",
    "        df.iloc[i,2]=1\n",
    "sum(df[\"Correct Sign\"])/len(df[\"Correct Sign\"])"
   ]
  },
  {
   "cell_type": "code",
   "execution_count": 111,
   "metadata": {},
   "outputs": [
    {
     "data": {
      "text/plain": [
       "(60,)"
      ]
     },
     "execution_count": 111,
     "metadata": {},
     "output_type": "execute_result"
    }
   ],
   "source": [
    "train_scaled[0:60,0].shape"
   ]
  },
  {
   "cell_type": "code",
   "execution_count": null,
   "metadata": {},
   "outputs": [],
   "source": []
  },
  {
   "cell_type": "markdown",
   "metadata": {},
   "source": [
    "## Classification Model"
   ]
  },
  {
   "cell_type": "code",
   "execution_count": 110,
   "metadata": {},
   "outputs": [],
   "source": [
    "data[\"Date\"]=pd.to_datetime(data[\"Date\"])\n",
    "datadiff=data.diff()\n",
    "datadiff[\"Date\"]=data[\"Date\"]\n",
    "data=data.merge(datadiff[[\"Close\",\"Date\"]],on=\"Date\").rename(columns={\"Close_x\":\"Close\",\n",
    "            \"Close_y\":\"Return\"})\n",
    "data[\"Return_Binary\"]=[1 if data[\"Return\"][x]>0 else 0 for x in range(0,len(data))]\n",
    "data.tail()"
   ]
  },
  {
   "cell_type": "code",
   "execution_count": 99,
   "metadata": {},
   "outputs": [
    {
     "name": "stdout",
     "output_type": "stream",
     "text": [
      "(655, 100, 6) (655,)\n",
      "(151, 100, 6) (151,)\n",
      "(150, 100, 6) (150,)\n"
     ]
    }
   ],
   "source": [
    "data=data[data[\"Date\"]>=\"2015-11-24\"]\n",
    "data=data.reset_index().drop(\"index\",axis=1)\n",
    "train=data.loc[0:round(len(data[\"Close\"])*.6)][[\"Return\",\"Volume\",\"MA10\",\"MA50\",\"MA200\",\"MACD_Indicator\",\"Return_Binary\"#,\"Volume\",\"Bollinger_High\",\"Bollinger_Low\"\n",
    "                                               ]]\n",
    "validate = data.loc[round(len(data[\"Close\"])*.6)+1:round(len(data[\"Close\"])*.8)][[\"Return\",\"Volume\",\"MA10\",\"MA50\",\"MA200\",\"MACD_Indicator\",\"Return_Binary\"#,\"Volume\",\"Bollinger_High\",\"Bollinger_Low\"\n",
    "                                                                                 ]]\n",
    "test =data.loc[round(len(data[\"Close\"])*.8)+1:][[\"Return\",\"Volume\",\"MA10\",\"MA50\",\"MA200\",\"MACD_Indicator\",\"Return_Binary\"#,\"Volume\",\"Bollinger_High\",\"Bollinger_Low\"\n",
    "                                                ]]\n",
    "from sklearn.preprocessing import StandardScaler\n",
    "scaler = StandardScaler()\n",
    "train_scaled=scaler.fit_transform(train)\n",
    "validate_scaled=scaler.transform(validate)\n",
    "test_scaled=scaler.transform(test)\n",
    "def create_datasets2(X,Y,w,h):\n",
    "    X_set,Y_set=[],[]\n",
    "    for i in range(w,len(X)):\n",
    "        X_set.append(X[i-w:i,])\n",
    "        Y_set.append(Y[i:i+h,].values[0]#.reshape((w,1))\n",
    "                    )\n",
    "    return np.array(X_set),np.array(Y_set)\n",
    "X_train,Y_train=create_datasets2(train_scaled[:,0:6],train[\"Return_Binary\"],w,h)\n",
    "X_validate,Y_validate=create_datasets2(validate_scaled[:,0:6],validate[\"Return_Binary\"],w,h)\n",
    "X_test,Y_test=create_datasets2(test_scaled[:,0:6],test[\"Return_Binary\"],w,h)\n",
    "X_train=X_train.reshape((X_train.shape[0],X_train.shape[1],X_validate.shape[2]))\n",
    "X_validate=X_validate.reshape((X_validate.shape[0],X_validate.shape[1],X_validate.shape[2]))\n",
    "X_test=X_test.reshape((X_test.shape[0],X_test.shape[1],X_validate.shape[2]))\n",
    "print(X_train.shape,Y_train.shape)\n",
    "print(X_validate.shape,Y_validate.shape)\n",
    "print(X_test.shape,Y_test.shape)"
   ]
  },
  {
   "cell_type": "code",
   "execution_count": null,
   "metadata": {},
   "outputs": [],
   "source": [
    "callback = tf.keras.callbacks.EarlyStopping(monitor='loss', patience=5)\n",
    "model=keras.models.Sequential([\n",
    "    keras.layers.Conv1D(filters=20,kernel_size=5,padding=\"valid\",input_shape = [X_train.shape[1],X_train.shape[2]]),\n",
    "    keras.layers.RNN(tfa.rnn.LayerNormLSTMCell(units=50,recurrent_dropout=.1),return_sequences=True),\n",
    "    keras.layers.RNN(tfa.rnn.LayerNormLSTMCell(units=50,recurrent_dropout=.1)),\n",
    "    keras.layers.Dense(1,activation=\"sigmoid\")\n",
    "])\n",
    "model.compile(loss=\"binary_crossentropy\",optimizer = \"adam\",metrics=[\"accuracy\"])\n",
    "model.fit(x=X_train,y=Y_train,epochs=100,validation_data=(X_validate,Y_validate),#callbacks=[callback]\n",
    "         )"
   ]
  },
  {
   "cell_type": "code",
   "execution_count": null,
   "metadata": {},
   "outputs": [],
   "source": [
    "model.evaluate(X_test,Y_test)"
   ]
  },
  {
   "cell_type": "code",
   "execution_count": null,
   "metadata": {},
   "outputs": [],
   "source": [
    "pd.DataFrame([model.predict(X_test).flatten().T,Y_test.flatten().T])"
   ]
  },
  {
   "cell_type": "code",
   "execution_count": null,
   "metadata": {},
   "outputs": [],
   "source": [
    "model.summary()"
   ]
  },
  {
   "cell_type": "code",
   "execution_count": null,
   "metadata": {},
   "outputs": [],
   "source": []
  }
 ],
 "metadata": {
  "kernelspec": {
   "display_name": "Python 3",
   "language": "python",
   "name": "python3"
  },
  "language_info": {
   "codemirror_mode": {
    "name": "ipython",
    "version": 3
   },
   "file_extension": ".py",
   "mimetype": "text/x-python",
   "name": "python",
   "nbconvert_exporter": "python",
   "pygments_lexer": "ipython3",
   "version": "3.8.3"
  }
 },
 "nbformat": 4,
 "nbformat_minor": 4
}
