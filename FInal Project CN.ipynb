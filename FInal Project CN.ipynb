{
 "cells": [
  {
   "cell_type": "code",
   "execution_count": 2,
   "metadata": {},
   "outputs": [],
   "source": [
    "import pandas as pd\n",
    "import numpy as np\n",
    "import matplotlib.pyplot as plt\n",
    "import seaborn as sns\n",
    "import statsmodels.tsa as ts\n",
    "import pmdarima as pm\n",
    "from datetime import datetime"
   ]
  },
  {
   "cell_type": "markdown",
   "metadata": {},
   "source": [
    "# Linear Regression"
   ]
  },
  {
   "cell_type": "code",
   "execution_count": 3,
   "metadata": {},
   "outputs": [
    {
     "data": {
      "text/html": [
       "<div>\n",
       "<style scoped>\n",
       "    .dataframe tbody tr th:only-of-type {\n",
       "        vertical-align: middle;\n",
       "    }\n",
       "\n",
       "    .dataframe tbody tr th {\n",
       "        vertical-align: top;\n",
       "    }\n",
       "\n",
       "    .dataframe thead th {\n",
       "        text-align: right;\n",
       "    }\n",
       "</style>\n",
       "<table border=\"1\" class=\"dataframe\">\n",
       "  <thead>\n",
       "    <tr style=\"text-align: right;\">\n",
       "      <th></th>\n",
       "      <th>Date</th>\n",
       "      <th>Open</th>\n",
       "      <th>High</th>\n",
       "      <th>Low</th>\n",
       "      <th>Close</th>\n",
       "      <th>Adj Close</th>\n",
       "      <th>Volume</th>\n",
       "      <th>Open_VIX</th>\n",
       "      <th>High_VIX</th>\n",
       "      <th>Low_VIX</th>\n",
       "      <th>...</th>\n",
       "      <th>Close_Ten</th>\n",
       "      <th>Adj_Close_Ten</th>\n",
       "      <th>Volume_Ten</th>\n",
       "      <th>Open_Thirty</th>\n",
       "      <th>High_Thirty</th>\n",
       "      <th>Low_Thirty</th>\n",
       "      <th>Close_Thirty</th>\n",
       "      <th>Adj_Close_Thirty</th>\n",
       "      <th>Volume_Thirty</th>\n",
       "      <th>Yield_Spread</th>\n",
       "    </tr>\n",
       "  </thead>\n",
       "  <tbody>\n",
       "    <tr>\n",
       "      <th>0</th>\n",
       "      <td>2015-11-23</td>\n",
       "      <td>3.14389</td>\n",
       "      <td>3.14672</td>\n",
       "      <td>3.11133</td>\n",
       "      <td>3.12410</td>\n",
       "      <td>3.12410</td>\n",
       "      <td>1389260</td>\n",
       "      <td>16.150000</td>\n",
       "      <td>16.740000</td>\n",
       "      <td>15.38</td>\n",
       "      <td>...</td>\n",
       "      <td>2.250</td>\n",
       "      <td>2.250</td>\n",
       "      <td>0.0</td>\n",
       "      <td>3.045</td>\n",
       "      <td>3.048</td>\n",
       "      <td>2.991</td>\n",
       "      <td>3.007</td>\n",
       "      <td>3.007</td>\n",
       "      <td>0.0</td>\n",
       "      <td>1.326</td>\n",
       "    </tr>\n",
       "    <tr>\n",
       "      <th>1</th>\n",
       "      <td>2015-11-24</td>\n",
       "      <td>3.13036</td>\n",
       "      <td>3.13070</td>\n",
       "      <td>3.08787</td>\n",
       "      <td>3.10783</td>\n",
       "      <td>3.10783</td>\n",
       "      <td>1510060</td>\n",
       "      <td>16.530001</td>\n",
       "      <td>17.209999</td>\n",
       "      <td>15.48</td>\n",
       "      <td>...</td>\n",
       "      <td>2.243</td>\n",
       "      <td>2.243</td>\n",
       "      <td>0.0</td>\n",
       "      <td>2.975</td>\n",
       "      <td>3.016</td>\n",
       "      <td>2.969</td>\n",
       "      <td>3.006</td>\n",
       "      <td>3.006</td>\n",
       "      <td>0.0</td>\n",
       "      <td>1.338</td>\n",
       "    </tr>\n",
       "    <tr>\n",
       "      <th>2</th>\n",
       "      <td>2015-11-25</td>\n",
       "      <td>3.11383</td>\n",
       "      <td>3.34444</td>\n",
       "      <td>3.09277</td>\n",
       "      <td>3.34444</td>\n",
       "      <td>3.34444</td>\n",
       "      <td>2877300</td>\n",
       "      <td>15.550000</td>\n",
       "      <td>15.890000</td>\n",
       "      <td>15.05</td>\n",
       "      <td>...</td>\n",
       "      <td>2.232</td>\n",
       "      <td>2.232</td>\n",
       "      <td>0.0</td>\n",
       "      <td>2.992</td>\n",
       "      <td>3.001</td>\n",
       "      <td>2.979</td>\n",
       "      <td>2.995</td>\n",
       "      <td>2.995</td>\n",
       "      <td>0.0</td>\n",
       "      <td>1.331</td>\n",
       "    </tr>\n",
       "    <tr>\n",
       "      <th>3</th>\n",
       "      <td>2015-11-27</td>\n",
       "      <td>3.60140</td>\n",
       "      <td>3.62843</td>\n",
       "      <td>3.51932</td>\n",
       "      <td>3.57861</td>\n",
       "      <td>3.57861</td>\n",
       "      <td>2780650</td>\n",
       "      <td>15.310000</td>\n",
       "      <td>16.090000</td>\n",
       "      <td>15.12</td>\n",
       "      <td>...</td>\n",
       "      <td>2.225</td>\n",
       "      <td>2.225</td>\n",
       "      <td>0.0</td>\n",
       "      <td>2.975</td>\n",
       "      <td>3.003</td>\n",
       "      <td>2.974</td>\n",
       "      <td>3.001</td>\n",
       "      <td>3.001</td>\n",
       "      <td>0.0</td>\n",
       "      <td>1.348</td>\n",
       "    </tr>\n",
       "    <tr>\n",
       "      <th>4</th>\n",
       "      <td>2015-11-30</td>\n",
       "      <td>3.66437</td>\n",
       "      <td>3.73746</td>\n",
       "      <td>3.57929</td>\n",
       "      <td>3.62122</td>\n",
       "      <td>3.62122</td>\n",
       "      <td>3339320</td>\n",
       "      <td>15.550000</td>\n",
       "      <td>16.570000</td>\n",
       "      <td>15.52</td>\n",
       "      <td>...</td>\n",
       "      <td>2.218</td>\n",
       "      <td>2.218</td>\n",
       "      <td>0.0</td>\n",
       "      <td>3.003</td>\n",
       "      <td>3.004</td>\n",
       "      <td>2.983</td>\n",
       "      <td>2.990</td>\n",
       "      <td>2.990</td>\n",
       "      <td>0.0</td>\n",
       "      <td>1.336</td>\n",
       "    </tr>\n",
       "  </tbody>\n",
       "</table>\n",
       "<p>5 rows × 38 columns</p>\n",
       "</div>"
      ],
      "text/plain": [
       "         Date     Open     High      Low    Close  Adj Close   Volume  \\\n",
       "0  2015-11-23  3.14389  3.14672  3.11133  3.12410    3.12410  1389260   \n",
       "1  2015-11-24  3.13036  3.13070  3.08787  3.10783    3.10783  1510060   \n",
       "2  2015-11-25  3.11383  3.34444  3.09277  3.34444    3.34444  2877300   \n",
       "3  2015-11-27  3.60140  3.62843  3.51932  3.57861    3.57861  2780650   \n",
       "4  2015-11-30  3.66437  3.73746  3.57929  3.62122    3.62122  3339320   \n",
       "\n",
       "    Open_VIX   High_VIX  Low_VIX  ...  Close_Ten  Adj_Close_Ten  Volume_Ten  \\\n",
       "0  16.150000  16.740000    15.38  ...      2.250          2.250         0.0   \n",
       "1  16.530001  17.209999    15.48  ...      2.243          2.243         0.0   \n",
       "2  15.550000  15.890000    15.05  ...      2.232          2.232         0.0   \n",
       "3  15.310000  16.090000    15.12  ...      2.225          2.225         0.0   \n",
       "4  15.550000  16.570000    15.52  ...      2.218          2.218         0.0   \n",
       "\n",
       "   Open_Thirty  High_Thirty  Low_Thirty  Close_Thirty  Adj_Close_Thirty  \\\n",
       "0        3.045        3.048       2.991         3.007             3.007   \n",
       "1        2.975        3.016       2.969         3.006             3.006   \n",
       "2        2.992        3.001       2.979         2.995             2.995   \n",
       "3        2.975        3.003       2.974         3.001             3.001   \n",
       "4        3.003        3.004       2.983         2.990             2.990   \n",
       "\n",
       "   Volume_Thirty  Yield_Spread  \n",
       "0            0.0         1.326  \n",
       "1            0.0         1.338  \n",
       "2            0.0         1.331  \n",
       "3            0.0         1.348  \n",
       "4            0.0         1.336  \n",
       "\n",
       "[5 rows x 38 columns]"
      ]
     },
     "execution_count": 3,
     "metadata": {},
     "output_type": "execute_result"
    }
   ],
   "source": [
    "data=pd.read_csv(r\"C:\\Users\\cnaka\\Class Notes\\31009 Machine Learning\\Final Project\\LTC-USD.csv\")\n",
    "vix=pd.read_csv(r\"C:\\Users\\cnaka\\Class Notes\\31009 Machine Learning\\Final Project\\^VIX.csv\")\n",
    "spy=pd.read_csv(r\"C:\\Users\\cnaka\\Class Notes\\31009 Machine Learning\\Final Project\\SPY.csv\")\n",
    "ten=pd.read_csv(r\"C:\\Users\\cnaka\\Class Notes\\31009 Machine Learning\\Final Project\\^TNX.csv\")\n",
    "five=pd.read_csv(r\"C:\\Users\\cnaka\\Class Notes\\31009 Machine Learning\\Final Project\\^FVX.csv\")\n",
    "thirty=pd.read_csv(r\"C:\\Users\\cnaka\\Class Notes\\31009 Machine Learning\\Final Project\\^TYX.csv\")\n",
    "ten.columns = [\"Date\",\"Open_Ten\",\"High_Ten\",\"Low_Ten\",\"Close_Ten\",'Adj_Close_Ten',\"Volume_Ten\"]\n",
    "five.columns = [\"Date\",\"Open_Five\",\"High_Five\",\"Low_Five\",\"Close_Five\",'Adj_Close_Five',\"Volume_Five\"]\n",
    "thirty.columns = [\"Date\",\"Open_Thirty\",\"High_Thirty\",\"Low_Thirty\",\"Close_Thirty\",'Adj_Close_Thirty',\"Volume_Thirty\"]\n",
    "spy.columns = [\"Date\",\"Open_SPY\",\"High_SPY\",\"Low_SPY\",\"Close_SPY\",'Adj_Close_SPY',\"Volume_SPY\"]\n",
    "vix.columns = [\"Date\",\"Open_VIX\",\"High_VIX\",\"Low_VIX\",\"Close_VIX\",'Adj_Close_VIX',\"Volume_VIX\"]\n",
    "data = data.merge(vix,on=\"Date\").merge(spy,on=\"Date\").merge(five,on=\"Date\").merge(ten,on=\"Date\").merge(thirty,on=\"Date\")\n",
    "data[\"Yield_Spread\"] = data[\"Close_Thirty\"]-data[\"Close_Five\"]\n",
    "data.head()"
   ]
  },
  {
   "cell_type": "code",
   "execution_count": 30,
   "metadata": {},
   "outputs": [],
   "source": [
    "datadiff=data.drop(\"Date\",axis=1).diff().loc[1:]\n",
    "datadiff[\"Date\"]=pd.to_datetime(data[\"Date\"])[1:]+dt.timedelta(days=1)\n",
    "datadiff.head()\n",
    "data1lag=data.drop(\"Date\",axis=1)\n",
    "data1lag[\"Date\"]=pd.to_datetime(data[\"Date\"])+dt.timedelta(days=1)"
   ]
  },
  {
   "cell_type": "code",
   "execution_count": 84,
   "metadata": {},
   "outputs": [
    {
     "data": {
      "text/plain": [
       "0.04365965886935641"
      ]
     },
     "execution_count": 84,
     "metadata": {},
     "output_type": "execute_result"
    }
   ],
   "source": [
    "from sklearn.linear_model import LinearRegression\n",
    "y=data[data[\"Date\"]>\"2017-05-23\"][\"Close\"].diff()[1:]\n",
    "X=datadiff[datadiff[\"Date\"]>\"2017-05-24\"].drop(\"Date\",axis=1)[[\"Close\",\"Volume\",\"Close_VIX\",\"Volume_VIX\",\"Close_SPY\",\"Volume_SPY\",\"Close_Five\",\"Close_Ten\",\"Close_Thirty\",\"Yield_Spread\"]][:-1].fillna(0)\n",
    "lm=LinearRegression()\n",
    "lm.fit(y=y,X=X)\n",
    "lm.score(y=y,X=X)"
   ]
  },
  {
   "cell_type": "markdown",
   "metadata": {},
   "source": [
    "# Time Series"
   ]
  },
  {
   "cell_type": "code",
   "execution_count": 34,
   "metadata": {},
   "outputs": [
    {
     "data": {
      "image/png": "[encoded data removed]",
      "text/plain": [
       "<Figure size 432x288 with 1 Axes>"
      ]
     },
     "metadata": {
      "needs_background": "light"
     },
     "output_type": "display_data"
    }
   ],
   "source": [
    "from scipy.stats import boxcox\n",
    "plt.plot(pd.DataFrame(boxcox(data[\"Close\"])[0]).diff())\n",
    "dataadj=boxcox(data[\"Close\"])[0]"
   ]
  },
  {
   "cell_type": "code",
   "execution_count": 35,
   "metadata": {},
   "outputs": [
    {
     "name": "stdout",
     "output_type": "stream",
     "text": [
      "Performing stepwise search to minimize aic\n",
      " ARIMA(1,1,1)(0,0,0)[0] intercept   : AIC=-5153.159, Time=0.94 sec\n",
      " ARIMA(0,1,0)(0,0,0)[0] intercept   : AIC=-5157.117, Time=0.49 sec\n",
      " ARIMA(1,1,0)(0,0,0)[0] intercept   : AIC=-5155.159, Time=0.81 sec\n",
      " ARIMA(0,1,1)(0,0,0)[0] intercept   : AIC=-5155.159, Time=0.54 sec\n",
      " ARIMA(0,1,0)(0,0,0)[0]             : AIC=-5158.028, Time=0.28 sec\n",
      "\n",
      "Best model:  ARIMA(0,1,0)(0,0,0)[0]          \n",
      "Total fit time: 3.086 seconds\n"
     ]
    },
    {
     "data": {
      "text/plain": [
       "ARIMA(order=(0, 1, 0), scoring_args={}, suppress_warnings=True,\n",
       "      with_intercept=False)"
      ]
     },
     "execution_count": 35,
     "metadata": {},
     "output_type": "execute_result"
    }
   ],
   "source": [
    "pm.auto_arima(dataadj, start_p=1, start_q=1,\n",
    "                         test='adf',\n",
    "                         start_P=0, \n",
    "                         trace=True,\n",
    "                         error_action='ignore',  \n",
    "                         suppress_warnings=True, \n",
    "                         stepwise=True)"
   ]
  },
  {
   "cell_type": "code",
   "execution_count": 46,
   "metadata": {},
   "outputs": [
    {
     "data": {
      "text/plain": [
       "[<matplotlib.lines.Line2D at 0x25f20f81cd0>]"
      ]
     },
     "execution_count": 46,
     "metadata": {},
     "output_type": "execute_result"
    },
    {
     "data": {
      "image/png": "[encoded data removed]",
      "text/plain": [
       "<Figure size 432x288 with 1 Axes>"
      ]
     },
     "metadata": {
      "needs_background": "light"
     },
     "output_type": "display_data"
    }
   ],
   "source": [
    "plt.plot(data[data[\"Date\"]>\"2017-05-25\"][\"Close\"])"
   ]
  },
  {
   "cell_type": "code",
   "execution_count": 49,
   "metadata": {},
   "outputs": [
    {
     "name": "stdout",
     "output_type": "stream",
     "text": [
      "Performing stepwise search to minimize aic\n",
      " ARIMA(1,1,1)(0,0,0)[0] intercept   : AIC=8529.844, Time=0.94 sec\n",
      " ARIMA(0,1,0)(0,0,0)[0] intercept   : AIC=8535.191, Time=0.07 sec\n",
      " ARIMA(1,1,0)(0,0,0)[0] intercept   : AIC=8533.240, Time=0.23 sec\n",
      " ARIMA(0,1,1)(0,0,0)[0] intercept   : AIC=8532.765, Time=0.31 sec\n",
      " ARIMA(0,1,0)(0,0,0)[0]             : AIC=8533.262, Time=0.04 sec\n",
      " ARIMA(2,1,1)(0,0,0)[0] intercept   : AIC=8530.256, Time=0.95 sec\n",
      " ARIMA(1,1,2)(0,0,0)[0] intercept   : AIC=8530.561, Time=1.22 sec\n",
      " ARIMA(0,1,2)(0,0,0)[0] intercept   : AIC=8530.627, Time=0.56 sec\n",
      " ARIMA(2,1,0)(0,0,0)[0] intercept   : AIC=8531.889, Time=0.37 sec\n",
      " ARIMA(2,1,2)(0,0,0)[0] intercept   : AIC=8485.446, Time=3.56 sec\n",
      " ARIMA(3,1,2)(0,0,0)[0] intercept   : AIC=8531.525, Time=1.03 sec\n",
      " ARIMA(2,1,3)(0,0,0)[0] intercept   : AIC=8497.718, Time=4.55 sec\n",
      " ARIMA(1,1,3)(0,0,0)[0] intercept   : AIC=8530.861, Time=0.79 sec\n",
      " ARIMA(3,1,1)(0,0,0)[0] intercept   : AIC=8529.246, Time=1.05 sec\n",
      " ARIMA(3,1,3)(0,0,0)[0] intercept   : AIC=inf, Time=4.55 sec\n",
      " ARIMA(2,1,2)(0,0,0)[0]             : AIC=8483.516, Time=1.48 sec\n",
      " ARIMA(1,1,2)(0,0,0)[0]             : AIC=8528.631, Time=0.41 sec\n",
      " ARIMA(2,1,1)(0,0,0)[0]             : AIC=8528.327, Time=0.37 sec\n",
      " ARIMA(3,1,2)(0,0,0)[0]             : AIC=8529.589, Time=0.45 sec\n",
      " ARIMA(2,1,3)(0,0,0)[0]             : AIC=8493.690, Time=1.99 sec\n",
      " ARIMA(1,1,1)(0,0,0)[0]             : AIC=8527.910, Time=0.31 sec\n",
      " ARIMA(1,1,3)(0,0,0)[0]             : AIC=8528.926, Time=0.40 sec\n",
      " ARIMA(3,1,1)(0,0,0)[0]             : AIC=8527.311, Time=0.52 sec\n",
      " ARIMA(3,1,3)(0,0,0)[0]             : AIC=inf, Time=3.36 sec\n",
      "\n",
      "Best model:  ARIMA(2,1,2)(0,0,0)[0]          \n",
      "Total fit time: 29.577 seconds\n"
     ]
    },
    {
     "data": {
      "text/plain": [
       "ARIMA(order=(2, 1, 2), scoring_args={}, suppress_warnings=True,\n",
       "      with_intercept=False)"
      ]
     },
     "execution_count": 49,
     "metadata": {},
     "output_type": "execute_result"
    }
   ],
   "source": [
    "pm.auto_arima(data[data[\"Date\"]>\"2017-05-25\"][\"Close\"],start_p=1, start_q=1,\n",
    "                         test='adf',\n",
    "                         start_P=0, \n",
    "                         trace=True,\n",
    "                         error_action='ignore',  \n",
    "                         suppress_warnings=True, \n",
    "                         stepwise=True)"
   ]
  },
  {
   "cell_type": "code",
   "execution_count": 58,
   "metadata": {},
   "outputs": [
    {
     "data": {
      "text/html": [
       "<div>\n",
       "<style scoped>\n",
       "    .dataframe tbody tr th:only-of-type {\n",
       "        vertical-align: middle;\n",
       "    }\n",
       "\n",
       "    .dataframe tbody tr th {\n",
       "        vertical-align: top;\n",
       "    }\n",
       "\n",
       "    .dataframe thead th {\n",
       "        text-align: right;\n",
       "    }\n",
       "</style>\n",
       "<table border=\"1\" class=\"dataframe\">\n",
       "  <thead>\n",
       "    <tr style=\"text-align: right;\">\n",
       "      <th></th>\n",
       "      <th>Date</th>\n",
       "      <th>Open_x</th>\n",
       "      <th>High_x</th>\n",
       "      <th>Low_x</th>\n",
       "      <th>Close_x</th>\n",
       "      <th>Adj Close_x</th>\n",
       "      <th>Volume_x</th>\n",
       "      <th>Open_y</th>\n",
       "      <th>High_y</th>\n",
       "      <th>Low_y</th>\n",
       "      <th>Close_y</th>\n",
       "      <th>Adj Close_y</th>\n",
       "      <th>Volume_y</th>\n",
       "      <th>Open</th>\n",
       "      <th>High</th>\n",
       "      <th>Low</th>\n",
       "      <th>Close</th>\n",
       "      <th>Adj Close</th>\n",
       "      <th>Volume</th>\n",
       "    </tr>\n",
       "  </thead>\n",
       "  <tbody>\n",
       "    <tr>\n",
       "      <th>0</th>\n",
       "      <td>2015-11-23</td>\n",
       "      <td>3.143890</td>\n",
       "      <td>3.146720</td>\n",
       "      <td>3.111330</td>\n",
       "      <td>3.124100</td>\n",
       "      <td>3.124100</td>\n",
       "      <td>1389260</td>\n",
       "      <td>16.150000</td>\n",
       "      <td>16.740000</td>\n",
       "      <td>15.380000</td>\n",
       "      <td>15.620000</td>\n",
       "      <td>15.620000</td>\n",
       "      <td>0</td>\n",
       "      <td>209.380005</td>\n",
       "      <td>209.979996</td>\n",
       "      <td>208.520004</td>\n",
       "      <td>209.070007</td>\n",
       "      <td>189.503830</td>\n",
       "      <td>64931200</td>\n",
       "    </tr>\n",
       "    <tr>\n",
       "      <th>1</th>\n",
       "      <td>2015-11-24</td>\n",
       "      <td>3.130360</td>\n",
       "      <td>3.130700</td>\n",
       "      <td>3.087870</td>\n",
       "      <td>3.107830</td>\n",
       "      <td>3.107830</td>\n",
       "      <td>1510060</td>\n",
       "      <td>16.530001</td>\n",
       "      <td>17.209999</td>\n",
       "      <td>15.480000</td>\n",
       "      <td>15.930000</td>\n",
       "      <td>15.930000</td>\n",
       "      <td>0</td>\n",
       "      <td>207.869995</td>\n",
       "      <td>209.830002</td>\n",
       "      <td>207.410004</td>\n",
       "      <td>209.350006</td>\n",
       "      <td>189.757660</td>\n",
       "      <td>98874400</td>\n",
       "    </tr>\n",
       "    <tr>\n",
       "      <th>2</th>\n",
       "      <td>2015-11-25</td>\n",
       "      <td>3.113830</td>\n",
       "      <td>3.344440</td>\n",
       "      <td>3.092770</td>\n",
       "      <td>3.344440</td>\n",
       "      <td>3.344440</td>\n",
       "      <td>2877300</td>\n",
       "      <td>15.550000</td>\n",
       "      <td>15.890000</td>\n",
       "      <td>15.050000</td>\n",
       "      <td>15.190000</td>\n",
       "      <td>15.190000</td>\n",
       "      <td>0</td>\n",
       "      <td>209.500000</td>\n",
       "      <td>209.740005</td>\n",
       "      <td>209.009995</td>\n",
       "      <td>209.320007</td>\n",
       "      <td>189.730499</td>\n",
       "      <td>51980100</td>\n",
       "    </tr>\n",
       "    <tr>\n",
       "      <th>3</th>\n",
       "      <td>2015-11-27</td>\n",
       "      <td>3.601400</td>\n",
       "      <td>3.628430</td>\n",
       "      <td>3.519320</td>\n",
       "      <td>3.578610</td>\n",
       "      <td>3.578610</td>\n",
       "      <td>2780650</td>\n",
       "      <td>15.310000</td>\n",
       "      <td>16.090000</td>\n",
       "      <td>15.120000</td>\n",
       "      <td>15.120000</td>\n",
       "      <td>15.120000</td>\n",
       "      <td>0</td>\n",
       "      <td>209.429993</td>\n",
       "      <td>209.800003</td>\n",
       "      <td>208.860001</td>\n",
       "      <td>209.559998</td>\n",
       "      <td>189.948029</td>\n",
       "      <td>37317800</td>\n",
       "    </tr>\n",
       "    <tr>\n",
       "      <th>4</th>\n",
       "      <td>2015-11-30</td>\n",
       "      <td>3.664370</td>\n",
       "      <td>3.737460</td>\n",
       "      <td>3.579290</td>\n",
       "      <td>3.621220</td>\n",
       "      <td>3.621220</td>\n",
       "      <td>3339320</td>\n",
       "      <td>15.550000</td>\n",
       "      <td>16.570000</td>\n",
       "      <td>15.520000</td>\n",
       "      <td>16.129999</td>\n",
       "      <td>16.129999</td>\n",
       "      <td>0</td>\n",
       "      <td>209.750000</td>\n",
       "      <td>209.889999</td>\n",
       "      <td>208.559998</td>\n",
       "      <td>208.690002</td>\n",
       "      <td>189.159454</td>\n",
       "      <td>112822700</td>\n",
       "    </tr>\n",
       "    <tr>\n",
       "      <th>...</th>\n",
       "      <td>...</td>\n",
       "      <td>...</td>\n",
       "      <td>...</td>\n",
       "      <td>...</td>\n",
       "      <td>...</td>\n",
       "      <td>...</td>\n",
       "      <td>...</td>\n",
       "      <td>...</td>\n",
       "      <td>...</td>\n",
       "      <td>...</td>\n",
       "      <td>...</td>\n",
       "      <td>...</td>\n",
       "      <td>...</td>\n",
       "      <td>...</td>\n",
       "      <td>...</td>\n",
       "      <td>...</td>\n",
       "      <td>...</td>\n",
       "      <td>...</td>\n",
       "      <td>...</td>\n",
       "    </tr>\n",
       "    <tr>\n",
       "      <th>1254</th>\n",
       "      <td>2020-11-16</td>\n",
       "      <td>62.279915</td>\n",
       "      <td>71.997322</td>\n",
       "      <td>62.171036</td>\n",
       "      <td>71.326248</td>\n",
       "      <td>71.326248</td>\n",
       "      <td>5089779253</td>\n",
       "      <td>23.660000</td>\n",
       "      <td>24.080000</td>\n",
       "      <td>22.430000</td>\n",
       "      <td>22.450001</td>\n",
       "      <td>22.450001</td>\n",
       "      <td>0</td>\n",
       "      <td>360.980011</td>\n",
       "      <td>362.779999</td>\n",
       "      <td>359.589996</td>\n",
       "      <td>362.570007</td>\n",
       "      <td>362.570007</td>\n",
       "      <td>74541100</td>\n",
       "    </tr>\n",
       "    <tr>\n",
       "      <th>1255</th>\n",
       "      <td>2020-11-17</td>\n",
       "      <td>73.501129</td>\n",
       "      <td>76.434593</td>\n",
       "      <td>71.234772</td>\n",
       "      <td>75.852341</td>\n",
       "      <td>75.852341</td>\n",
       "      <td>5781117491</td>\n",
       "      <td>22.840000</td>\n",
       "      <td>24.090000</td>\n",
       "      <td>22.340000</td>\n",
       "      <td>22.709999</td>\n",
       "      <td>22.709999</td>\n",
       "      <td>0</td>\n",
       "      <td>359.970001</td>\n",
       "      <td>361.920013</td>\n",
       "      <td>358.339996</td>\n",
       "      <td>360.619995</td>\n",
       "      <td>360.619995</td>\n",
       "      <td>66111000</td>\n",
       "    </tr>\n",
       "    <tr>\n",
       "      <th>1256</th>\n",
       "      <td>2020-11-18</td>\n",
       "      <td>75.849861</td>\n",
       "      <td>76.447357</td>\n",
       "      <td>69.628525</td>\n",
       "      <td>73.694931</td>\n",
       "      <td>73.694931</td>\n",
       "      <td>6120728271</td>\n",
       "      <td>22.860001</td>\n",
       "      <td>23.920000</td>\n",
       "      <td>21.660000</td>\n",
       "      <td>23.840000</td>\n",
       "      <td>23.840000</td>\n",
       "      <td>0</td>\n",
       "      <td>360.910004</td>\n",
       "      <td>361.500000</td>\n",
       "      <td>356.239990</td>\n",
       "      <td>356.279999</td>\n",
       "      <td>356.279999</td>\n",
       "      <td>70591300</td>\n",
       "    </tr>\n",
       "    <tr>\n",
       "      <th>1257</th>\n",
       "      <td>2020-11-19</td>\n",
       "      <td>73.695679</td>\n",
       "      <td>83.212341</td>\n",
       "      <td>71.796600</td>\n",
       "      <td>81.683670</td>\n",
       "      <td>81.683670</td>\n",
       "      <td>6615851204</td>\n",
       "      <td>23.620001</td>\n",
       "      <td>24.520000</td>\n",
       "      <td>22.559999</td>\n",
       "      <td>23.110001</td>\n",
       "      <td>23.110001</td>\n",
       "      <td>0</td>\n",
       "      <td>355.600006</td>\n",
       "      <td>358.179993</td>\n",
       "      <td>354.149994</td>\n",
       "      <td>357.779999</td>\n",
       "      <td>357.779999</td>\n",
       "      <td>59940900</td>\n",
       "    </tr>\n",
       "    <tr>\n",
       "      <th>1258</th>\n",
       "      <td>2020-11-20</td>\n",
       "      <td>81.683632</td>\n",
       "      <td>85.174995</td>\n",
       "      <td>80.265350</td>\n",
       "      <td>82.583153</td>\n",
       "      <td>82.583153</td>\n",
       "      <td>6264878329</td>\n",
       "      <td>23.430000</td>\n",
       "      <td>23.730000</td>\n",
       "      <td>22.129999</td>\n",
       "      <td>23.700001</td>\n",
       "      <td>23.700001</td>\n",
       "      <td>0</td>\n",
       "      <td>357.500000</td>\n",
       "      <td>357.720001</td>\n",
       "      <td>355.250000</td>\n",
       "      <td>355.329987</td>\n",
       "      <td>355.329987</td>\n",
       "      <td>70417300</td>\n",
       "    </tr>\n",
       "  </tbody>\n",
       "</table>\n",
       "<p>1259 rows × 19 columns</p>\n",
       "</div>"
      ],
      "text/plain": [
       "            Date     Open_x     High_x      Low_x    Close_x  Adj Close_x  \\\n",
       "0     2015-11-23   3.143890   3.146720   3.111330   3.124100     3.124100   \n",
       "1     2015-11-24   3.130360   3.130700   3.087870   3.107830     3.107830   \n",
       "2     2015-11-25   3.113830   3.344440   3.092770   3.344440     3.344440   \n",
       "3     2015-11-27   3.601400   3.628430   3.519320   3.578610     3.578610   \n",
       "4     2015-11-30   3.664370   3.737460   3.579290   3.621220     3.621220   \n",
       "...          ...        ...        ...        ...        ...          ...   \n",
       "1254  2020-11-16  62.279915  71.997322  62.171036  71.326248    71.326248   \n",
       "1255  2020-11-17  73.501129  76.434593  71.234772  75.852341    75.852341   \n",
       "1256  2020-11-18  75.849861  76.447357  69.628525  73.694931    73.694931   \n",
       "1257  2020-11-19  73.695679  83.212341  71.796600  81.683670    81.683670   \n",
       "1258  2020-11-20  81.683632  85.174995  80.265350  82.583153    82.583153   \n",
       "\n",
       "        Volume_x     Open_y     High_y      Low_y    Close_y  Adj Close_y  \\\n",
       "0        1389260  16.150000  16.740000  15.380000  15.620000    15.620000   \n",
       "1        1510060  16.530001  17.209999  15.480000  15.930000    15.930000   \n",
       "2        2877300  15.550000  15.890000  15.050000  15.190000    15.190000   \n",
       "3        2780650  15.310000  16.090000  15.120000  15.120000    15.120000   \n",
       "4        3339320  15.550000  16.570000  15.520000  16.129999    16.129999   \n",
       "...          ...        ...        ...        ...        ...          ...   \n",
       "1254  5089779253  23.660000  24.080000  22.430000  22.450001    22.450001   \n",
       "1255  5781117491  22.840000  24.090000  22.340000  22.709999    22.709999   \n",
       "1256  6120728271  22.860001  23.920000  21.660000  23.840000    23.840000   \n",
       "1257  6615851204  23.620001  24.520000  22.559999  23.110001    23.110001   \n",
       "1258  6264878329  23.430000  23.730000  22.129999  23.700001    23.700001   \n",
       "\n",
       "      Volume_y        Open        High         Low       Close   Adj Close  \\\n",
       "0            0  209.380005  209.979996  208.520004  209.070007  189.503830   \n",
       "1            0  207.869995  209.830002  207.410004  209.350006  189.757660   \n",
       "2            0  209.500000  209.740005  209.009995  209.320007  189.730499   \n",
       "3            0  209.429993  209.800003  208.860001  209.559998  189.948029   \n",
       "4            0  209.750000  209.889999  208.559998  208.690002  189.159454   \n",
       "...        ...         ...         ...         ...         ...         ...   \n",
       "1254         0  360.980011  362.779999  359.589996  362.570007  362.570007   \n",
       "1255         0  359.970001  361.920013  358.339996  360.619995  360.619995   \n",
       "1256         0  360.910004  361.500000  356.239990  356.279999  356.279999   \n",
       "1257         0  355.600006  358.179993  354.149994  357.779999  357.779999   \n",
       "1258         0  357.500000  357.720001  355.250000  355.329987  355.329987   \n",
       "\n",
       "         Volume  \n",
       "0      64931200  \n",
       "1      98874400  \n",
       "2      51980100  \n",
       "3      37317800  \n",
       "4     112822700  \n",
       "...         ...  \n",
       "1254   74541100  \n",
       "1255   66111000  \n",
       "1256   70591300  \n",
       "1257   59940900  \n",
       "1258   70417300  \n",
       "\n",
       "[1259 rows x 19 columns]"
      ]
     },
     "execution_count": 58,
     "metadata": {},
     "output_type": "execute_result"
    }
   ],
   "source": []
  },
  {
   "cell_type": "code",
   "execution_count": 47,
   "metadata": {},
   "outputs": [
    {
     "name": "stdout",
     "output_type": "stream",
     "text": [
      "Performing stepwise search to minimize aicc\n",
      " ARIMA(1,0,1)(0,0,0)[0] intercept   : AICC=6084.509, Time=0.17 sec\n",
      " ARIMA(0,0,0)(0,0,0)[0] intercept   : AICC=6115.048, Time=0.01 sec\n",
      " ARIMA(1,0,0)(0,0,0)[0] intercept   : AICC=6086.470, Time=0.08 sec\n",
      " ARIMA(0,0,1)(0,0,0)[0] intercept   : AICC=6082.761, Time=0.10 sec\n",
      " ARIMA(0,0,0)(0,0,0)[0]             : AICC=6113.090, Time=0.01 sec\n",
      " ARIMA(0,0,2)(0,0,0)[0] intercept   : AICC=6084.358, Time=0.21 sec\n",
      " ARIMA(1,0,2)(0,0,0)[0] intercept   : AICC=6086.157, Time=0.33 sec\n",
      " ARIMA(0,0,1)(0,0,0)[0]             : AICC=6080.782, Time=0.05 sec\n",
      " ARIMA(1,0,1)(0,0,0)[0]             : AICC=6082.527, Time=0.09 sec\n",
      " ARIMA(0,0,2)(0,0,0)[0]             : AICC=6082.376, Time=0.07 sec\n",
      " ARIMA(1,0,0)(0,0,0)[0]             : AICC=6084.491, Time=0.02 sec\n",
      " ARIMA(1,0,2)(0,0,0)[0]             : AICC=6084.172, Time=0.16 sec\n",
      "\n",
      "Best model:  ARIMA(0,0,1)(0,0,0)[0]          \n",
      "Total fit time: 1.314 seconds\n"
     ]
    }
   ],
   "source": [
    "arimax=pm.auto_arima(data[data[\"Date\"]>\"2017-05-24\"][\"Close\"].diff()[1:],exongenous=datadiff[datadiff[\"Date\"]>=\"2017-05-25\"],start_p=1, start_q=1,\n",
    "                         test='adf',\n",
    "                         start_P=0, \n",
    "                         trace=True,\n",
    "                         error_action='ignore',  \n",
    "                         suppress_warnings=True,\n",
    "                         information_criterion=\"aicc\",\n",
    "                         stepwise=True)\n"
   ]
  },
  {
   "cell_type": "code",
   "execution_count": 48,
   "metadata": {},
   "outputs": [
    {
     "data": {
      "text/html": [
       "<table class=\"simpletable\">\n",
       "<caption>SARIMAX Results</caption>\n",
       "<tr>\n",
       "  <th>Dep. Variable:</th>           <td>y</td>        <th>  No. Observations:  </th>    <td>880</td>   \n",
       "</tr>\n",
       "<tr>\n",
       "  <th>Model:</th>           <td>SARIMAX(0, 0, 1)</td> <th>  Log Likelihood     </th> <td>-3038.384</td>\n",
       "</tr>\n",
       "<tr>\n",
       "  <th>Date:</th>            <td>Tue, 24 Nov 2020</td> <th>  AIC                </th> <td>6080.768</td> \n",
       "</tr>\n",
       "<tr>\n",
       "  <th>Time:</th>                <td>15:58:07</td>     <th>  BIC                </th> <td>6090.328</td> \n",
       "</tr>\n",
       "<tr>\n",
       "  <th>Sample:</th>                  <td>0</td>        <th>  HQIC               </th> <td>6084.424</td> \n",
       "</tr>\n",
       "<tr>\n",
       "  <th></th>                      <td> - 880</td>      <th>                     </th>     <td> </td>    \n",
       "</tr>\n",
       "<tr>\n",
       "  <th>Covariance Type:</th>        <td>opg</td>       <th>                     </th>     <td> </td>    \n",
       "</tr>\n",
       "</table>\n",
       "<table class=\"simpletable\">\n",
       "<tr>\n",
       "     <td></td>       <th>coef</th>     <th>std err</th>      <th>z</th>      <th>P>|z|</th>  <th>[0.025</th>    <th>0.975]</th>  \n",
       "</tr>\n",
       "<tr>\n",
       "  <th>ma.L1</th>  <td>    0.2042</td> <td>    0.009</td> <td>   22.345</td> <td> 0.000</td> <td>    0.186</td> <td>    0.222</td>\n",
       "</tr>\n",
       "<tr>\n",
       "  <th>sigma2</th> <td>   58.4098</td> <td>    0.737</td> <td>   79.298</td> <td> 0.000</td> <td>   56.966</td> <td>   59.854</td>\n",
       "</tr>\n",
       "</table>\n",
       "<table class=\"simpletable\">\n",
       "<tr>\n",
       "  <th>Ljung-Box (Q):</th>          <td>124.60</td> <th>  Jarque-Bera (JB):  </th> <td>72243.57</td>\n",
       "</tr>\n",
       "<tr>\n",
       "  <th>Prob(Q):</th>                 <td>0.00</td>  <th>  Prob(JB):          </th>   <td>0.00</td>  \n",
       "</tr>\n",
       "<tr>\n",
       "  <th>Heteroskedasticity (H):</th>  <td>0.06</td>  <th>  Skew:              </th>   <td>2.88</td>  \n",
       "</tr>\n",
       "<tr>\n",
       "  <th>Prob(H) (two-sided):</th>     <td>0.00</td>  <th>  Kurtosis:          </th>   <td>47.01</td> \n",
       "</tr>\n",
       "</table><br/><br/>Warnings:<br/>[1] Covariance matrix calculated using the outer product of gradients (complex-step)."
      ],
      "text/plain": [
       "<class 'statsmodels.iolib.summary.Summary'>\n",
       "\"\"\"\n",
       "                               SARIMAX Results                                \n",
       "==============================================================================\n",
       "Dep. Variable:                      y   No. Observations:                  880\n",
       "Model:               SARIMAX(0, 0, 1)   Log Likelihood               -3038.384\n",
       "Date:                Tue, 24 Nov 2020   AIC                           6080.768\n",
       "Time:                        15:58:07   BIC                           6090.328\n",
       "Sample:                             0   HQIC                          6084.424\n",
       "                                - 880                                         \n",
       "Covariance Type:                  opg                                         \n",
       "==============================================================================\n",
       "                 coef    std err          z      P>|z|      [0.025      0.975]\n",
       "------------------------------------------------------------------------------\n",
       "ma.L1          0.2042      0.009     22.345      0.000       0.186       0.222\n",
       "sigma2        58.4098      0.737     79.298      0.000      56.966      59.854\n",
       "===================================================================================\n",
       "Ljung-Box (Q):                      124.60   Jarque-Bera (JB):             72243.57\n",
       "Prob(Q):                              0.00   Prob(JB):                         0.00\n",
       "Heteroskedasticity (H):               0.06   Skew:                             2.88\n",
       "Prob(H) (two-sided):                  0.00   Kurtosis:                        47.01\n",
       "===================================================================================\n",
       "\n",
       "Warnings:\n",
       "[1] Covariance matrix calculated using the outer product of gradients (complex-step).\n",
       "\"\"\""
      ]
     },
     "execution_count": 48,
     "metadata": {},
     "output_type": "execute_result"
    }
   ],
   "source": [
    "arimax.summary()"
   ]
  },
  {
   "cell_type": "code",
   "execution_count": 76,
   "metadata": {},
   "outputs": [
    {
     "data": {
      "text/plain": [
       "'2020-11-20'"
      ]
     },
     "execution_count": 76,
     "metadata": {},
     "output_type": "execute_result"
    }
   ],
   "source": [
    "max(data[\"Date\"])"
   ]
  },
  {
   "cell_type": "code",
   "execution_count": 54,
   "metadata": {},
   "outputs": [
    {
     "data": {
      "text/plain": [
       "Index(['Open', 'High', 'Low', 'Close', 'Adj Close', 'Volume', 'Open_VIX',\n",
       "       'High_VIX', 'Low_VIX', 'Close_VIX', 'Adj_Close_VIX', 'Volume_VIX',\n",
       "       'Open_SPY', 'High_SPY', 'Low_SPY', 'Close_SPY', 'Adj_Close_SPY',\n",
       "       'Volume_SPY', 'Open_Five', 'High_Five', 'Low_Five', 'Close_Five',\n",
       "       'Adj_Close_Five', 'Volume_Five', 'Open_Ten', 'High_Ten', 'Low_Ten',\n",
       "       'Close_Ten', 'Adj_Close_Ten', 'Volume_Ten', 'Open_Thirty',\n",
       "       'High_Thirty', 'Low_Thirty', 'Close_Thirty', 'Adj_Close_Thirty',\n",
       "       'Volume_Thirty', 'Yield_Spread', 'Date'],\n",
       "      dtype='object')"
      ]
     },
     "execution_count": 54,
     "metadata": {},
     "output_type": "execute_result"
    }
   ],
   "source": [
    "datadiff.columns"
   ]
  },
  {
   "cell_type": "markdown",
   "metadata": {},
   "source": [
    "# Neural Nets"
   ]
  },
  {
   "cell_type": "code",
   "execution_count": 11,
   "metadata": {},
   "outputs": [],
   "source": [
    "from tensorflow import keras"
   ]
  },
  {
   "cell_type": "markdown",
   "metadata": {},
   "source": [
    "## Data Prep"
   ]
  },
  {
   "cell_type": "code",
   "execution_count": 7,
   "metadata": {},
   "outputs": [],
   "source": [
    "h=1 #forecast horizon\n",
    "w=20 #window size"
   ]
  },
  {
   "cell_type": "code",
   "execution_count": 4,
   "metadata": {},
   "outputs": [],
   "source": [
    "def create_timeseries_dataset(X, look_back, look_ahead):\n",
    "    \"\"\"\n",
    "    X is 1D numpy array of timeseries data\n",
    "    output: row-normalised sliding window array, target array\n",
    "    \"\"\"\n",
    "    dataX, dataY = [], []\n",
    "    means, sd = [], []\n",
    "    for i in range(look_back + look_ahead, X.shape[0]):\n",
    "        # make sliding window of length look_back + look_ahead\n",
    "        window = X[(i - look_back - look_ahead):i]\n",
    "        just_duplicate = window\n",
    "        # calculate mean and std deviation of first look_back elements\n",
    "        wm = window[:-look_ahead].mean()\n",
    "        ws = window[:-look_ahead].std()\n",
    "        means.append(wm)\n",
    "        sd.append(ws)\n",
    "        # rescale entire window\n",
    "        window = (window - wm) / ws\n",
    "        # split training data from the target\n",
    "        dataX.append(window[:-look_ahead])\n",
    "        dataY.append(window[-1])\n",
    "    # make numpy arrays of the data\n",
    "    data, target = np.stack(dataX), np.stack(dataY)\n",
    "    means, sd = np.array(means), np.array(sd)\n",
    "    # reshape output to: [samples, time steps, features]\n",
    "    return means, sd, data.reshape((data.shape[0], data.shape[1], 1)), target.reshape((target.shape[0], 1))"
   ]
  },
  {
   "cell_type": "code",
   "execution_count": 5,
   "metadata": {},
   "outputs": [],
   "source": [
    "def prepare_data(df, look_back=20, look_ahead=1, n_aug=10, scale=0.1, split=(0.6, 0.2, 0.2)):\n",
    "    \"\"\"\n",
    "    df is a pandas series containing prices\n",
    "    train, validation, and test sets are generated by splitting df and running a sliding window\n",
    "    training and validation data are augmented by adding noise, random vertical shifts and linear ramps\n",
    "    \"\"\"\n",
    "    # split into train, validation, and test sets\n",
    "    train_size = int(df.shape[0] * split[0])\n",
    "    valid_size = int(df.shape[0] * split[1])\n",
    "    test_size = df.shape[0] - train_size - valid_size\n",
    "\n",
    "    # reshape into X=t and Y=t+1\n",
    "    train_mean, train_sd, trainX, trainY = create_timeseries_dataset(df.values[:train_size], look_back, look_ahead)\n",
    "    valid_mean, valid_sd, validX, validY = create_timeseries_dataset(df.values[train_size:(train_size + valid_size)],\n",
    "                                                                     look_back, look_ahead)\n",
    "    test_mean, test_sd, testX, testY = create_timeseries_dataset(df.values[-test_size:], look_back, look_ahead)\n",
    "\n",
    "    print(train_size, valid_size, test_size)\n",
    "    print(trainX.shape, trainY.shape)\n",
    "    print(validX.shape, validY.shape)\n",
    "    print(testX.shape, testY.shape)\n",
    "\n",
    "    return (trainX, trainY), (validX, validY), (testX, testY), (train_mean, train_sd), (valid_mean, valid_sd), (\n",
    "        test_mean, test_sd)"
   ]
  },
  {
   "cell_type": "code",
   "execution_count": 8,
   "metadata": {},
   "outputs": [
    {
     "name": "stdout",
     "output_type": "stream",
     "text": [
      "528 176 177\n",
      "(507, 20, 1) (507, 1)\n",
      "(155, 20, 1) (155, 1)\n",
      "(156, 20, 1) (156, 1)\n"
     ]
    }
   ],
   "source": [
    "(X_train,Y_train),(X_valid,Y_valid),(X_test,Y_test),(train_mean,train_sd),(valid_mean,valid_sd),(test_mean,test_sd)=prepare_data(data[data[\"Date\"]>=\"2017-05-25\"][\"Close\"],look_back=w,look_ahead=h)"
   ]
  },
  {
   "cell_type": "markdown",
   "metadata": {},
   "source": [
    "## Naive Forecast"
   ]
  },
  {
   "cell_type": "code",
   "execution_count": 9,
   "metadata": {},
   "outputs": [
    {
     "name": "stdout",
     "output_type": "stream",
     "text": [
      "MSE=[1.06768815]\n"
     ]
    }
   ],
   "source": [
    "itr=len(Y_train-h)\n",
    "errors=[]\n",
    "for i in range(1,itr):\n",
    "    errors.append((Y_train[i]-Y_train[i-1])**2)\n",
    "print(\"MSE={}\".format(sum(errors)/(len(Y_train)-1)))"
   ]
  },
  {
   "cell_type": "markdown",
   "metadata": {},
   "source": [
    "## Shallow Fully Connected Linear Model"
   ]
  },
  {
   "cell_type": "code",
   "execution_count": 12,
   "metadata": {},
   "outputs": [],
   "source": [
    "model = keras.models.Sequential([\n",
    "    keras.layers.Flatten(input_shape=[w,1]),\n",
    "    keras.layers.Dense(1)\n",
    "])\n",
    "model.compile(optimizer=\"adam\",loss=\"MeanSquaredError\")"
   ]
  },
  {
   "cell_type": "code",
   "execution_count": 13,
   "metadata": {},
   "outputs": [
    {
     "name": "stdout",
     "output_type": "stream",
     "text": [
      "Epoch 1/20\n",
      "16/16 [==============================] - 0s 1ms/step - loss: 2.7267\n",
      "Epoch 2/20\n",
      "16/16 [==============================] - 0s 2ms/step - loss: 2.4901\n",
      "Epoch 3/20\n",
      "16/16 [==============================] - 0s 1ms/step - loss: 2.2915\n",
      "Epoch 4/20\n",
      "16/16 [==============================] - 0s 1ms/step - loss: 2.1128\n",
      "Epoch 5/20\n",
      "16/16 [==============================] - 0s 1ms/step - loss: 1.9607\n",
      "Epoch 6/20\n",
      "16/16 [==============================] - 0s 1ms/step - loss: 1.8291\n",
      "Epoch 7/20\n",
      "16/16 [==============================] - 0s 1ms/step - loss: 1.7200\n",
      "Epoch 8/20\n",
      "16/16 [==============================] - 0s 1ms/step - loss: 1.6196\n",
      "Epoch 9/20\n",
      "16/16 [==============================] - 0s 1ms/step - loss: 1.5397\n",
      "Epoch 10/20\n",
      "16/16 [==============================] - 0s 2ms/step - loss: 1.4691\n",
      "Epoch 11/20\n",
      "16/16 [==============================] - 0s 2ms/step - loss: 1.4050\n",
      "Epoch 12/20\n",
      "16/16 [==============================] - 0s 1ms/step - loss: 1.3544\n",
      "Epoch 13/20\n",
      "16/16 [==============================] - 0s 1ms/step - loss: 1.3081\n",
      "Epoch 14/20\n",
      "16/16 [==============================] - 0s 2ms/step - loss: 1.2701\n",
      "Epoch 15/20\n",
      "16/16 [==============================] - 0s 2ms/step - loss: 1.2336\n",
      "Epoch 16/20\n",
      "16/16 [==============================] - 0s 1ms/step - loss: 1.2043\n",
      "Epoch 17/20\n",
      "16/16 [==============================] - 0s 1ms/step - loss: 1.1776\n",
      "Epoch 18/20\n",
      "16/16 [==============================] - 0s 1ms/step - loss: 1.1553\n",
      "Epoch 19/20\n",
      "16/16 [==============================] - 0s 1ms/step - loss: 1.1334\n",
      "Epoch 20/20\n",
      "16/16 [==============================] - 0s 2ms/step - loss: 1.1173\n"
     ]
    },
    {
     "data": {
      "text/plain": [
       "<tensorflow.python.keras.callbacks.History at 0x1367a9a8670>"
      ]
     },
     "execution_count": 13,
     "metadata": {},
     "output_type": "execute_result"
    }
   ],
   "source": [
    "model.fit(x=X_train,y=Y_train,epochs=20)"
   ]
  },
  {
   "cell_type": "markdown",
   "metadata": {},
   "source": [
    "## Simple RNN"
   ]
  },
  {
   "cell_type": "code",
   "execution_count": 14,
   "metadata": {},
   "outputs": [
    {
     "name": "stdout",
     "output_type": "stream",
     "text": [
      "Epoch 1/20\n",
      "16/16 [==============================] - 0s 6ms/step - loss: 1.8611\n",
      "Epoch 2/20\n",
      "16/16 [==============================] - 0s 5ms/step - loss: 1.8382\n",
      "Epoch 3/20\n",
      "16/16 [==============================] - 0s 5ms/step - loss: 1.8188\n",
      "Epoch 4/20\n",
      "16/16 [==============================] - 0s 5ms/step - loss: 1.8001\n",
      "Epoch 5/20\n",
      "16/16 [==============================] - 0s 5ms/step - loss: 1.7823\n",
      "Epoch 6/20\n",
      "16/16 [==============================] - 0s 6ms/step - loss: 1.7654\n",
      "Epoch 7/20\n",
      "16/16 [==============================] - 0s 6ms/step - loss: 1.7495\n",
      "Epoch 8/20\n",
      "16/16 [==============================] - 0s 6ms/step - loss: 1.7336\n",
      "Epoch 9/20\n",
      "16/16 [==============================] - 0s 6ms/step - loss: 1.7182\n",
      "Epoch 10/20\n",
      "16/16 [==============================] - 0s 6ms/step - loss: 1.7044\n",
      "Epoch 11/20\n",
      "16/16 [==============================] - 0s 6ms/step - loss: 1.6904\n",
      "Epoch 12/20\n",
      "16/16 [==============================] - 0s 6ms/step - loss: 1.6766\n",
      "Epoch 13/20\n",
      "16/16 [==============================] - 0s 5ms/step - loss: 1.6635\n",
      "Epoch 14/20\n",
      "16/16 [==============================] - 0s 6ms/step - loss: 1.6506\n",
      "Epoch 15/20\n",
      "16/16 [==============================] - 0s 6ms/step - loss: 1.6382\n",
      "Epoch 16/20\n",
      "16/16 [==============================] - 0s 6ms/step - loss: 1.6265\n",
      "Epoch 17/20\n",
      "16/16 [==============================] - 0s 6ms/step - loss: 1.6152\n",
      "Epoch 18/20\n",
      "16/16 [==============================] - 0s 6ms/step - loss: 1.6043\n",
      "Epoch 19/20\n",
      "16/16 [==============================] - 0s 6ms/step - loss: 1.5939A: 0s - loss: 1.693\n",
      "Epoch 20/20\n",
      "16/16 [==============================] - 0s 6ms/step - loss: 1.5837\n"
     ]
    },
    {
     "data": {
      "text/plain": [
       "<tensorflow.python.keras.callbacks.History at 0x1367bc7fc10>"
      ]
     },
     "execution_count": 14,
     "metadata": {},
     "output_type": "execute_result"
    }
   ],
   "source": [
    "model=keras.models.Sequential([\n",
    "    keras.layers.SimpleRNN(1)\n",
    "])\n",
    "model.compile(loss=\"MeanSquaredError\")\n",
    "model.fit(x=X_train,y=Y_train,epochs=20)"
   ]
  },
  {
   "cell_type": "markdown",
   "metadata": {},
   "source": [
    "## Deep RNN"
   ]
  },
  {
   "cell_type": "code",
   "execution_count": 15,
   "metadata": {},
   "outputs": [
    {
     "name": "stdout",
     "output_type": "stream",
     "text": [
      "Epoch 1/20\n",
      "16/16 [==============================] - 0s 11ms/step - loss: 2.3864\n",
      "Epoch 2/20\n",
      "16/16 [==============================] - 0s 11ms/step - loss: 2.0357\n",
      "Epoch 3/20\n",
      "16/16 [==============================] - 0s 10ms/step - loss: 1.9943\n",
      "Epoch 4/20\n",
      "16/16 [==============================] - 0s 12ms/step - loss: 1.9462\n",
      "Epoch 5/20\n",
      "16/16 [==============================] - 0s 11ms/step - loss: 1.9277\n",
      "Epoch 6/20\n",
      "16/16 [==============================] - 0s 10ms/step - loss: 1.9028\n",
      "Epoch 7/20\n",
      "16/16 [==============================] - 0s 9ms/step - loss: 1.8978\n",
      "Epoch 8/20\n",
      "16/16 [==============================] - 0s 10ms/step - loss: 1.8752\n",
      "Epoch 9/20\n",
      "16/16 [==============================] - 0s 11ms/step - loss: 1.8627\n",
      "Epoch 10/20\n",
      "16/16 [==============================] - 0s 10ms/step - loss: 1.8599\n",
      "Epoch 11/20\n",
      "16/16 [==============================] - 0s 9ms/step - loss: 1.8546\n",
      "Epoch 12/20\n",
      "16/16 [==============================] - 0s 10ms/step - loss: 1.8234\n",
      "Epoch 13/20\n",
      "16/16 [==============================] - 0s 10ms/step - loss: 1.8339\n",
      "Epoch 14/20\n",
      "16/16 [==============================] - 0s 10ms/step - loss: 1.8403\n",
      "Epoch 15/20\n",
      "16/16 [==============================] - 0s 10ms/step - loss: 1.8195\n",
      "Epoch 16/20\n",
      "16/16 [==============================] - 0s 10ms/step - loss: 1.8222\n",
      "Epoch 17/20\n",
      "16/16 [==============================] - 0s 11ms/step - loss: 1.8197\n",
      "Epoch 18/20\n",
      "16/16 [==============================] - 0s 10ms/step - loss: 1.7842\n",
      "Epoch 19/20\n",
      "16/16 [==============================] - 0s 10ms/step - loss: 1.7843\n",
      "Epoch 20/20\n",
      "16/16 [==============================] - 0s 10ms/step - loss: 1.8014\n"
     ]
    },
    {
     "data": {
      "text/plain": [
       "<tensorflow.python.keras.callbacks.History at 0x1367d34ab20>"
      ]
     },
     "execution_count": 15,
     "metadata": {},
     "output_type": "execute_result"
    }
   ],
   "source": [
    "model=keras.models.Sequential([\n",
    "    keras.layers.SimpleRNN(w,return_sequences=True),\n",
    "    keras.layers.SimpleRNN(w,return_sequences=True),\n",
    "    keras.layers.Dense(1)\n",
    "])\n",
    "model.compile(loss=\"MeanSquaredError\")\n",
    "model.fit(x=X_train,y=Y_train,epochs=20)"
   ]
  },
  {
   "cell_type": "markdown",
   "metadata": {},
   "source": [
    "## Basic LSTM"
   ]
  },
  {
   "cell_type": "code",
   "execution_count": 16,
   "metadata": {},
   "outputs": [
    {
     "name": "stdout",
     "output_type": "stream",
     "text": [
      "Epoch 1/20\n",
      "16/16 [==============================] - 1s 52ms/step - loss: 2.8035\n",
      "Epoch 2/20\n",
      "16/16 [==============================] - 1s 53ms/step - loss: 2.4732\n",
      "Epoch 3/20\n",
      "16/16 [==============================] - 1s 54ms/step - loss: 2.3658\n",
      "Epoch 4/20\n",
      "16/16 [==============================] - 1s 55ms/step - loss: 2.3000\n",
      "Epoch 5/20\n",
      "16/16 [==============================] - 1s 54ms/step - loss: 2.2793\n",
      "Epoch 6/20\n",
      "16/16 [==============================] - 1s 53ms/step - loss: 2.2456\n",
      "Epoch 7/20\n",
      "16/16 [==============================] - 1s 55ms/step - loss: 2.2404: 0s - loss: 2.\n",
      "Epoch 8/20\n",
      "16/16 [==============================] - 1s 55ms/step - loss: 2.2159\n",
      "Epoch 9/20\n",
      "16/16 [==============================] - 1s 55ms/step - loss: 2.1848: 0s - loss: 1.93\n",
      "Epoch 10/20\n",
      "16/16 [==============================] - 1s 56ms/step - loss: 2.1836\n",
      "Epoch 11/20\n",
      "16/16 [==============================] - 1s 57ms/step - loss: 2.1656\n",
      "Epoch 12/20\n",
      "16/16 [==============================] - 1s 55ms/step - loss: 2.1425\n",
      "Epoch 13/20\n",
      "16/16 [==============================] - 1s 56ms/step - loss: 2.1140\n",
      "Epoch 14/20\n",
      "16/16 [==============================] - 1s 55ms/step - loss: 2.0844\n",
      "Epoch 15/20\n",
      "16/16 [==============================] - 1s 57ms/step - loss: 2.0473: 0s -\n",
      "Epoch 16/20\n",
      "16/16 [==============================] - 1s 56ms/step - loss: 2.0416: 0s - loss: 2\n",
      "Epoch 17/20\n",
      "16/16 [==============================] - 1s 56ms/step - loss: 2.0021\n",
      "Epoch 18/20\n",
      "16/16 [==============================] - 1s 54ms/step - loss: 1.9895\n",
      "Epoch 19/20\n",
      "16/16 [==============================] - 1s 55ms/step - loss: 1.9857\n",
      "Epoch 20/20\n",
      "16/16 [==============================] - 1s 55ms/step - loss: 1.9506\n"
     ]
    },
    {
     "data": {
      "text/plain": [
       "<tensorflow.python.keras.callbacks.History at 0x1367fed47f0>"
      ]
     },
     "execution_count": 16,
     "metadata": {},
     "output_type": "execute_result"
    }
   ],
   "source": [
    "model=keras.models.Sequential([\n",
    "    keras.layers.LSTM(w,return_sequences=True),\n",
    "    keras.layers.LSTM(w,return_sequences=True),\n",
    "    keras.layers.LSTM(w,return_sequences=True),\n",
    "    keras.layers.LSTM(w,return_sequences=True),\n",
    "    keras.layers.LSTM(w,return_sequences=True),\n",
    "    keras.layers.Dense(1)\n",
    "])\n",
    "model.compile(loss=\"MeanSquaredError\")\n",
    "model.fit(x=X_train,y=Y_train,epochs=20)"
   ]
  },
  {
   "cell_type": "code",
   "execution_count": 17,
   "metadata": {},
   "outputs": [
    {
     "data": {
      "text/plain": [
       "(507, 20, 1)"
      ]
     },
     "execution_count": 17,
     "metadata": {},
     "output_type": "execute_result"
    }
   ],
   "source": [
    "X_train.shape"
   ]
  },
  {
   "cell_type": "markdown",
   "metadata": {},
   "source": [
    "## GRU Cells"
   ]
  },
  {
   "cell_type": "code",
   "execution_count": 18,
   "metadata": {},
   "outputs": [
    {
     "name": "stdout",
     "output_type": "stream",
     "text": [
      "Epoch 1/20\n",
      "16/16 [==============================] - 0s 13ms/step - loss: 2.9589\n",
      "Epoch 2/20\n",
      "16/16 [==============================] - 0s 10ms/step - loss: 2.5794\n",
      "Epoch 3/20\n",
      "16/16 [==============================] - 0s 11ms/step - loss: 2.2687\n",
      "Epoch 4/20\n",
      "16/16 [==============================] - 0s 10ms/step - loss: 2.0820\n",
      "Epoch 5/20\n",
      "16/16 [==============================] - 0s 12ms/step - loss: 2.0337\n",
      "Epoch 6/20\n",
      "16/16 [==============================] - 0s 13ms/step - loss: 1.9742\n",
      "Epoch 7/20\n",
      "16/16 [==============================] - 0s 12ms/step - loss: 1.9409\n",
      "Epoch 8/20\n",
      "16/16 [==============================] - 0s 12ms/step - loss: 1.9089\n",
      "Epoch 9/20\n",
      "16/16 [==============================] - 0s 13ms/step - loss: 1.8755\n",
      "Epoch 10/20\n",
      "16/16 [==============================] - 0s 13ms/step - loss: 1.8499\n",
      "Epoch 11/20\n",
      "16/16 [==============================] - 0s 13ms/step - loss: 1.8467\n",
      "Epoch 12/20\n",
      "16/16 [==============================] - 0s 12ms/step - loss: 1.8324\n",
      "Epoch 13/20\n",
      "16/16 [==============================] - 0s 12ms/step - loss: 1.8097\n",
      "Epoch 14/20\n",
      "16/16 [==============================] - 0s 12ms/step - loss: 1.7789\n",
      "Epoch 15/20\n",
      "16/16 [==============================] - 0s 12ms/step - loss: 1.7700\n",
      "Epoch 16/20\n",
      "16/16 [==============================] - 0s 11ms/step - loss: 1.7527\n",
      "Epoch 17/20\n",
      "16/16 [==============================] - 0s 12ms/step - loss: 1.7567\n",
      "Epoch 18/20\n",
      "16/16 [==============================] - 0s 12ms/step - loss: 1.7417\n",
      "Epoch 19/20\n",
      "16/16 [==============================] - 0s 13ms/step - loss: 1.7320\n",
      "Epoch 20/20\n",
      "16/16 [==============================] - 0s 13ms/step - loss: 1.7356\n"
     ]
    },
    {
     "data": {
      "text/plain": [
       "<tensorflow.python.keras.callbacks.History at 0x1360fe67af0>"
      ]
     },
     "execution_count": 18,
     "metadata": {},
     "output_type": "execute_result"
    }
   ],
   "source": [
    "model = keras.models.Sequential([\n",
    "    keras.layers.Conv1D(filters=20,kernel_size=4,strides=2,padding=\"valid\"),\n",
    "    keras.layers.GRU(20,return_sequences=True),\n",
    "    keras.layers.GRU(20,return_sequences=True),\n",
    "    keras.layers.Dense(1)\n",
    "])\n",
    "model.compile(optimizer=\"adam\",loss=\"MeanSquaredError\")\n",
    "model.fit(x=X_train,y=Y_train,epochs=20)"
   ]
  },
  {
   "cell_type": "code",
   "execution_count": null,
   "metadata": {},
   "outputs": [],
   "source": []
  }
 ],
 "metadata": {
  "kernelspec": {
   "display_name": "Python 3",
   "language": "python",
   "name": "python3"
  },
  "language_info": {
   "codemirror_mode": {
    "name": "ipython",
    "version": 3
   },
   "file_extension": ".py",
   "mimetype": "text/x-python",
   "name": "python",
   "nbconvert_exporter": "python",
   "pygments_lexer": "ipython3",
   "version": "3.8.3"
  }
 },
 "nbformat": 4,
 "nbformat_minor": 4
}
