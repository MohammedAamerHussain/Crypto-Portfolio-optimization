{
 "cells": [
  {
   "cell_type": "code",
   "execution_count": 37,
   "metadata": {},
   "outputs": [],
   "source": [
    "import pandas as pd\n",
    "import numpy as np\n",
    "import matplotlib.pyplot as plt\n",
    "import seaborn as sns\n",
    "import statsmodels.tsa as ts\n",
    "import pmdarima as pm\n",
    "import datetime as dt\n",
    "from datetime import datetime "
   ]
  },
  {
   "cell_type": "markdown",
   "metadata": {},
   "source": [
    "## Data Prep"
   ]
  },
  {
   "cell_type": "code",
   "execution_count": 135,
   "metadata": {},
   "outputs": [
    {
     "data": {
      "text/html": [
       "<div>\n",
       "<style scoped>\n",
       "    .dataframe tbody tr th:only-of-type {\n",
       "        vertical-align: middle;\n",
       "    }\n",
       "\n",
       "    .dataframe tbody tr th {\n",
       "        vertical-align: top;\n",
       "    }\n",
       "\n",
       "    .dataframe thead th {\n",
       "        text-align: right;\n",
       "    }\n",
       "</style>\n",
       "<table border=\"1\" class=\"dataframe\">\n",
       "  <thead>\n",
       "    <tr style=\"text-align: right;\">\n",
       "      <th></th>\n",
       "      <th>Date</th>\n",
       "      <th>Open</th>\n",
       "      <th>High</th>\n",
       "      <th>Low</th>\n",
       "      <th>Close</th>\n",
       "      <th>Adj Close</th>\n",
       "      <th>Volume</th>\n",
       "      <th>Open_VIX</th>\n",
       "      <th>High_VIX</th>\n",
       "      <th>Low_VIX</th>\n",
       "      <th>...</th>\n",
       "      <th>MA50</th>\n",
       "      <th>MA200</th>\n",
       "      <th>MACD</th>\n",
       "      <th>MACD_Signal</th>\n",
       "      <th>MACD_Indicator</th>\n",
       "      <th>Bollinger_High</th>\n",
       "      <th>Bollinger_Low</th>\n",
       "      <th>Return</th>\n",
       "      <th>Return_Binary</th>\n",
       "      <th>CenMA10</th>\n",
       "    </tr>\n",
       "  </thead>\n",
       "  <tbody>\n",
       "    <tr>\n",
       "      <th>1252</th>\n",
       "      <td>2020-11-16</td>\n",
       "      <td>447.558990</td>\n",
       "      <td>463.831024</td>\n",
       "      <td>445.501617</td>\n",
       "      <td>459.940308</td>\n",
       "      <td>459.940308</td>\n",
       "      <td>1.144124e+10</td>\n",
       "      <td>23.660000</td>\n",
       "      <td>24.08</td>\n",
       "      <td>22.430000</td>\n",
       "      <td>...</td>\n",
       "      <td>381.723126</td>\n",
       "      <td>278.523084</td>\n",
       "      <td>23.683894</td>\n",
       "      <td>17.797286</td>\n",
       "      <td>5.886608</td>\n",
       "      <td>483.621209</td>\n",
       "      <td>349.880345</td>\n",
       "      <td>-14.686126</td>\n",
       "      <td>0</td>\n",
       "      <td>0.0</td>\n",
       "    </tr>\n",
       "    <tr>\n",
       "      <th>1253</th>\n",
       "      <td>2020-11-17</td>\n",
       "      <td>464.406647</td>\n",
       "      <td>482.232208</td>\n",
       "      <td>460.776611</td>\n",
       "      <td>480.360077</td>\n",
       "      <td>480.360077</td>\n",
       "      <td>1.459306e+10</td>\n",
       "      <td>22.840000</td>\n",
       "      <td>24.09</td>\n",
       "      <td>22.340000</td>\n",
       "      <td>...</td>\n",
       "      <td>383.157109</td>\n",
       "      <td>279.873460</td>\n",
       "      <td>25.206254</td>\n",
       "      <td>19.279080</td>\n",
       "      <td>5.927174</td>\n",
       "      <td>490.984909</td>\n",
       "      <td>353.638962</td>\n",
       "      <td>20.419769</td>\n",
       "      <td>1</td>\n",
       "      <td>0.0</td>\n",
       "    </tr>\n",
       "    <tr>\n",
       "      <th>1254</th>\n",
       "      <td>2020-11-18</td>\n",
       "      <td>480.346832</td>\n",
       "      <td>491.999908</td>\n",
       "      <td>465.830963</td>\n",
       "      <td>479.484070</td>\n",
       "      <td>479.484070</td>\n",
       "      <td>1.788020e+10</td>\n",
       "      <td>22.860001</td>\n",
       "      <td>23.92</td>\n",
       "      <td>21.660000</td>\n",
       "      <td>...</td>\n",
       "      <td>386.012268</td>\n",
       "      <td>281.329007</td>\n",
       "      <td>26.041854</td>\n",
       "      <td>20.631635</td>\n",
       "      <td>5.410219</td>\n",
       "      <td>498.320789</td>\n",
       "      <td>355.032492</td>\n",
       "      <td>-0.876007</td>\n",
       "      <td>0</td>\n",
       "      <td>0.0</td>\n",
       "    </tr>\n",
       "    <tr>\n",
       "      <th>1255</th>\n",
       "      <td>2020-11-19</td>\n",
       "      <td>479.481018</td>\n",
       "      <td>480.121735</td>\n",
       "      <td>465.704254</td>\n",
       "      <td>471.630432</td>\n",
       "      <td>471.630432</td>\n",
       "      <td>1.247393e+10</td>\n",
       "      <td>23.620001</td>\n",
       "      <td>24.52</td>\n",
       "      <td>22.559999</td>\n",
       "      <td>...</td>\n",
       "      <td>388.579749</td>\n",
       "      <td>282.705276</td>\n",
       "      <td>25.773252</td>\n",
       "      <td>21.659958</td>\n",
       "      <td>4.113294</td>\n",
       "      <td>503.650783</td>\n",
       "      <td>355.488243</td>\n",
       "      <td>-7.853638</td>\n",
       "      <td>0</td>\n",
       "      <td>0.0</td>\n",
       "    </tr>\n",
       "    <tr>\n",
       "      <th>1256</th>\n",
       "      <td>2020-11-20</td>\n",
       "      <td>471.631470</td>\n",
       "      <td>513.610352</td>\n",
       "      <td>471.631470</td>\n",
       "      <td>509.744568</td>\n",
       "      <td>509.744568</td>\n",
       "      <td>1.862994e+10</td>\n",
       "      <td>23.430000</td>\n",
       "      <td>23.73</td>\n",
       "      <td>22.129999</td>\n",
       "      <td>...</td>\n",
       "      <td>390.650320</td>\n",
       "      <td>284.001733</td>\n",
       "      <td>28.309540</td>\n",
       "      <td>22.989874</td>\n",
       "      <td>5.319666</td>\n",
       "      <td>516.137587</td>\n",
       "      <td>352.999227</td>\n",
       "      <td>38.114136</td>\n",
       "      <td>1</td>\n",
       "      <td>0.0</td>\n",
       "    </tr>\n",
       "  </tbody>\n",
       "</table>\n",
       "<p>5 rows × 49 columns</p>\n",
       "</div>"
      ],
      "text/plain": [
       "           Date        Open        High         Low       Close   Adj Close  \\\n",
       "1252 2020-11-16  447.558990  463.831024  445.501617  459.940308  459.940308   \n",
       "1253 2020-11-17  464.406647  482.232208  460.776611  480.360077  480.360077   \n",
       "1254 2020-11-18  480.346832  491.999908  465.830963  479.484070  479.484070   \n",
       "1255 2020-11-19  479.481018  480.121735  465.704254  471.630432  471.630432   \n",
       "1256 2020-11-20  471.631470  513.610352  471.631470  509.744568  509.744568   \n",
       "\n",
       "            Volume   Open_VIX  High_VIX    Low_VIX  ...        MA50  \\\n",
       "1252  1.144124e+10  23.660000     24.08  22.430000  ...  381.723126   \n",
       "1253  1.459306e+10  22.840000     24.09  22.340000  ...  383.157109   \n",
       "1254  1.788020e+10  22.860001     23.92  21.660000  ...  386.012268   \n",
       "1255  1.247393e+10  23.620001     24.52  22.559999  ...  388.579749   \n",
       "1256  1.862994e+10  23.430000     23.73  22.129999  ...  390.650320   \n",
       "\n",
       "           MA200       MACD  MACD_Signal  MACD_Indicator  Bollinger_High  \\\n",
       "1252  278.523084  23.683894    17.797286        5.886608      483.621209   \n",
       "1253  279.873460  25.206254    19.279080        5.927174      490.984909   \n",
       "1254  281.329007  26.041854    20.631635        5.410219      498.320789   \n",
       "1255  282.705276  25.773252    21.659958        4.113294      503.650783   \n",
       "1256  284.001733  28.309540    22.989874        5.319666      516.137587   \n",
       "\n",
       "      Bollinger_Low     Return  Return_Binary  CenMA10  \n",
       "1252     349.880345 -14.686126              0      0.0  \n",
       "1253     353.638962  20.419769              1      0.0  \n",
       "1254     355.032492  -0.876007              0      0.0  \n",
       "1255     355.488243  -7.853638              0      0.0  \n",
       "1256     352.999227  38.114136              1      0.0  \n",
       "\n",
       "[5 rows x 49 columns]"
      ]
     },
     "execution_count": 135,
     "metadata": {},
     "output_type": "execute_result"
    }
   ],
   "source": [
    "data=pd.read_csv(r\"C:\\Users\\cnaka\\Class Notes\\31009 Machine Learning\\Final Project\\ETH-USD.csv\")\n",
    "vix=pd.read_csv(r\"C:\\Users\\cnaka\\Class Notes\\31009 Machine Learning\\Final Project\\^VIX.csv\")\n",
    "spy=pd.read_csv(r\"C:\\Users\\cnaka\\Class Notes\\31009 Machine Learning\\Final Project\\SPY.csv\")\n",
    "ten=pd.read_csv(r\"C:\\Users\\cnaka\\Class Notes\\31009 Machine Learning\\Final Project\\^TNX.csv\")\n",
    "five=pd.read_csv(r\"C:\\Users\\cnaka\\Class Notes\\31009 Machine Learning\\Final Project\\^FVX.csv\")\n",
    "thirty=pd.read_csv(r\"C:\\Users\\cnaka\\Class Notes\\31009 Machine Learning\\Final Project\\^TYX.csv\")\n",
    "ten.columns = [\"Date\",\"Open_Ten\",\"High_Ten\",\"Low_Ten\",\"Close_Ten\",'Adj_Close_Ten',\"Volume_Ten\"]\n",
    "five.columns = [\"Date\",\"Open_Five\",\"High_Five\",\"Low_Five\",\"Close_Five\",'Adj_Close_Five',\"Volume_Five\"]\n",
    "thirty.columns = [\"Date\",\"Open_Thirty\",\"High_Thirty\",\"Low_Thirty\",\"Close_Thirty\",'Adj_Close_Thirty',\"Volume_Thirty\"]\n",
    "spy.columns = [\"Date\",\"Open_SPY\",\"High_SPY\",\"Low_SPY\",\"Close_SPY\",'Adj_Close_SPY',\"Volume_SPY\"]\n",
    "vix.columns = [\"Date\",\"Open_VIX\",\"High_VIX\",\"Low_VIX\",\"Close_VIX\",'Adj_Close_VIX',\"Volume_VIX\"]\n",
    "data = data.merge(vix,on=\"Date\").merge(spy,on=\"Date\").merge(five,on=\"Date\").merge(ten,on=\"Date\").merge(thirty,on=\"Date\")\n",
    "for i in range(0,data.shape[0]):\n",
    "    for j in range(0,data.shape[1]):\n",
    "        if data.isnull().iloc[i,j]==True:\n",
    "            data.iloc[i,j]=data.iloc[i-1,j]\n",
    "data[\"Yield_Spread\"] = data[\"Close_Thirty\"]-data[\"Close_Five\"]\n",
    "data[\"MA10\"] = data[\"Close\"].shift(1).rolling(window=10).mean().fillna(0)\n",
    "data[\"MA50\"] = data[\"Close\"].shift(1).rolling(window=50).mean().fillna(0)\n",
    "data[\"MA200\"] = data[\"Close\"].shift(1).rolling(window=200).mean().fillna(0)\n",
    "data[\"MACD\"] = (data.Close.ewm(span=12).mean().fillna(0)-data.Close.ewm(span=26).mean().fillna(0))\n",
    "data[\"MACD_Signal\"]=data.MACD.ewm(span=9).mean().fillna(0)\n",
    "data[\"MACD_Indicator\"]=data[\"MACD\"]-data[\"MACD_Signal\"].fillna(0)\n",
    "data[\"Bollinger_High\"] = (data[\"Close\"].rolling(window=20).mean()+2*data[\"Close\"].rolling(window=20).std()).fillna(0)\n",
    "data[\"Bollinger_Low\"] = (data[\"Close\"].rolling(window=20).mean()-2*data[\"Close\"].rolling(window=20).std()).fillna(0)\n",
    "data[\"Date\"]=pd.to_datetime(data[\"Date\"])\n",
    "datadiff=data.diff()\n",
    "datadiff[\"Date\"]=data[\"Date\"]\n",
    "data=data.merge(datadiff[[\"Close\",\"Date\"]],on=\"Date\").rename(columns={\"Close_x\":\"Close\",\n",
    "            \"Close_y\":\"Return\"})\n",
    "data[\"Return_Binary\"]=[1 if data[\"Return\"][x]>0 else 0 for x in range(0,len(data))]\n",
    "data[\"CenMA10\"]=np.zeros(len(data))\n",
    "maw=10\n",
    "for i in range(int(maw/2-1),len(data)-int(maw/2)):\n",
    "    data.loc[i,\"CenMA10\"]=sum(data[\"Close\"][i:i+maw])/maw\n",
    "data.tail()"
   ]
  },
  {
   "cell_type": "code",
   "execution_count": 141,
   "metadata": {},
   "outputs": [],
   "source": [
    "h=1 #forecast horizon\n",
    "w=50 #window size"
   ]
  },
  {
   "cell_type": "code",
   "execution_count": 142,
   "metadata": {},
   "outputs": [],
   "source": [
    "data=data[(data[\"Date\"]>=\"2017-05-25\") & (data[\"Date\"]<=\"2020-11-15\")]\n",
    "data=data.reset_index().drop(\"index\",axis=1)\n",
    "train=data.loc[0:round(len(data[\"Return\"])*.6)][[\"Close\"#,\"Open\",\"High\",\"Low\",\"Volume\",\"CenMA10\"#,\"Close_VIX\",\"Volume\",\"MA10\",\"MA50\",\"MA200\",\"MACD_Indicator\",\"Bollinger_High\",\"Bollinger_Low\"\n",
    "                                               ]]\n",
    "validate = data.loc[round(len(data[\"Return\"])*.6)+1:round(len(data[\"Return\"])*.8)][[\"Close\"#,\"Open\",\"High\",\"Low\",\"Volume\",\"CenMA10\"#,\"Close_VIX\",\"Volume\"#,\"MA10\",\"MA50\",\"MA200\",\"MACD_Indicator\",\"Bollinger_High\",\"Bollinger_Low\"\n",
    "                                                                                 ]]\n",
    "test =data.loc[round(len(data[\"Return\"])*.8)+1:][[\"Close\"#,\"Open\",\"High\",\"Low\",\"Volume\",\"CenMA10\"#,\"Close_VIX\",\"Volume\"#,\"MA10\",\"MA50\",\"MA200\",\"MACD_Indicator\",\"Bollinger_High\",\"Bollinger_Low\"\n",
    "                                                ]]"
   ]
  },
  {
   "cell_type": "code",
   "execution_count": 143,
   "metadata": {},
   "outputs": [],
   "source": [
    "from sklearn.preprocessing import StandardScaler\n",
    "scaler = StandardScaler()\n",
    "train_scaled=scaler.fit_transform(train)\n",
    "validate_scaled=scaler.transform(validate)\n",
    "test_scaled=scaler.transform(test)"
   ]
  },
  {
   "cell_type": "code",
   "execution_count": 144,
   "metadata": {},
   "outputs": [],
   "source": [
    "def create_datasets(X,w,h):\n",
    "    X_set,Y_set=[],[]\n",
    "    for i in range(w,len(X)):\n",
    "        X_set.append(X[i-w:i,])\n",
    "        Y_set.append(X[i:i+h,0]#.reshape((w,1))\n",
    "                    )\n",
    "    return np.array(X_set),np.array(Y_set)"
   ]
  },
  {
   "cell_type": "code",
   "execution_count": 145,
   "metadata": {
    "scrolled": true
   },
   "outputs": [
    {
     "name": "stdout",
     "output_type": "stream",
     "text": [
      "(477, 50, 1) (477, 1)\n",
      "(125, 50, 1) (125, 1)\n",
      "(124, 50, 1) (124, 1)\n"
     ]
    }
   ],
   "source": [
    "X_train,Y_train=create_datasets(train_scaled,w,h)\n",
    "X_validate,Y_validate=create_datasets(validate_scaled,w,h)\n",
    "X_test,Y_test=create_datasets(test_scaled,w,h)\n",
    "print(X_train.shape,Y_train.shape)\n",
    "print(X_validate.shape,Y_validate.shape)\n",
    "print(X_test.shape,Y_test.shape)"
   ]
  },
  {
   "cell_type": "markdown",
   "metadata": {},
   "source": [
    "# Linear Regression"
   ]
  },
  {
   "cell_type": "code",
   "execution_count": 84,
   "metadata": {},
   "outputs": [
    {
     "data": {
      "text/plain": [
       "0.04365965886935641"
      ]
     },
     "execution_count": 84,
     "metadata": {},
     "output_type": "execute_result"
    }
   ],
   "source": [
    "from sklearn.linear_model import LinearRegression\n",
    "y=data[data[\"Date\"]>\"2017-05-23\"][\"Close\"].diff()[1:]\n",
    "X=datadiff[datadiff[\"Date\"]>\"2017-05-24\"].drop(\"Date\",axis=1)[[\"Close\",\"Volume\",\"Close_VIX\",\"Volume_VIX\",\"Close_SPY\",\"Volume_SPY\",\"Close_Five\",\"Close_Ten\",\"Close_Thirty\",\"Yield_Spread\"]][:-1].fillna(0)\n",
    "lm=LinearRegression()\n",
    "lm.fit(y=y,X=X)\n",
    "lm.score(y=y,X=X)"
   ]
  },
  {
   "cell_type": "markdown",
   "metadata": {},
   "source": [
    "# Time Series"
   ]
  },
  {
   "cell_type": "code",
   "execution_count": 105,
   "metadata": {},
   "outputs": [
    {
     "data": {
      "image/png": "[encoded data removed]",
      "text/plain": [
       "<Figure size 432x288 with 1 Axes>"
      ]
     },
     "metadata": {
      "needs_background": "light"
     },
     "output_type": "display_data"
    }
   ],
   "source": [
    "from scipy.stats import boxcox\n",
    "plt.plot(pd.DataFrame(boxcox(train[\"Close\"])[0]).diff())\n",
    "dataadj=boxcox(train[\"Close\"])[0]"
   ]
  },
  {
   "cell_type": "code",
   "execution_count": 106,
   "metadata": {},
   "outputs": [
    {
     "name": "stdout",
     "output_type": "stream",
     "text": [
      "Performing stepwise search to minimize aic\n",
      " ARIMA(1,1,1)(0,0,0)[0] intercept   : AIC=-2299.176, Time=0.38 sec\n",
      " ARIMA(0,1,0)(0,0,0)[0] intercept   : AIC=-2302.538, Time=0.06 sec\n",
      " ARIMA(1,1,0)(0,0,0)[0] intercept   : AIC=-2301.169, Time=0.07 sec\n",
      " ARIMA(0,1,1)(0,0,0)[0] intercept   : AIC=-2301.181, Time=0.16 sec\n",
      " ARIMA(0,1,0)(0,0,0)[0]             : AIC=-2304.399, Time=0.08 sec\n",
      "\n",
      "Best model:  ARIMA(0,1,0)(0,0,0)[0]          \n",
      "Total fit time: 0.812 seconds\n"
     ]
    },
    {
     "data": {
      "text/plain": [
       "ARIMA(order=(0, 1, 0), scoring_args={}, suppress_warnings=True,\n",
       "      with_intercept=False)"
      ]
     },
     "execution_count": 106,
     "metadata": {},
     "output_type": "execute_result"
    }
   ],
   "source": [
    "pm.auto_arima(dataadj, start_p=1, start_q=1,\n",
    "                         test='adf',\n",
    "                         start_P=0, \n",
    "                         trace=True,\n",
    "                         error_action='ignore',  \n",
    "                         suppress_warnings=True, \n",
    "                         stepwise=True)"
   ]
  },
  {
   "cell_type": "code",
   "execution_count": 107,
   "metadata": {},
   "outputs": [
    {
     "data": {
      "text/plain": [
       "[<matplotlib.lines.Line2D at 0x20904f5a2e0>]"
      ]
     },
     "execution_count": 107,
     "metadata": {},
     "output_type": "execute_result"
    },
    {
     "data": {
      "image/png": "[encoded data removed]",
      "text/plain": [
       "<Figure size 432x288 with 1 Axes>"
      ]
     },
     "metadata": {
      "needs_background": "light"
     },
     "output_type": "display_data"
    }
   ],
   "source": [
    "plt.plot(data[data[\"Date\"]>\"2017-05-25\"][\"Close\"])"
   ]
  },
  {
   "cell_type": "code",
   "execution_count": 109,
   "metadata": {},
   "outputs": [
    {
     "name": "stderr",
     "output_type": "stream",
     "text": [
      "<ipython-input-109-75ff775b6d4c>:1: UserWarning: Boolean Series key will be reindexed to match DataFrame index.\n",
      "  pm.auto_arima(train[data[\"Date\"]>\"2017-05-25\"][\"Close\"],start_p=1, start_q=1,\n"
     ]
    },
    {
     "name": "stdout",
     "output_type": "stream",
     "text": [
      "Performing stepwise search to minimize aic\n",
      " ARIMA(1,1,1)(0,0,0)[0] intercept   : AIC=5172.369, Time=0.41 sec\n",
      " ARIMA(0,1,0)(0,0,0)[0] intercept   : AIC=5169.263, Time=0.02 sec\n",
      " ARIMA(1,1,0)(0,0,0)[0] intercept   : AIC=5171.248, Time=0.09 sec\n",
      " ARIMA(0,1,1)(0,0,0)[0] intercept   : AIC=5171.249, Time=0.13 sec\n",
      " ARIMA(0,1,0)(0,0,0)[0]             : AIC=5167.303, Time=0.02 sec\n",
      "\n",
      "Best model:  ARIMA(0,1,0)(0,0,0)[0]          \n",
      "Total fit time: 0.673 seconds\n"
     ]
    },
    {
     "data": {
      "text/plain": [
       "ARIMA(order=(0, 1, 0), scoring_args={}, suppress_warnings=True,\n",
       "      with_intercept=False)"
      ]
     },
     "execution_count": 109,
     "metadata": {},
     "output_type": "execute_result"
    }
   ],
   "source": [
    "pm.auto_arima(train[data[\"Date\"]>\"2017-05-25\"][\"Close\"],start_p=1, start_q=1,\n",
    "                         test='adf',\n",
    "                         start_P=0, \n",
    "                         trace=True,\n",
    "                         error_action='ignore',  \n",
    "                         suppress_warnings=True, \n",
    "                         stepwise=True)"
   ]
  },
  {
   "cell_type": "code",
   "execution_count": 111,
   "metadata": {},
   "outputs": [
    {
     "name": "stdout",
     "output_type": "stream",
     "text": [
      "Performing stepwise search to minimize aicc\n",
      " ARIMA(1,0,1)(0,0,0)[0] intercept   : AICC=8257.935, Time=0.53 sec\n",
      " ARIMA(0,0,0)(0,0,0)[0] intercept   : AICC=8255.118, Time=0.02 sec\n",
      " ARIMA(1,0,0)(0,0,0)[0] intercept   : AICC=8257.127, Time=0.04 sec\n",
      " ARIMA(0,0,1)(0,0,0)[0] intercept   : AICC=8257.127, Time=0.16 sec\n",
      " ARIMA(0,0,0)(0,0,0)[0]             : AICC=8253.250, Time=0.01 sec\n",
      "\n",
      "Best model:  ARIMA(0,0,0)(0,0,0)[0]          \n",
      "Total fit time: 0.776 seconds\n"
     ]
    }
   ],
   "source": [
    "arimax=pm.auto_arima(data[data[\"Date\"]>\"2017-05-24\"][\"Close\"].diff()[1:],exongenous=datadiff[datadiff[\"Date\"]>=\"2017-05-25\"],start_p=1, start_q=1,\n",
    "                         test='adf',\n",
    "                         start_P=0, \n",
    "                         trace=True,\n",
    "                         error_action='ignore',  \n",
    "                         suppress_warnings=True,\n",
    "                         information_criterion=\"aicc\",\n",
    "                         stepwise=True)\n"
   ]
  },
  {
   "cell_type": "code",
   "execution_count": 48,
   "metadata": {},
   "outputs": [
    {
     "data": {
      "text/html": [
       "<table class=\"simpletable\">\n",
       "<caption>SARIMAX Results</caption>\n",
       "<tr>\n",
       "  <th>Dep. Variable:</th>           <td>y</td>        <th>  No. Observations:  </th>    <td>880</td>   \n",
       "</tr>\n",
       "<tr>\n",
       "  <th>Model:</th>           <td>SARIMAX(0, 0, 1)</td> <th>  Log Likelihood     </th> <td>-3038.384</td>\n",
       "</tr>\n",
       "<tr>\n",
       "  <th>Date:</th>            <td>Tue, 24 Nov 2020</td> <th>  AIC                </th> <td>6080.768</td> \n",
       "</tr>\n",
       "<tr>\n",
       "  <th>Time:</th>                <td>15:58:07</td>     <th>  BIC                </th> <td>6090.328</td> \n",
       "</tr>\n",
       "<tr>\n",
       "  <th>Sample:</th>                  <td>0</td>        <th>  HQIC               </th> <td>6084.424</td> \n",
       "</tr>\n",
       "<tr>\n",
       "  <th></th>                      <td> - 880</td>      <th>                     </th>     <td> </td>    \n",
       "</tr>\n",
       "<tr>\n",
       "  <th>Covariance Type:</th>        <td>opg</td>       <th>                     </th>     <td> </td>    \n",
       "</tr>\n",
       "</table>\n",
       "<table class=\"simpletable\">\n",
       "<tr>\n",
       "     <td></td>       <th>coef</th>     <th>std err</th>      <th>z</th>      <th>P>|z|</th>  <th>[0.025</th>    <th>0.975]</th>  \n",
       "</tr>\n",
       "<tr>\n",
       "  <th>ma.L1</th>  <td>    0.2042</td> <td>    0.009</td> <td>   22.345</td> <td> 0.000</td> <td>    0.186</td> <td>    0.222</td>\n",
       "</tr>\n",
       "<tr>\n",
       "  <th>sigma2</th> <td>   58.4098</td> <td>    0.737</td> <td>   79.298</td> <td> 0.000</td> <td>   56.966</td> <td>   59.854</td>\n",
       "</tr>\n",
       "</table>\n",
       "<table class=\"simpletable\">\n",
       "<tr>\n",
       "  <th>Ljung-Box (Q):</th>          <td>124.60</td> <th>  Jarque-Bera (JB):  </th> <td>72243.57</td>\n",
       "</tr>\n",
       "<tr>\n",
       "  <th>Prob(Q):</th>                 <td>0.00</td>  <th>  Prob(JB):          </th>   <td>0.00</td>  \n",
       "</tr>\n",
       "<tr>\n",
       "  <th>Heteroskedasticity (H):</th>  <td>0.06</td>  <th>  Skew:              </th>   <td>2.88</td>  \n",
       "</tr>\n",
       "<tr>\n",
       "  <th>Prob(H) (two-sided):</th>     <td>0.00</td>  <th>  Kurtosis:          </th>   <td>47.01</td> \n",
       "</tr>\n",
       "</table><br/><br/>Warnings:<br/>[1] Covariance matrix calculated using the outer product of gradients (complex-step)."
      ],
      "text/plain": [
       "<class 'statsmodels.iolib.summary.Summary'>\n",
       "\"\"\"\n",
       "                               SARIMAX Results                                \n",
       "==============================================================================\n",
       "Dep. Variable:                      y   No. Observations:                  880\n",
       "Model:               SARIMAX(0, 0, 1)   Log Likelihood               -3038.384\n",
       "Date:                Tue, 24 Nov 2020   AIC                           6080.768\n",
       "Time:                        15:58:07   BIC                           6090.328\n",
       "Sample:                             0   HQIC                          6084.424\n",
       "                                - 880                                         \n",
       "Covariance Type:                  opg                                         \n",
       "==============================================================================\n",
       "                 coef    std err          z      P>|z|      [0.025      0.975]\n",
       "------------------------------------------------------------------------------\n",
       "ma.L1          0.2042      0.009     22.345      0.000       0.186       0.222\n",
       "sigma2        58.4098      0.737     79.298      0.000      56.966      59.854\n",
       "===================================================================================\n",
       "Ljung-Box (Q):                      124.60   Jarque-Bera (JB):             72243.57\n",
       "Prob(Q):                              0.00   Prob(JB):                         0.00\n",
       "Heteroskedasticity (H):               0.06   Skew:                             2.88\n",
       "Prob(H) (two-sided):                  0.00   Kurtosis:                        47.01\n",
       "===================================================================================\n",
       "\n",
       "Warnings:\n",
       "[1] Covariance matrix calculated using the outer product of gradients (complex-step).\n",
       "\"\"\""
      ]
     },
     "execution_count": 48,
     "metadata": {},
     "output_type": "execute_result"
    }
   ],
   "source": [
    "arimax.summary()"
   ]
  },
  {
   "cell_type": "code",
   "execution_count": 76,
   "metadata": {},
   "outputs": [
    {
     "data": {
      "text/plain": [
       "'2020-11-20'"
      ]
     },
     "execution_count": 76,
     "metadata": {},
     "output_type": "execute_result"
    }
   ],
   "source": [
    "max(data[\"Date\"])"
   ]
  },
  {
   "cell_type": "code",
   "execution_count": 54,
   "metadata": {},
   "outputs": [
    {
     "data": {
      "text/plain": [
       "Index(['Open', 'High', 'Low', 'Close', 'Adj Close', 'Volume', 'Open_VIX',\n",
       "       'High_VIX', 'Low_VIX', 'Close_VIX', 'Adj_Close_VIX', 'Volume_VIX',\n",
       "       'Open_SPY', 'High_SPY', 'Low_SPY', 'Close_SPY', 'Adj_Close_SPY',\n",
       "       'Volume_SPY', 'Open_Five', 'High_Five', 'Low_Five', 'Close_Five',\n",
       "       'Adj_Close_Five', 'Volume_Five', 'Open_Ten', 'High_Ten', 'Low_Ten',\n",
       "       'Close_Ten', 'Adj_Close_Ten', 'Volume_Ten', 'Open_Thirty',\n",
       "       'High_Thirty', 'Low_Thirty', 'Close_Thirty', 'Adj_Close_Thirty',\n",
       "       'Volume_Thirty', 'Yield_Spread', 'Date'],\n",
       "      dtype='object')"
      ]
     },
     "execution_count": 54,
     "metadata": {},
     "output_type": "execute_result"
    }
   ],
   "source": [
    "datadiff.columns"
   ]
  },
  {
   "cell_type": "markdown",
   "metadata": {},
   "source": [
    "# Neural Nets"
   ]
  },
  {
   "cell_type": "markdown",
   "metadata": {},
   "source": [
    "## Naive Forecast"
   ]
  },
  {
   "cell_type": "code",
   "execution_count": 59,
   "metadata": {},
   "outputs": [],
   "source": [
    "from tensorflow import keras\n",
    "import tensorflow as tf\n",
    "import tensorflow_addons as tfa\n",
    "tf.config.run_functions_eagerly(True)"
   ]
  },
  {
   "cell_type": "code",
   "execution_count": 102,
   "metadata": {},
   "outputs": [
    {
     "name": "stdout",
     "output_type": "stream",
     "text": [
      "MSE=[0.01942502]\n"
     ]
    }
   ],
   "source": [
    "itr=len(Y_train-h)\n",
    "errors=[]\n",
    "for i in range(1,itr):\n",
    "    errors.append((Y_train[i]-Y_train[i-1])**2)\n",
    "print(\"MSE={}\".format(sum(errors)/(len(Y_train)-1)))"
   ]
  },
  {
   "cell_type": "markdown",
   "metadata": {},
   "source": [
    "## Basic LSTM"
   ]
  },
  {
   "cell_type": "code",
   "execution_count": 112,
   "metadata": {},
   "outputs": [
    {
     "name": "stdout",
     "output_type": "stream",
     "text": [
      "Epoch 1/50\n",
      " 3/17 [====>.........................] - ETA: 0s - loss: 0.9218"
     ]
    },
    {
     "name": "stderr",
     "output_type": "stream",
     "text": [
      "C:\\Users\\cnaka\\anaconda3\\lib\\site-packages\\tensorflow\\python\\data\\ops\\dataset_ops.py:3349: UserWarning: Even though the tf.config.experimental_run_functions_eagerly option is set, this option does not apply to tf.data functions. tf.data functions are still traced and executed as graphs.\n",
      "  warnings.warn(\n"
     ]
    },
    {
     "name": "stdout",
     "output_type": "stream",
     "text": [
      "17/17 [==============================] - 1s 39ms/step - loss: 0.6589\n",
      "Epoch 2/50\n",
      "17/17 [==============================] - 1s 38ms/step - loss: 0.2269\n",
      "Epoch 3/50\n",
      "17/17 [==============================] - 1s 39ms/step - loss: 0.1518\n",
      "Epoch 4/50\n",
      "17/17 [==============================] - 1s 37ms/step - loss: 0.1093\n",
      "Epoch 5/50\n",
      "17/17 [==============================] - 1s 40ms/step - loss: 0.0638\n",
      "Epoch 6/50\n",
      "17/17 [==============================] - 1s 35ms/step - loss: 0.0512\n",
      "Epoch 7/50\n",
      "17/17 [==============================] - 1s 40ms/step - loss: 0.0509\n",
      "Epoch 8/50\n",
      "17/17 [==============================] - 1s 39ms/step - loss: 0.0419\n",
      "Epoch 9/50\n",
      "17/17 [==============================] - 1s 36ms/step - loss: 0.0428\n",
      "Epoch 10/50\n",
      "17/17 [==============================] - 1s 37ms/step - loss: 0.0382\n",
      "Epoch 11/50\n",
      "17/17 [==============================] - 1s 39ms/step - loss: 0.0374\n",
      "Epoch 12/50\n",
      "17/17 [==============================] - 1s 37ms/step - loss: 0.0368\n",
      "Epoch 13/50\n",
      "17/17 [==============================] - 1s 34ms/step - loss: 0.0363\n",
      "Epoch 14/50\n",
      "17/17 [==============================] - 1s 42ms/step - loss: 0.0331: 0s - loss: 0.0\n",
      "Epoch 15/50\n",
      "17/17 [==============================] - 1s 38ms/step - loss: 0.0336\n",
      "Epoch 16/50\n",
      "17/17 [==============================] - 1s 43ms/step - loss: 0.0333\n",
      "Epoch 17/50\n",
      "17/17 [==============================] - 1s 38ms/step - loss: 0.0347\n",
      "Epoch 18/50\n",
      "17/17 [==============================] - 1s 35ms/step - loss: 0.0315\n",
      "Epoch 19/50\n",
      "17/17 [==============================] - 1s 37ms/step - loss: 0.0305\n",
      "Epoch 20/50\n",
      "17/17 [==============================] - 1s 38ms/step - loss: 0.0300\n",
      "Epoch 21/50\n",
      "17/17 [==============================] - 1s 39ms/step - loss: 0.0285\n",
      "Epoch 22/50\n",
      "17/17 [==============================] - 1s 44ms/step - loss: 0.0285\n",
      "Epoch 23/50\n",
      "17/17 [==============================] - 1s 36ms/step - loss: 0.0243\n",
      "Epoch 24/50\n",
      "17/17 [==============================] - 1s 37ms/step - loss: 0.0246\n",
      "Epoch 25/50\n",
      "17/17 [==============================] - 1s 39ms/step - loss: 0.0226\n",
      "Epoch 26/50\n",
      "17/17 [==============================] - 1s 37ms/step - loss: 0.0230\n",
      "Epoch 27/50\n",
      "17/17 [==============================] - 1s 37ms/step - loss: 0.0237\n",
      "Epoch 28/50\n",
      "17/17 [==============================] - 1s 40ms/step - loss: 0.0210\n",
      "Epoch 29/50\n",
      "17/17 [==============================] - 1s 43ms/step - loss: 0.0243\n",
      "Epoch 30/50\n",
      "17/17 [==============================] - 1s 37ms/step - loss: 0.0220\n",
      "Epoch 31/50\n",
      "17/17 [==============================] - 1s 41ms/step - loss: 0.0200\n",
      "Epoch 32/50\n",
      "17/17 [==============================] - 1s 45ms/step - loss: 0.0236\n",
      "Epoch 33/50\n",
      "17/17 [==============================] - 1s 38ms/step - loss: 0.0204\n",
      "Epoch 34/50\n",
      "17/17 [==============================] - 1s 40ms/step - loss: 0.0214\n",
      "Epoch 35/50\n",
      "17/17 [==============================] - 1s 42ms/step - loss: 0.0286\n",
      "Epoch 36/50\n",
      "17/17 [==============================] - 1s 42ms/step - loss: 0.0211\n",
      "Epoch 37/50\n",
      "17/17 [==============================] - 1s 41ms/step - loss: 0.0173\n",
      "Epoch 38/50\n",
      "17/17 [==============================] - 1s 41ms/step - loss: 0.0170\n",
      "Epoch 39/50\n",
      "17/17 [==============================] - 1s 38ms/step - loss: 0.0178\n",
      "Epoch 40/50\n",
      "17/17 [==============================] - 1s 39ms/step - loss: 0.0205\n",
      "Epoch 41/50\n",
      "17/17 [==============================] - 1s 39ms/step - loss: 0.0153\n",
      "Epoch 42/50\n",
      "17/17 [==============================] - 1s 39ms/step - loss: 0.0154\n",
      "Epoch 43/50\n",
      "17/17 [==============================] - 1s 40ms/step - loss: 0.0144\n",
      "Epoch 44/50\n",
      "17/17 [==============================] - 1s 41ms/step - loss: 0.0138\n",
      "Epoch 45/50\n",
      "17/17 [==============================] - 1s 38ms/step - loss: 0.0163\n",
      "Epoch 46/50\n",
      "17/17 [==============================] - 1s 38ms/step - loss: 0.0154\n",
      "Epoch 47/50\n",
      "17/17 [==============================] - 1s 43ms/step - loss: 0.0134\n",
      "Epoch 48/50\n",
      "17/17 [==============================] - 1s 40ms/step - loss: 0.0141\n",
      "Epoch 49/50\n",
      "17/17 [==============================] - 1s 38ms/step - loss: 0.0123\n",
      "Epoch 50/50\n",
      "17/17 [==============================] - 1s 41ms/step - loss: 0.0113\n"
     ]
    },
    {
     "data": {
      "text/plain": [
       "<tensorflow.python.keras.callbacks.History at 0x20900c14fa0>"
      ]
     },
     "execution_count": 112,
     "metadata": {},
     "output_type": "execute_result"
    }
   ],
   "source": [
    "model=keras.models.Sequential([\n",
    "    keras.layers.LSTM(20,return_sequences=True,input_shape = [X_train.shape[1],X_train.shape[2]]),\n",
    "    keras.layers.Dropout(.3),\n",
    "    keras.layers.LSTM(40,return_sequences=True),\n",
    "    keras.layers.LSTM(20),\n",
    "    keras.layers.Dense(1)\n",
    "])\n",
    "model.compile(loss=\"MeanSquaredError\",optimizer = \"adam\")\n",
    "model.fit(x=X_train,y=Y_train,epochs=50)"
   ]
  },
  {
   "cell_type": "code",
   "execution_count": 113,
   "metadata": {},
   "outputs": [
    {
     "name": "stdout",
     "output_type": "stream",
     "text": [
      "Model: \"sequential_12\"\n",
      "_________________________________________________________________\n",
      "Layer (type)                 Output Shape              Param #   \n",
      "=================================================================\n",
      "lstm_7 (LSTM)                (None, 10, 20)            2160      \n",
      "_________________________________________________________________\n",
      "dropout_1 (Dropout)          (None, 10, 20)            0         \n",
      "_________________________________________________________________\n",
      "lstm_8 (LSTM)                (None, 10, 40)            9760      \n",
      "_________________________________________________________________\n",
      "lstm_9 (LSTM)                (None, 20)                4880      \n",
      "_________________________________________________________________\n",
      "dense_17 (Dense)             (None, 1)                 21        \n",
      "=================================================================\n",
      "Total params: 16,821\n",
      "Trainable params: 16,821\n",
      "Non-trainable params: 0\n",
      "_________________________________________________________________\n"
     ]
    }
   ],
   "source": [
    "model.summary()"
   ]
  },
  {
   "cell_type": "code",
   "execution_count": 114,
   "metadata": {},
   "outputs": [
    {
     "name": "stdout",
     "output_type": "stream",
     "text": [
      "6/6 [==============================] - 0s 22ms/step - loss: 0.0259\n"
     ]
    },
    {
     "data": {
      "text/plain": [
       "0.025903921574354172"
      ]
     },
     "execution_count": 114,
     "metadata": {},
     "output_type": "execute_result"
    }
   ],
   "source": [
    "model.evaluate(x=X_validate,y=Y_validate)"
   ]
  },
  {
   "cell_type": "code",
   "execution_count": 115,
   "metadata": {},
   "outputs": [
    {
     "data": {
      "text/plain": [
       "[<matplotlib.lines.Line2D at 0x20903cd0580>]"
      ]
     },
     "execution_count": 115,
     "metadata": {},
     "output_type": "execute_result"
    },
    {
     "data": {
      "image/png": "[encoded data removed]",
      "text/plain": [
       "<Figure size 720x432 with 1 Axes>"
      ]
     },
     "metadata": {
      "needs_background": "light"
     },
     "output_type": "display_data"
    }
   ],
   "source": [
    "plt.figure(figsize=(10,6))\n",
    "plt.plot(np.vstack((Y_train,model.predict(X_validate))),color=\"red\")\n",
    "plt.plot(np.vstack((Y_train,Y_validate)),color=\"blue\")"
   ]
  },
  {
   "cell_type": "markdown",
   "metadata": {},
   "source": [
    "## GRU Cells"
   ]
  },
  {
   "cell_type": "code",
   "execution_count": 146,
   "metadata": {},
   "outputs": [
    {
     "name": "stderr",
     "output_type": "stream",
     "text": [
      "C:\\Users\\cnaka\\anaconda3\\lib\\site-packages\\tensorflow\\python\\data\\ops\\dataset_ops.py:3349: UserWarning: Even though the tf.config.experimental_run_functions_eagerly option is set, this option does not apply to tf.data functions. tf.data functions are still traced and executed as graphs.\n",
      "  warnings.warn(\n"
     ]
    },
    {
     "name": "stdout",
     "output_type": "stream",
     "text": [
      "Epoch 1/100\n",
      "15/15 [==============================] - 9s 601ms/step - loss: 0.3128 - val_loss: 0.0345\n",
      "Epoch 2/100\n",
      "15/15 [==============================] - 11s 722ms/step - loss: 0.1599 - val_loss: 0.0110\n",
      "Epoch 3/100\n",
      "15/15 [==============================] - 13s 893ms/step - loss: 0.1438 - val_loss: 0.0186\n",
      "Epoch 4/100\n",
      "15/15 [==============================] - 11s 716ms/step - loss: 0.1430 - val_loss: 0.0086\n",
      "Epoch 5/100\n",
      "15/15 [==============================] - 13s 893ms/step - loss: 0.1322 - val_loss: 0.0096\n",
      "Epoch 6/100\n",
      "15/15 [==============================] - 11s 761ms/step - loss: 0.1396 - val_loss: 0.0104\n",
      "Epoch 7/100\n",
      "15/15 [==============================] - 10s 683ms/step - loss: 0.0978 - val_loss: 0.0179\n",
      "Epoch 8/100\n",
      "15/15 [==============================] - 9s 623ms/step - loss: 0.0968 - val_loss: 0.0092\n",
      "Epoch 9/100\n",
      "15/15 [==============================] - 9s 590ms/step - loss: 0.1063 - val_loss: 0.0106\n",
      "Epoch 10/100\n",
      "15/15 [==============================] - 11s 705ms/step - loss: 0.0991 - val_loss: 0.0087\n",
      "Epoch 11/100\n",
      "15/15 [==============================] - 9s 604ms/step - loss: 0.0809 - val_loss: 0.0144\n",
      "Epoch 12/100\n",
      "15/15 [==============================] - 9s 602ms/step - loss: 0.0968 - val_loss: 0.0060\n",
      "Epoch 13/100\n",
      "15/15 [==============================] - 9s 610ms/step - loss: 0.0985 - val_loss: 0.0136\n",
      "Epoch 14/100\n",
      "15/15 [==============================] - 10s 646ms/step - loss: 0.0958 - val_loss: 0.0184\n",
      "Epoch 15/100\n",
      "15/15 [==============================] - 8s 546ms/step - loss: 0.0811 - val_loss: 0.0111\n",
      "Epoch 16/100\n",
      "15/15 [==============================] - 10s 636ms/step - loss: 0.0997 - val_loss: 0.0081\n",
      "Epoch 17/100\n",
      "15/15 [==============================] - 10s 634ms/step - loss: 0.0767 - val_loss: 0.0048\n",
      "Epoch 18/100\n",
      "15/15 [==============================] - 9s 598ms/step - loss: 0.0746 - val_loss: 0.0045\n",
      "Epoch 19/100\n",
      "15/15 [==============================] - 9s 599ms/step - loss: 0.0805 - val_loss: 0.0159\n",
      "Epoch 20/100\n",
      "15/15 [==============================] - 9s 600ms/step - loss: 0.0766 - val_loss: 0.0309\n",
      "Epoch 21/100\n",
      "15/15 [==============================] - 9s 600ms/step - loss: 0.0959 - val_loss: 0.0245\n",
      "Epoch 22/100\n",
      "15/15 [==============================] - 9s 593ms/step - loss: 0.0899 - val_loss: 0.0041\n",
      "Epoch 23/100\n",
      "15/15 [==============================] - 9s 615ms/step - loss: 0.0960 - val_loss: 0.0112\n",
      "Epoch 24/100\n",
      "15/15 [==============================] - 9s 600ms/step - loss: 0.1235 - val_loss: 0.0122\n",
      "Epoch 25/100\n",
      "15/15 [==============================] - 9s 595ms/step - loss: 0.0990 - val_loss: 0.0044\n",
      "Epoch 26/100\n",
      "15/15 [==============================] - 9s 624ms/step - loss: 0.0758 - val_loss: 0.0222\n",
      "Epoch 27/100\n",
      "15/15 [==============================] - 10s 642ms/step - loss: 0.1057 - val_loss: 0.0108\n",
      "Epoch 28/100\n",
      "15/15 [==============================] - 9s 596ms/step - loss: 0.0867 - val_loss: 0.0043\n",
      "Epoch 29/100\n",
      "15/15 [==============================] - 9s 605ms/step - loss: 0.0854 - val_loss: 0.0043\n",
      "Epoch 30/100\n",
      "15/15 [==============================] - 9s 630ms/step - loss: 0.0839 - val_loss: 0.0093\n",
      "Epoch 31/100\n",
      "15/15 [==============================] - 9s 604ms/step - loss: 0.0888 - val_loss: 0.0091\n",
      "Epoch 32/100\n",
      "15/15 [==============================] - 10s 637ms/step - loss: 0.0880 - val_loss: 0.0072\n",
      "Epoch 33/100\n",
      "15/15 [==============================] - 10s 691ms/step - loss: 0.0790 - val_loss: 0.0071\n",
      "Epoch 34/100\n",
      "15/15 [==============================] - 9s 631ms/step - loss: 0.0814 - val_loss: 0.0061\n",
      "Epoch 35/100\n",
      "15/15 [==============================] - 9s 598ms/step - loss: 0.0872 - val_loss: 0.0135\n",
      "Epoch 36/100\n",
      "15/15 [==============================] - 9s 602ms/step - loss: 0.0887 - val_loss: 0.0139\n",
      "Epoch 37/100\n",
      "15/15 [==============================] - 9s 582ms/step - loss: 0.0692 - val_loss: 0.0052\n",
      "Epoch 38/100\n",
      "15/15 [==============================] - 9s 590ms/step - loss: 0.1070 - val_loss: 0.0063\n",
      "Epoch 39/100\n",
      "15/15 [==============================] - 9s 596ms/step - loss: 0.0761 - val_loss: 0.0080\n",
      "Epoch 40/100\n",
      "15/15 [==============================] - 9s 597ms/step - loss: 0.1001 - val_loss: 0.0221\n",
      "Epoch 41/100\n",
      "15/15 [==============================] - 9s 584ms/step - loss: 0.0860 - val_loss: 0.0046\n",
      "Epoch 42/100\n",
      "15/15 [==============================] - 9s 594ms/step - loss: 0.0963 - val_loss: 0.0045\n",
      "Epoch 43/100\n",
      "15/15 [==============================] - 9s 580ms/step - loss: 0.1044 - val_loss: 0.0037\n",
      "Epoch 44/100\n",
      "15/15 [==============================] - 9s 623ms/step - loss: 0.1004 - val_loss: 0.0069\n",
      "Epoch 45/100\n",
      "15/15 [==============================] - 10s 643ms/step - loss: 0.0913 - val_loss: 0.0034\n",
      "Epoch 46/100\n",
      "15/15 [==============================] - 8s 537ms/step - loss: 0.0838 - val_loss: 0.0086\n",
      "Epoch 47/100\n",
      "15/15 [==============================] - 8s 548ms/step - loss: 0.0692 - val_loss: 0.0106\n",
      "Epoch 48/100\n",
      "15/15 [==============================] - 8s 561ms/step - loss: 0.0752 - val_loss: 0.0034\n",
      "Epoch 49/100\n",
      "15/15 [==============================] - 8s 529ms/step - loss: 0.0624 - val_loss: 0.0034\n",
      "Epoch 50/100\n",
      "15/15 [==============================] - 8s 548ms/step - loss: 0.0946 - val_loss: 0.0119\n",
      "Epoch 51/100\n",
      "15/15 [==============================] - 8s 548ms/step - loss: 0.0883 - val_loss: 0.0184\n",
      "Epoch 52/100\n",
      "15/15 [==============================] - 8s 551ms/step - loss: 0.0799 - val_loss: 0.0209\n",
      "Epoch 53/100\n",
      "15/15 [==============================] - 8s 554ms/step - loss: 0.0829 - val_loss: 0.0042\n",
      "Epoch 54/100\n",
      "15/15 [==============================] - 8s 543ms/step - loss: 0.0817 - val_loss: 0.0044\n",
      "Epoch 55/100\n",
      "15/15 [==============================] - 8s 531ms/step - loss: 0.0649 - val_loss: 0.0036\n",
      "Epoch 56/100\n",
      "15/15 [==============================] - 8s 544ms/step - loss: 0.0685 - val_loss: 0.0114\n",
      "Epoch 57/100\n",
      "15/15 [==============================] - 8s 552ms/step - loss: 0.0700 - val_loss: 0.0034\n",
      "Epoch 58/100\n",
      "15/15 [==============================] - 8s 555ms/step - loss: 0.0785 - val_loss: 0.0047\n",
      "Epoch 59/100\n",
      "15/15 [==============================] - 8s 555ms/step - loss: 0.0706 - val_loss: 0.0082\n",
      "Epoch 60/100\n",
      "15/15 [==============================] - 10s 680ms/step - loss: 0.0709 - val_loss: 0.0085\n",
      "Epoch 61/100\n",
      "15/15 [==============================] - 12s 793ms/step - loss: 0.0863 - val_loss: 0.0049\n",
      "Epoch 62/100\n",
      "15/15 [==============================] - 9s 594ms/step - loss: 0.0785 - val_loss: 0.0201\n",
      "Epoch 63/100\n",
      "15/15 [==============================] - 9s 575ms/step - loss: 0.0698 - val_loss: 0.0293\n",
      "Epoch 64/100\n",
      "15/15 [==============================] - 9s 593ms/step - loss: 0.0724 - val_loss: 0.0071\n",
      "Epoch 65/100\n",
      "15/15 [==============================] - 9s 607ms/step - loss: 0.0864 - val_loss: 0.0169\n",
      "Epoch 66/100\n",
      "15/15 [==============================] - 9s 590ms/step - loss: 0.0744 - val_loss: 0.0147\n",
      "Epoch 67/100\n",
      "15/15 [==============================] - 9s 583ms/step - loss: 0.0870 - val_loss: 0.0043\n",
      "Epoch 68/100\n",
      "15/15 [==============================] - 9s 595ms/step - loss: 0.0705 - val_loss: 0.0037\n",
      "Epoch 69/100\n",
      "15/15 [==============================] - 9s 604ms/step - loss: 0.0713 - val_loss: 0.0035\n",
      "Epoch 70/100\n",
      "15/15 [==============================] - 9s 595ms/step - loss: 0.0738 - val_loss: 0.0041\n",
      "Epoch 71/100\n",
      "15/15 [==============================] - 9s 595ms/step - loss: 0.0742 - val_loss: 0.0047\n",
      "Epoch 72/100\n",
      "15/15 [==============================] - 9s 586ms/step - loss: 0.0782 - val_loss: 0.0043\n",
      "Epoch 73/100\n",
      "15/15 [==============================] - 9s 606ms/step - loss: 0.0772 - val_loss: 0.0093\n",
      "Epoch 74/100\n",
      "15/15 [==============================] - 9s 596ms/step - loss: 0.0787 - val_loss: 0.0177\n",
      "Epoch 75/100\n",
      "15/15 [==============================] - 9s 607ms/step - loss: 0.0965 - val_loss: 0.0038\n",
      "Epoch 76/100\n",
      "15/15 [==============================] - 9s 568ms/step - loss: 0.0809 - val_loss: 0.0033\n",
      "Epoch 77/100\n",
      "15/15 [==============================] - 9s 612ms/step - loss: 0.0745 - val_loss: 0.0038\n",
      "Epoch 78/100\n",
      "15/15 [==============================] - 9s 590ms/step - loss: 0.0759 - val_loss: 0.0052\n",
      "Epoch 79/100\n",
      "15/15 [==============================] - 9s 592ms/step - loss: 0.0701 - val_loss: 0.0044\n",
      "Epoch 80/100\n",
      "15/15 [==============================] - 9s 597ms/step - loss: 0.0705 - val_loss: 0.0090\n",
      "Epoch 81/100\n"
     ]
    },
    {
     "name": "stdout",
     "output_type": "stream",
     "text": [
      "15/15 [==============================] - 9s 579ms/step - loss: 0.0778 - val_loss: 0.0111\n",
      "Epoch 82/100\n",
      "15/15 [==============================] - 9s 599ms/step - loss: 0.0819 - val_loss: 0.0125\n",
      "Epoch 83/100\n",
      "15/15 [==============================] - 9s 623ms/step - loss: 0.0830 - val_loss: 0.0107\n",
      "Epoch 84/100\n",
      "15/15 [==============================] - 9s 614ms/step - loss: 0.0821 - val_loss: 0.0096\n",
      "Epoch 85/100\n",
      "15/15 [==============================] - 9s 580ms/step - loss: 0.0743 - val_loss: 0.0034\n",
      "Epoch 86/100\n",
      "15/15 [==============================] - 9s 612ms/step - loss: 0.0720 - val_loss: 0.0036\n",
      "Epoch 87/100\n",
      "15/15 [==============================] - 9s 627ms/step - loss: 0.0826 - val_loss: 0.0065\n",
      "Epoch 88/100\n",
      "15/15 [==============================] - 10s 642ms/step - loss: 0.0669 - val_loss: 0.0072\n",
      "Epoch 89/100\n",
      "15/15 [==============================] - 9s 583ms/step - loss: 0.0685 - val_loss: 0.0211\n",
      "Epoch 90/100\n",
      "15/15 [==============================] - 9s 614ms/step - loss: 0.0660 - val_loss: 0.0064\n",
      "Epoch 91/100\n",
      "15/15 [==============================] - 9s 592ms/step - loss: 0.0698 - val_loss: 0.0037\n",
      "Epoch 92/100\n",
      "15/15 [==============================] - 9s 592ms/step - loss: 0.0571 - val_loss: 0.0033\n",
      "Epoch 93/100\n",
      "15/15 [==============================] - 9s 604ms/step - loss: 0.0804 - val_loss: 0.0045\n",
      "Epoch 94/100\n",
      "15/15 [==============================] - 8s 537ms/step - loss: 0.0707 - val_loss: 0.0044\n",
      "Epoch 95/100\n",
      "15/15 [==============================] - 9s 612ms/step - loss: 0.0833 - val_loss: 0.0084\n",
      "Epoch 96/100\n",
      "15/15 [==============================] - 9s 616ms/step - loss: 0.0769 - val_loss: 0.0033\n",
      "Epoch 97/100\n",
      "15/15 [==============================] - 9s 603ms/step - loss: 0.0646 - val_loss: 0.0044\n",
      "Epoch 98/100\n",
      "15/15 [==============================] - 9s 599ms/step - loss: 0.0670 - val_loss: 0.0178\n",
      "Epoch 99/100\n",
      "15/15 [==============================] - 9s 609ms/step - loss: 0.0693 - val_loss: 0.0142\n",
      "Epoch 100/100\n",
      "15/15 [==============================] - 9s 604ms/step - loss: 0.0840 - val_loss: 0.0277\n"
     ]
    },
    {
     "data": {
      "text/plain": [
       "<tensorflow.python.keras.callbacks.History at 0x2090f1ed340>"
      ]
     },
     "execution_count": 146,
     "metadata": {},
     "output_type": "execute_result"
    }
   ],
   "source": [
    "\n",
    "callback = tf.keras.callbacks.EarlyStopping(monitor='val_loss', patience=7)\n",
    "model = keras.models.Sequential([\n",
    "    keras.layers.Conv1D(filters=50,kernel_size=5,strides=2,padding=\"valid\",input_shape = [X_train.shape[1],X_train.shape[2]]),\n",
    "    keras.layers.GRU(250,return_sequences=True,recurrent_dropout=.1),\n",
    "    keras.layers.GRU(130,recurrent_dropout=.1,return_sequences=True),\n",
    "    keras.layers.GRU(20,recurrent_dropout=.1),\n",
    "    keras.layers.Dense(10),\n",
    "    keras.layers.Dropout(.3),\n",
    "    keras.layers.Dense(1)\n",
    "])\n",
    "opt = keras.optimizers.Adam(learning_rate=.001)\n",
    "model.compile(optimizer=opt,loss=\"mse\")\n",
    "model.fit(X_train,Y_train,epochs=100,validation_data=(X_validate,Y_validate),batch_size=32,#,callbacks=[callback]\n",
    "         )"
   ]
  },
  {
   "cell_type": "code",
   "execution_count": 147,
   "metadata": {},
   "outputs": [
    {
     "name": "stdout",
     "output_type": "stream",
     "text": [
      "4/4 [==============================] - 1s 140ms/step - loss: 0.0120\n"
     ]
    },
    {
     "data": {
      "text/plain": [
       "0.012030767276883125"
      ]
     },
     "execution_count": 147,
     "metadata": {},
     "output_type": "execute_result"
    }
   ],
   "source": [
    "model.evaluate(X_test,Y_test)"
   ]
  },
  {
   "cell_type": "code",
   "execution_count": 148,
   "metadata": {},
   "outputs": [
    {
     "data": {
      "text/plain": [
       "<matplotlib.legend.Legend at 0x20908fc9850>"
      ]
     },
     "execution_count": 148,
     "metadata": {},
     "output_type": "execute_result"
    },
    {
     "data": {
      "image/png": "[encoded data removed]",
      "text/plain": [
       "<Figure size 720x432 with 1 Axes>"
      ]
     },
     "metadata": {
      "needs_background": "light"
     },
     "output_type": "display_data"
    }
   ],
   "source": [
    "plt.figure(figsize=(10,6))\n",
    "plt.plot(np.vstack((np.sqrt(scaler.var_[0])*model.predict(X_validate)+scaler.mean_[0],np.sqrt(scaler.var_[0])*model.predict(X_test)+scaler.mean_[0])),color=\"red\",label=\"Fcst\")\n",
    "plt.plot(np.vstack((np.sqrt(scaler.var_[0])*Y_validate+scaler.mean_[0],np.sqrt(scaler.var_[0])*Y_test+scaler.mean_[0])),color=\"blue\",label=\"Actuals\")\n",
    "plt.title(\"Ethereum Prediction - GRU RNN w 1DConv Layer\")\n",
    "plt.legend()"
   ]
  },
  {
   "cell_type": "code",
   "execution_count": 149,
   "metadata": {},
   "outputs": [
    {
     "name": "stderr",
     "output_type": "stream",
     "text": [
      "C:\\Users\\cnaka\\anaconda3\\lib\\site-packages\\tensorflow\\python\\data\\ops\\dataset_ops.py:3349: UserWarning: Even though the tf.config.experimental_run_functions_eagerly option is set, this option does not apply to tf.data functions. tf.data functions are still traced and executed as graphs.\n",
      "  warnings.warn(\n"
     ]
    },
    {
     "data": {
      "text/html": [
       "<div>\n",
       "<style scoped>\n",
       "    .dataframe tbody tr th:only-of-type {\n",
       "        vertical-align: middle;\n",
       "    }\n",
       "\n",
       "    .dataframe tbody tr th {\n",
       "        vertical-align: top;\n",
       "    }\n",
       "\n",
       "    .dataframe thead th {\n",
       "        text-align: right;\n",
       "    }\n",
       "</style>\n",
       "<table border=\"1\" class=\"dataframe\">\n",
       "  <thead>\n",
       "    <tr style=\"text-align: right;\">\n",
       "      <th></th>\n",
       "      <th>Forecast</th>\n",
       "      <th>Actual</th>\n",
       "    </tr>\n",
       "  </thead>\n",
       "  <tbody>\n",
       "    <tr>\n",
       "      <th>0</th>\n",
       "      <td>243.969116</td>\n",
       "      <td>199.883606</td>\n",
       "    </tr>\n",
       "    <tr>\n",
       "      <th>1</th>\n",
       "      <td>242.680603</td>\n",
       "      <td>207.169189</td>\n",
       "    </tr>\n",
       "    <tr>\n",
       "      <th>2</th>\n",
       "      <td>236.076920</td>\n",
       "      <td>201.902313</td>\n",
       "    </tr>\n",
       "    <tr>\n",
       "      <th>3</th>\n",
       "      <td>238.414139</td>\n",
       "      <td>208.863434</td>\n",
       "    </tr>\n",
       "    <tr>\n",
       "      <th>4</th>\n",
       "      <td>236.105286</td>\n",
       "      <td>219.840439</td>\n",
       "    </tr>\n",
       "    <tr>\n",
       "      <th>...</th>\n",
       "      <td>...</td>\n",
       "      <td>...</td>\n",
       "    </tr>\n",
       "    <tr>\n",
       "      <th>119</th>\n",
       "      <td>408.647400</td>\n",
       "      <td>444.163055</td>\n",
       "    </tr>\n",
       "    <tr>\n",
       "      <th>120</th>\n",
       "      <td>450.516357</td>\n",
       "      <td>449.679626</td>\n",
       "    </tr>\n",
       "    <tr>\n",
       "      <th>121</th>\n",
       "      <td>445.740234</td>\n",
       "      <td>462.960541</td>\n",
       "    </tr>\n",
       "    <tr>\n",
       "      <th>122</th>\n",
       "      <td>449.891174</td>\n",
       "      <td>461.005280</td>\n",
       "    </tr>\n",
       "    <tr>\n",
       "      <th>123</th>\n",
       "      <td>456.182678</td>\n",
       "      <td>474.626434</td>\n",
       "    </tr>\n",
       "  </tbody>\n",
       "</table>\n",
       "<p>124 rows × 2 columns</p>\n",
       "</div>"
      ],
      "text/plain": [
       "       Forecast      Actual\n",
       "0    243.969116  199.883606\n",
       "1    242.680603  207.169189\n",
       "2    236.076920  201.902313\n",
       "3    238.414139  208.863434\n",
       "4    236.105286  219.840439\n",
       "..          ...         ...\n",
       "119  408.647400  444.163055\n",
       "120  450.516357  449.679626\n",
       "121  445.740234  462.960541\n",
       "122  449.891174  461.005280\n",
       "123  456.182678  474.626434\n",
       "\n",
       "[124 rows x 2 columns]"
      ]
     },
     "execution_count": 149,
     "metadata": {},
     "output_type": "execute_result"
    }
   ],
   "source": [
    "df=pd.DataFrame()\n",
    "df[\"Forecast\"]=(np.sqrt(scaler.var_[0])*model.predict(X_test).T+scaler.mean_[0]).flatten()\n",
    "df[\"Actual\"]=(np.sqrt(scaler.var_[0])*Y_test.T+scaler.mean_[0]).flatten()\n",
    "df"
   ]
  },
  {
   "cell_type": "code",
   "execution_count": 150,
   "metadata": {},
   "outputs": [
    {
     "ename": "ValueError",
     "evalue": "Length of values does not match length of index",
     "output_type": "error",
     "traceback": [
      "\u001b[1;31m---------------------------------------------------------------------------\u001b[0m",
      "\u001b[1;31mValueError\u001b[0m                                Traceback (most recent call last)",
      "\u001b[1;32m<ipython-input-150-5f12c15509ec>\u001b[0m in \u001b[0;36m<module>\u001b[1;34m\u001b[0m\n\u001b[1;32m----> 1\u001b[1;33m \u001b[0mdf\u001b[0m\u001b[1;33m[\u001b[0m\u001b[1;34m\"Predicted Move\"\u001b[0m\u001b[1;33m]\u001b[0m\u001b[1;33m=\u001b[0m\u001b[0mnp\u001b[0m\u001b[1;33m.\u001b[0m\u001b[0mzeros\u001b[0m\u001b[1;33m(\u001b[0m\u001b[1;36m164\u001b[0m\u001b[1;33m)\u001b[0m\u001b[1;33m\u001b[0m\u001b[1;33m\u001b[0m\u001b[0m\n\u001b[0m\u001b[0;32m      2\u001b[0m \u001b[0mdf\u001b[0m\u001b[1;33m[\u001b[0m\u001b[1;34m\"Correct Sign\"\u001b[0m\u001b[1;33m]\u001b[0m\u001b[1;33m=\u001b[0m\u001b[0mnp\u001b[0m\u001b[1;33m.\u001b[0m\u001b[0mzeros\u001b[0m\u001b[1;33m(\u001b[0m\u001b[1;36m164\u001b[0m\u001b[1;33m)\u001b[0m\u001b[1;33m\u001b[0m\u001b[1;33m\u001b[0m\u001b[0m\n\u001b[0;32m      3\u001b[0m \u001b[1;32mfor\u001b[0m \u001b[0mi\u001b[0m \u001b[1;32min\u001b[0m \u001b[0mrange\u001b[0m\u001b[1;33m(\u001b[0m\u001b[1;36m1\u001b[0m\u001b[1;33m,\u001b[0m\u001b[0mlen\u001b[0m\u001b[1;33m(\u001b[0m\u001b[0mdf\u001b[0m\u001b[1;33m[\u001b[0m\u001b[1;34m\"Forecast\"\u001b[0m\u001b[1;33m]\u001b[0m\u001b[1;33m)\u001b[0m\u001b[1;33m)\u001b[0m\u001b[1;33m:\u001b[0m\u001b[1;33m\u001b[0m\u001b[1;33m\u001b[0m\u001b[0m\n\u001b[0;32m      4\u001b[0m     \u001b[0mdf\u001b[0m\u001b[1;33m.\u001b[0m\u001b[0miloc\u001b[0m\u001b[1;33m[\u001b[0m\u001b[0mi\u001b[0m\u001b[1;33m,\u001b[0m\u001b[1;36m2\u001b[0m\u001b[1;33m]\u001b[0m\u001b[1;33m=\u001b[0m\u001b[1;33m(\u001b[0m\u001b[0mnp\u001b[0m\u001b[1;33m.\u001b[0m\u001b[0msign\u001b[0m\u001b[1;33m(\u001b[0m\u001b[0mdf\u001b[0m\u001b[1;33m[\u001b[0m\u001b[1;34m\"Forecast\"\u001b[0m\u001b[1;33m]\u001b[0m\u001b[1;33m[\u001b[0m\u001b[0mi\u001b[0m\u001b[1;33m]\u001b[0m\u001b[1;33m-\u001b[0m\u001b[0mdf\u001b[0m\u001b[1;33m[\u001b[0m\u001b[1;34m\"Actual\"\u001b[0m\u001b[1;33m]\u001b[0m\u001b[1;33m[\u001b[0m\u001b[0mi\u001b[0m\u001b[1;33m-\u001b[0m\u001b[1;36m1\u001b[0m\u001b[1;33m]\u001b[0m\u001b[1;33m)\u001b[0m\u001b[1;33m==\u001b[0m\u001b[1;36m1\u001b[0m\u001b[1;33m)\u001b[0m\u001b[1;33m\u001b[0m\u001b[1;33m\u001b[0m\u001b[0m\n\u001b[0;32m      5\u001b[0m     \u001b[1;32mif\u001b[0m \u001b[0mnp\u001b[0m\u001b[1;33m.\u001b[0m\u001b[0msign\u001b[0m\u001b[1;33m(\u001b[0m\u001b[0mdf\u001b[0m\u001b[1;33m[\u001b[0m\u001b[1;34m\"Forecast\"\u001b[0m\u001b[1;33m]\u001b[0m\u001b[1;33m[\u001b[0m\u001b[0mi\u001b[0m\u001b[1;33m]\u001b[0m\u001b[1;33m-\u001b[0m\u001b[0mdf\u001b[0m\u001b[1;33m[\u001b[0m\u001b[1;34m\"Actual\"\u001b[0m\u001b[1;33m]\u001b[0m\u001b[1;33m[\u001b[0m\u001b[0mi\u001b[0m\u001b[1;33m-\u001b[0m\u001b[1;36m1\u001b[0m\u001b[1;33m]\u001b[0m\u001b[1;33m)\u001b[0m\u001b[1;33m==\u001b[0m\u001b[0mnp\u001b[0m\u001b[1;33m.\u001b[0m\u001b[0msign\u001b[0m\u001b[1;33m(\u001b[0m\u001b[0mdf\u001b[0m\u001b[1;33m[\u001b[0m\u001b[1;34m\"Actual\"\u001b[0m\u001b[1;33m]\u001b[0m\u001b[1;33m[\u001b[0m\u001b[0mi\u001b[0m\u001b[1;33m]\u001b[0m\u001b[1;33m-\u001b[0m\u001b[0mdf\u001b[0m\u001b[1;33m[\u001b[0m\u001b[1;34m\"Actual\"\u001b[0m\u001b[1;33m]\u001b[0m\u001b[1;33m[\u001b[0m\u001b[0mi\u001b[0m\u001b[1;33m-\u001b[0m\u001b[1;36m1\u001b[0m\u001b[1;33m]\u001b[0m\u001b[1;33m)\u001b[0m\u001b[1;33m:\u001b[0m\u001b[1;33m\u001b[0m\u001b[1;33m\u001b[0m\u001b[0m\n",
      "\u001b[1;32m~\\anaconda3\\lib\\site-packages\\pandas\\core\\frame.py\u001b[0m in \u001b[0;36m__setitem__\u001b[1;34m(self, key, value)\u001b[0m\n\u001b[0;32m   2936\u001b[0m         \u001b[1;32melse\u001b[0m\u001b[1;33m:\u001b[0m\u001b[1;33m\u001b[0m\u001b[1;33m\u001b[0m\u001b[0m\n\u001b[0;32m   2937\u001b[0m             \u001b[1;31m# set column\u001b[0m\u001b[1;33m\u001b[0m\u001b[1;33m\u001b[0m\u001b[1;33m\u001b[0m\u001b[0m\n\u001b[1;32m-> 2938\u001b[1;33m             \u001b[0mself\u001b[0m\u001b[1;33m.\u001b[0m\u001b[0m_set_item\u001b[0m\u001b[1;33m(\u001b[0m\u001b[0mkey\u001b[0m\u001b[1;33m,\u001b[0m \u001b[0mvalue\u001b[0m\u001b[1;33m)\u001b[0m\u001b[1;33m\u001b[0m\u001b[1;33m\u001b[0m\u001b[0m\n\u001b[0m\u001b[0;32m   2939\u001b[0m \u001b[1;33m\u001b[0m\u001b[0m\n\u001b[0;32m   2940\u001b[0m     \u001b[1;32mdef\u001b[0m \u001b[0m_setitem_slice\u001b[0m\u001b[1;33m(\u001b[0m\u001b[0mself\u001b[0m\u001b[1;33m,\u001b[0m \u001b[0mkey\u001b[0m\u001b[1;33m,\u001b[0m \u001b[0mvalue\u001b[0m\u001b[1;33m)\u001b[0m\u001b[1;33m:\u001b[0m\u001b[1;33m\u001b[0m\u001b[1;33m\u001b[0m\u001b[0m\n",
      "\u001b[1;32m~\\anaconda3\\lib\\site-packages\\pandas\\core\\frame.py\u001b[0m in \u001b[0;36m_set_item\u001b[1;34m(self, key, value)\u001b[0m\n\u001b[0;32m   2998\u001b[0m \u001b[1;33m\u001b[0m\u001b[0m\n\u001b[0;32m   2999\u001b[0m         \u001b[0mself\u001b[0m\u001b[1;33m.\u001b[0m\u001b[0m_ensure_valid_index\u001b[0m\u001b[1;33m(\u001b[0m\u001b[0mvalue\u001b[0m\u001b[1;33m)\u001b[0m\u001b[1;33m\u001b[0m\u001b[1;33m\u001b[0m\u001b[0m\n\u001b[1;32m-> 3000\u001b[1;33m         \u001b[0mvalue\u001b[0m \u001b[1;33m=\u001b[0m \u001b[0mself\u001b[0m\u001b[1;33m.\u001b[0m\u001b[0m_sanitize_column\u001b[0m\u001b[1;33m(\u001b[0m\u001b[0mkey\u001b[0m\u001b[1;33m,\u001b[0m \u001b[0mvalue\u001b[0m\u001b[1;33m)\u001b[0m\u001b[1;33m\u001b[0m\u001b[1;33m\u001b[0m\u001b[0m\n\u001b[0m\u001b[0;32m   3001\u001b[0m         \u001b[0mNDFrame\u001b[0m\u001b[1;33m.\u001b[0m\u001b[0m_set_item\u001b[0m\u001b[1;33m(\u001b[0m\u001b[0mself\u001b[0m\u001b[1;33m,\u001b[0m \u001b[0mkey\u001b[0m\u001b[1;33m,\u001b[0m \u001b[0mvalue\u001b[0m\u001b[1;33m)\u001b[0m\u001b[1;33m\u001b[0m\u001b[1;33m\u001b[0m\u001b[0m\n\u001b[0;32m   3002\u001b[0m \u001b[1;33m\u001b[0m\u001b[0m\n",
      "\u001b[1;32m~\\anaconda3\\lib\\site-packages\\pandas\\core\\frame.py\u001b[0m in \u001b[0;36m_sanitize_column\u001b[1;34m(self, key, value, broadcast)\u001b[0m\n\u001b[0;32m   3634\u001b[0m \u001b[1;33m\u001b[0m\u001b[0m\n\u001b[0;32m   3635\u001b[0m             \u001b[1;31m# turn me into an ndarray\u001b[0m\u001b[1;33m\u001b[0m\u001b[1;33m\u001b[0m\u001b[1;33m\u001b[0m\u001b[0m\n\u001b[1;32m-> 3636\u001b[1;33m             \u001b[0mvalue\u001b[0m \u001b[1;33m=\u001b[0m \u001b[0msanitize_index\u001b[0m\u001b[1;33m(\u001b[0m\u001b[0mvalue\u001b[0m\u001b[1;33m,\u001b[0m \u001b[0mself\u001b[0m\u001b[1;33m.\u001b[0m\u001b[0mindex\u001b[0m\u001b[1;33m,\u001b[0m \u001b[0mcopy\u001b[0m\u001b[1;33m=\u001b[0m\u001b[1;32mFalse\u001b[0m\u001b[1;33m)\u001b[0m\u001b[1;33m\u001b[0m\u001b[1;33m\u001b[0m\u001b[0m\n\u001b[0m\u001b[0;32m   3637\u001b[0m             \u001b[1;32mif\u001b[0m \u001b[1;32mnot\u001b[0m \u001b[0misinstance\u001b[0m\u001b[1;33m(\u001b[0m\u001b[0mvalue\u001b[0m\u001b[1;33m,\u001b[0m \u001b[1;33m(\u001b[0m\u001b[0mnp\u001b[0m\u001b[1;33m.\u001b[0m\u001b[0mndarray\u001b[0m\u001b[1;33m,\u001b[0m \u001b[0mIndex\u001b[0m\u001b[1;33m)\u001b[0m\u001b[1;33m)\u001b[0m\u001b[1;33m:\u001b[0m\u001b[1;33m\u001b[0m\u001b[1;33m\u001b[0m\u001b[0m\n\u001b[0;32m   3638\u001b[0m                 \u001b[1;32mif\u001b[0m \u001b[0misinstance\u001b[0m\u001b[1;33m(\u001b[0m\u001b[0mvalue\u001b[0m\u001b[1;33m,\u001b[0m \u001b[0mlist\u001b[0m\u001b[1;33m)\u001b[0m \u001b[1;32mand\u001b[0m \u001b[0mlen\u001b[0m\u001b[1;33m(\u001b[0m\u001b[0mvalue\u001b[0m\u001b[1;33m)\u001b[0m \u001b[1;33m>\u001b[0m \u001b[1;36m0\u001b[0m\u001b[1;33m:\u001b[0m\u001b[1;33m\u001b[0m\u001b[1;33m\u001b[0m\u001b[0m\n",
      "\u001b[1;32m~\\anaconda3\\lib\\site-packages\\pandas\\core\\internals\\construction.py\u001b[0m in \u001b[0;36msanitize_index\u001b[1;34m(data, index, copy)\u001b[0m\n\u001b[0;32m    609\u001b[0m \u001b[1;33m\u001b[0m\u001b[0m\n\u001b[0;32m    610\u001b[0m     \u001b[1;32mif\u001b[0m \u001b[0mlen\u001b[0m\u001b[1;33m(\u001b[0m\u001b[0mdata\u001b[0m\u001b[1;33m)\u001b[0m \u001b[1;33m!=\u001b[0m \u001b[0mlen\u001b[0m\u001b[1;33m(\u001b[0m\u001b[0mindex\u001b[0m\u001b[1;33m)\u001b[0m\u001b[1;33m:\u001b[0m\u001b[1;33m\u001b[0m\u001b[1;33m\u001b[0m\u001b[0m\n\u001b[1;32m--> 611\u001b[1;33m         \u001b[1;32mraise\u001b[0m \u001b[0mValueError\u001b[0m\u001b[1;33m(\u001b[0m\u001b[1;34m\"Length of values does not match length of index\"\u001b[0m\u001b[1;33m)\u001b[0m\u001b[1;33m\u001b[0m\u001b[1;33m\u001b[0m\u001b[0m\n\u001b[0m\u001b[0;32m    612\u001b[0m \u001b[1;33m\u001b[0m\u001b[0m\n\u001b[0;32m    613\u001b[0m     \u001b[1;32mif\u001b[0m \u001b[0misinstance\u001b[0m\u001b[1;33m(\u001b[0m\u001b[0mdata\u001b[0m\u001b[1;33m,\u001b[0m \u001b[0mABCIndexClass\u001b[0m\u001b[1;33m)\u001b[0m \u001b[1;32mand\u001b[0m \u001b[1;32mnot\u001b[0m \u001b[0mcopy\u001b[0m\u001b[1;33m:\u001b[0m\u001b[1;33m\u001b[0m\u001b[1;33m\u001b[0m\u001b[0m\n",
      "\u001b[1;31mValueError\u001b[0m: Length of values does not match length of index"
     ]
    }
   ],
   "source": [
    "df[\"Predicted Move\"]=np.zeros(164)\n",
    "df[\"Correct Sign\"]=np.zeros(164)\n",
    "for i in range(1,len(df[\"Forecast\"])):\n",
    "    df.iloc[i,2]=(np.sign(df[\"Forecast\"][i]-df[\"Actual\"][i-1])==1)\n",
    "    if np.sign(df[\"Forecast\"][i]-df[\"Actual\"][i-1])==np.sign(df[\"Actual\"][i]-df[\"Actual\"][i-1]):\n",
    "        df.iloc[i,3]=1\n",
    "with pd.option_context('display.max_rows', None, 'display.max_columns', None):  # more options can be specified also\n",
    "    print(df)\n"
   ]
  },
  {
   "cell_type": "code",
   "execution_count": null,
   "metadata": {},
   "outputs": [],
   "source": [
    "sum(df[\"Correct Sign\"])/len(df[\"Correct Sign\"])"
   ]
  },
  {
   "cell_type": "markdown",
   "metadata": {},
   "source": [
    "## Custom Loss Function"
   ]
  },
  {
   "cell_type": "code",
   "execution_count": 40,
   "metadata": {},
   "outputs": [],
   "source": [
    "def sign_loss_wrapper(alpha):\n",
    "    def sign_loss(y_true, y_pred):\n",
    "        #extract the \"next day's price\" of tensor\n",
    "        y_true_next = y_true[1:]\n",
    "        y_pred_next = y_pred[1:]\n",
    "        #extract the \"today's price\" of tensor\n",
    "        y_true_tdy = y_true[:-1]\n",
    "        y_pred_tdy = y_pred[:-1]\n",
    "        #substract to get up/down movement of the two tensors\n",
    "        y_true_diff = tf.reshape(tf.subtract(y_true_next, y_true_tdy),[-1])\n",
    "        y_pred_diff = tf.reshape(tf.subtract(y_pred_next, y_true_tdy),[-1])\n",
    "        #create a standard tensor with zero value for comparison\n",
    "        standard = tf.zeros_like(y_pred_diff)\n",
    "        #compare with the standard; if true, UP; else DOWN\n",
    "        y_true_move = tf.greater_equal(y_true_diff, standard)\n",
    "        y_pred_move = tf.greater_equal(y_pred_diff, standard)\n",
    "        #find indices where the directions are not the same\n",
    "        condition = tf.not_equal(y_true_move, y_pred_move)\n",
    "        indices =tf.where(condition)\n",
    "        ones = tf.ones_like(indices)\n",
    "        indices = tf.add(indices, ones)\n",
    "        direction_loss = tf.Variable(tf.ones_like(y_pred), dtype='float32')\n",
    "        updates = keras.backend.cast(tf.ones_like(indices),dtype='float32')\n",
    "        direction_loss = tf.tensor_scatter_nd_update(direction_loss, indices, alpha*updates)\n",
    "        return keras.backend.mean(tf.multiply(keras.backend.square(y_true - y_pred), direction_loss), axis=-1)\n",
    "    return sign_loss"
   ]
  },
  {
   "cell_type": "code",
   "execution_count": 65,
   "metadata": {},
   "outputs": [],
   "source": [
    "def sign_loss_diffed(alpha):\n",
    "    def internal(y_true,y_pred):\n",
    "        standard = tf.zeros_like(y_pred)\n",
    "        y_true_move = tf.reshape(tf.greater_equal(y_true, standard),[-1])\n",
    "        y_pred_move = tf.reshape(tf.greater_equal(y_pred, standard),[-1])\n",
    "        condition = tf.not_equal(y_true_move, y_pred_move)\n",
    "        indices =tf.where(condition)\n",
    "        direction_loss = tf.Variable(tf.ones_like(y_pred), dtype='float32')\n",
    "        updates = keras.backend.cast(tf.ones_like(indices),dtype='float32')\n",
    "        direction_loss = tf.tensor_scatter_nd_update(direction_loss, indices, alpha*updates)\n",
    "        return keras.backend.mean(tf.multiply(keras.backend.square(y_true - y_pred), direction_loss), axis=-1)\n",
    "    return internal"
   ]
  },
  {
   "cell_type": "code",
   "execution_count": 41,
   "metadata": {},
   "outputs": [
    {
     "name": "stdout",
     "output_type": "stream",
     "text": [
      "Epoch 1/10\n",
      "14/14 [==============================] - 6s 461ms/step - loss: 0.2211\n",
      "Epoch 2/10\n",
      "14/14 [==============================] - 6s 454ms/step - loss: 0.0692\n",
      "Epoch 3/10\n",
      "14/14 [==============================] - 6s 449ms/step - loss: 0.0539\n",
      "Epoch 4/10\n",
      "14/14 [==============================] - 7s 474ms/step - loss: 0.0484\n",
      "Epoch 5/10\n",
      "14/14 [==============================] - 7s 469ms/step - loss: 0.0443\n",
      "Epoch 6/10\n",
      "14/14 [==============================] - 6s 457ms/step - loss: 0.0425\n",
      "Epoch 7/10\n",
      "14/14 [==============================] - 6s 458ms/step - loss: 0.0390\n",
      "Epoch 8/10\n",
      "14/14 [==============================] - 7s 466ms/step - loss: 0.0368\n",
      "Epoch 9/10\n",
      "14/14 [==============================] - 8s 565ms/step - loss: 0.0353\n",
      "Epoch 10/10\n",
      "14/14 [==============================] - 8s 577ms/step - loss: 0.0336\n"
     ]
    },
    {
     "data": {
      "text/plain": [
       "<tensorflow.python.keras.callbacks.History at 0x2a587fe3b80>"
      ]
     },
     "execution_count": 41,
     "metadata": {},
     "output_type": "execute_result"
    }
   ],
   "source": [
    "model = keras.models.Sequential([\n",
    "    keras.layers.Conv1D(filters=20,kernel_size=5,padding=\"valid\",input_shape = [X_train.shape[1],X_train.shape[2]]),\n",
    "    keras.layers.GRU(200,return_sequences=True,input_shape = [X_train.shape[1],X_train.shape[2]]),\n",
    "    keras.layers.Dropout(.3),\n",
    "    keras.layers.GRU(200),\n",
    "    #keras.layers.Dropout(.2),\n",
    "    #keras.layers.GRU(50,return_sequences=True),\n",
    "    keras.layers.Dense(1)\n",
    "])\n",
    "model.compile(optimizer=\"adam\",loss=sign_loss_wrapper(1.15))\n",
    "model.fit(x=X_train,y=Y_train,epochs=1)"
   ]
  },
  {
   "cell_type": "code",
   "execution_count": 99,
   "metadata": {},
   "outputs": [
    {
     "name": "stdout",
     "output_type": "stream",
     "text": [
      "3/3 [==============================] - 0s 138ms/step - loss: 0.0038\n"
     ]
    },
    {
     "data": {
      "text/plain": [
       "0.003836629446595907"
      ]
     },
     "execution_count": 99,
     "metadata": {},
     "output_type": "execute_result"
    }
   ],
   "source": [
    "model.evaluate(x=X_validate,y=Y_validate)"
   ]
  },
  {
   "cell_type": "code",
   "execution_count": 100,
   "metadata": {},
   "outputs": [
    {
     "data": {
      "text/plain": [
       "<matplotlib.legend.Legend at 0x242927fc520>"
      ]
     },
     "execution_count": 100,
     "metadata": {},
     "output_type": "execute_result"
    },
    {
     "data": {
      "image/png": "[encoded data removed]",
      "text/plain": [
       "<Figure size 720x432 with 1 Axes>"
      ]
     },
     "metadata": {
      "needs_background": "light"
     },
     "output_type": "display_data"
    }
   ],
   "source": [
    "plt.figure(figsize=(10,6))\n",
    "plt.plot(np.vstack((np.sqrt(scaler.var_)*model.predict(X_validate)+scaler.mean_,np.sqrt(scaler.var_)*model.predict(X_test)+scaler.mean_)),color=\"red\",label=\"Fcst\")\n",
    "plt.plot(np.vstack((np.sqrt(scaler.var_)*Y_validate+scaler.mean_,np.sqrt(scaler.var_)*Y_test+scaler.mean_)),color=\"blue\",label=\"Actuals\")\n",
    "plt.title(\"LiteCoin Prediction - GRU RNN w 1DConv Layer\")\n",
    "plt.legend()"
   ]
  },
  {
   "cell_type": "code",
   "execution_count": 101,
   "metadata": {},
   "outputs": [
    {
     "name": "stderr",
     "output_type": "stream",
     "text": [
      "C:\\Users\\cnaka\\anaconda3\\lib\\site-packages\\tensorflow\\python\\data\\ops\\dataset_ops.py:3349: UserWarning: Even though the tf.config.experimental_run_functions_eagerly option is set, this option does not apply to tf.data functions. tf.data functions are still traced and executed as graphs.\n",
      "  warnings.warn(\n"
     ]
    },
    {
     "data": {
      "text/plain": [
       "0.47368421052631576"
      ]
     },
     "execution_count": 101,
     "metadata": {},
     "output_type": "execute_result"
    }
   ],
   "source": [
    "df=pd.DataFrame()\n",
    "df[\"Forecast\"]=(np.sqrt(scaler.var_)*model.predict(X_validate).T+scaler.mean_).flatten()\n",
    "df[\"Actual\"]=(np.sqrt(scaler.var_)*Y_validate.T+scaler.mean_).flatten()\n",
    "df[\"Correct Sign\"]=np.zeros(76)\n",
    "for i in range(1,len(df[\"Forecast\"])):\n",
    "    if np.sign(df[\"Forecast\"][i]-df[\"Actual\"][i-1])==np.sign(df[\"Actual\"][i]-df[\"Actual\"][i-1]):\n",
    "        df.iloc[i,2]=1\n",
    "sum(df[\"Correct Sign\"])/len(df[\"Correct Sign\"])"
   ]
  },
  {
   "cell_type": "markdown",
   "metadata": {},
   "source": [
    "## GAN"
   ]
  },
  {
   "cell_type": "code",
   "execution_count": 154,
   "metadata": {},
   "outputs": [
    {
     "name": "stdout",
     "output_type": "stream",
     "text": [
      "Model: \"sequential_22\"\n",
      "_________________________________________________________________\n",
      "Layer (type)                 Output Shape              Param #   \n",
      "=================================================================\n",
      "gru_34 (GRU)                 (None, 100, 200)          121800    \n",
      "_________________________________________________________________\n",
      "dropout_22 (Dropout)         (None, 100, 200)          0         \n",
      "_________________________________________________________________\n",
      "gru_35 (GRU)                 (None, 100, 200)          241200    \n",
      "_________________________________________________________________\n",
      "dense_22 (Dense)             (None, 100, 1)            201       \n",
      "=================================================================\n",
      "Total params: 363,201\n",
      "Trainable params: 363,201\n",
      "Non-trainable params: 0\n",
      "_________________________________________________________________\n"
     ]
    }
   ],
   "source": [
    "\n",
    "G = keras.models.Sequential([\n",
    "    keras.layers.GRU(200,return_sequences=True,input_shape = [w,1]),\n",
    "    keras.layers.Dropout(.3),\n",
    "    keras.layers.GRU(200,return_sequences=True),\n",
    "    #keras.layers.Dropout(.2),\n",
    "    #keras.layers.GRU(50,return_sequences=True),\n",
    "    keras.layers.Dense(1)\n",
    "])\n",
    "#G.compile(optimizer=\"adam\",loss=\"mse\")\n",
    "G.summary()"
   ]
  },
  {
   "cell_type": "code",
   "execution_count": 137,
   "metadata": {},
   "outputs": [
    {
     "name": "stderr",
     "output_type": "stream",
     "text": [
      "C:\\Users\\cnaka\\anaconda3\\lib\\site-packages\\tensorflow\\python\\data\\ops\\dataset_ops.py:3349: UserWarning: Even though the tf.config.experimental_run_functions_eagerly option is set, this option does not apply to tf.data functions. tf.data functions are still traced and executed as graphs.\n",
      "  warnings.warn(\n"
     ]
    },
    {
     "name": "stdout",
     "output_type": "stream",
     "text": [
      "Epoch 1/10\n",
      "15/15 [==============================] - 10s 673ms/step - loss: 0.4194\n",
      "Epoch 2/10\n",
      "15/15 [==============================] - 10s 657ms/step - loss: 0.2305\n",
      "Epoch 3/10\n",
      "15/15 [==============================] - 10s 664ms/step - loss: 0.1992\n",
      "Epoch 4/10\n",
      "15/15 [==============================] - 10s 665ms/step - loss: 0.1845\n",
      "Epoch 5/10\n",
      "15/15 [==============================] - 10s 667ms/step - loss: 0.1787\n",
      "Epoch 6/10\n",
      "15/15 [==============================] - 10s 672ms/step - loss: 0.1749\n",
      "Epoch 7/10\n",
      "15/15 [==============================] - 10s 665ms/step - loss: 0.1705\n",
      "Epoch 8/10\n",
      "15/15 [==============================] - 10s 658ms/step - loss: 0.1673\n",
      "Epoch 9/10\n",
      "15/15 [==============================] - 10s 670ms/step - loss: 0.1621\n",
      "Epoch 10/10\n",
      "15/15 [==============================] - 10s 655ms/step - loss: 0.1593\n"
     ]
    },
    {
     "data": {
      "text/plain": [
       "<tensorflow.python.keras.callbacks.History at 0x2a59ee71130>"
      ]
     },
     "execution_count": 137,
     "metadata": {},
     "output_type": "execute_result"
    }
   ],
   "source": [
    "G.fit(x=X_train,y=Y_train,epochs=10)"
   ]
  },
  {
   "cell_type": "code",
   "execution_count": 155,
   "metadata": {},
   "outputs": [
    {
     "name": "stdout",
     "output_type": "stream",
     "text": [
      "Model: \"sequential_23\"\n",
      "_________________________________________________________________\n",
      "Layer (type)                 Output Shape              Param #   \n",
      "=================================================================\n",
      "conv1d_18 (Conv1D)           (None, 49, 32)            160       \n",
      "_________________________________________________________________\n",
      "leaky_re_lu_15 (LeakyReLU)   (None, 49, 32)            0         \n",
      "_________________________________________________________________\n",
      "conv1d_19 (Conv1D)           (None, 23, 64)            8256      \n",
      "_________________________________________________________________\n",
      "leaky_re_lu_16 (LeakyReLU)   (None, 23, 64)            0         \n",
      "_________________________________________________________________\n",
      "batch_normalization_6 (Batch (None, 23, 64)            256       \n",
      "_________________________________________________________________\n",
      "conv1d_20 (Conv1D)           (None, 10, 128)           32896     \n",
      "_________________________________________________________________\n",
      "leaky_re_lu_17 (LeakyReLU)   (None, 10, 128)           0         \n",
      "_________________________________________________________________\n",
      "batch_normalization_7 (Batch (None, 10, 128)           512       \n",
      "_________________________________________________________________\n",
      "dropout_23 (Dropout)         (None, 10, 128)           0         \n",
      "_________________________________________________________________\n",
      "dense_23 (Dense)             (None, 10, 1)             129       \n",
      "=================================================================\n",
      "Total params: 42,209\n",
      "Trainable params: 41,825\n",
      "Non-trainable params: 384\n",
      "_________________________________________________________________\n"
     ]
    }
   ],
   "source": [
    "D = keras.models.Sequential([\n",
    "    keras.layers.Conv1D(32,4,strides=2,input_shape=[w,1]),\n",
    "    keras.layers.LeakyReLU(),\n",
    "    keras.layers.Conv1D(64,4,strides=2),\n",
    "    keras.layers.LeakyReLU(),\n",
    "    keras.layers.BatchNormalization(),\n",
    "    keras.layers.Conv1D(128,4,strides=2),\n",
    "    keras.layers.LeakyReLU(),\n",
    "    keras.layers.BatchNormalization(),\n",
    "    #keras.layers.Flatten(),\n",
    "    keras.layers.Dropout(.3),\n",
    "    keras.layers.Dense(1,activation='tanh')\n",
    "])\n",
    "D.compile(optimizer=\"adam\",loss=\"binary_crossentropy\")\n",
    "D.summary()\n"
   ]
  },
  {
   "cell_type": "code",
   "execution_count": 156,
   "metadata": {},
   "outputs": [],
   "source": [
    "D.trainable=False\n",
    "gan_input = keras.Input(shape=[w,1])\n",
    "gan_output = D(G(gan_input))\n",
    "gan=keras.models.Model(gan_input,gan_output)\n",
    "gan_optimizer = keras.optimizers.RMSprop(lr=.0004,clipvalue=1,decay=1e-8)\n",
    "gan.compile(optimizer=gan_optimizer,loss='binary_crossentropy')"
   ]
  },
  {
   "cell_type": "code",
   "execution_count": 157,
   "metadata": {},
   "outputs": [
    {
     "name": "stderr",
     "output_type": "stream",
     "text": [
      "C:\\Users\\cnaka\\anaconda3\\lib\\site-packages\\tensorflow\\python\\data\\ops\\dataset_ops.py:3349: UserWarning: Even though the tf.config.experimental_run_functions_eagerly option is set, this option does not apply to tf.data functions. tf.data functions are still traced and executed as graphs.\n",
      "  warnings.warn(\n"
     ]
    },
    {
     "name": "stdout",
     "output_type": "stream",
     "text": [
      "Discriminator Loss= 0.6948157548904419\n",
      "Adverserial Loss= 0.018529895693063736\n",
      "Discriminator Loss= 0.14166761934757233\n",
      "Adverserial Loss= 0.4475536346435547\n"
     ]
    }
   ],
   "source": [
    "iterations=100\n",
    "batchsize=14\n",
    "start=0\n",
    "random_latent_vectors=np.random.normal(size=(batchsize,w,1))\n",
    "for step in range(iterations):\n",
    "    generated_sequences = G.predict(random_latent_vectors)\n",
    "    stop = start+batchsize\n",
    "    real_sequences = X_train[start:stop]\n",
    "    combined_sequences = np.concatenate([generated_sequences,real_sequences])\n",
    "    labels = np.concatenate([np.zeros((batchsize,1)),np.ones((batchsize,1))])\n",
    "    labels += .05*np.random.random(labels.shape)\n",
    "    D_loss=D.train_on_batch(combined_sequences,labels)\n",
    "    random_latent_vectors=np.random.normal(size=(batchsize,w,1))\n",
    "    misleading_labels = np.zeros((batchsize,1))\n",
    "    a_loss=gan.train_on_batch(random_latent_vectors,misleading_labels)\n",
    "    start=start+batchsize\n",
    "    if start>len(X_train)-batchsize:\n",
    "        start=0\n",
    "    if step%50==0:\n",
    "        print(\"Discriminator Loss=\",D_loss)\n",
    "        print(\"Adverserial Loss=\",a_loss)"
   ]
  },
  {
   "cell_type": "code",
   "execution_count": 87,
   "metadata": {},
   "outputs": [
    {
     "name": "stderr",
     "output_type": "stream",
     "text": [
      "C:\\Users\\cnaka\\anaconda3\\lib\\site-packages\\tensorflow\\python\\data\\ops\\dataset_ops.py:3349: UserWarning: Even though the tf.config.experimental_run_functions_eagerly option is set, this option does not apply to tf.data functions. tf.data functions are still traced and executed as graphs.\n",
      "  warnings.warn(\n"
     ]
    },
    {
     "data": {
      "text/plain": [
       "0.5131578947368421"
      ]
     },
     "execution_count": 87,
     "metadata": {},
     "output_type": "execute_result"
    }
   ],
   "source": [
    "df=pd.DataFrame()\n",
    "df[\"Forecast\"]=(np.sqrt(scaler.var_)*G.predict(X_validate)[:,-1]+scaler.mean_).flatten()\n",
    "df[\"Actual\"]=(np.sqrt(scaler.var_)*Y_validate[:,-1].reshape((76,1))+scaler.mean_).flatten()\n",
    "df[\"Correct Sign\"]=np.zeros(76)\n",
    "for i in range(1,len(df[\"Forecast\"])):\n",
    "    if np.sign(df[\"Forecast\"][i]-df[\"Actual\"][i-1])==np.sign(df[\"Actual\"][i]-df[\"Actual\"][i-1]):\n",
    "        df.iloc[i,2]=1\n",
    "sum(df[\"Correct Sign\"])/len(df[\"Correct Sign\"])"
   ]
  },
  {
   "cell_type": "code",
   "execution_count": 111,
   "metadata": {},
   "outputs": [
    {
     "data": {
      "text/plain": [
       "(60,)"
      ]
     },
     "execution_count": 111,
     "metadata": {},
     "output_type": "execute_result"
    }
   ],
   "source": [
    "train_scaled[0:60,0].shape"
   ]
  },
  {
   "cell_type": "markdown",
   "metadata": {},
   "source": [
    "## Classification Model"
   ]
  },
  {
   "cell_type": "code",
   "execution_count": 110,
   "metadata": {},
   "outputs": [],
   "source": [
    "data[\"Date\"]=pd.to_datetime(data[\"Date\"])\n",
    "datadiff=data.diff()\n",
    "datadiff[\"Date\"]=data[\"Date\"]\n",
    "data=data.merge(datadiff[[\"Close\",\"Date\"]],on=\"Date\").rename(columns={\"Close_x\":\"Close\",\n",
    "            \"Close_y\":\"Return\"})\n",
    "data[\"Return_Binary\"]=[1 if data[\"Return\"][x]>0 else 0 for x in range(0,len(data))]\n",
    "data.tail()"
   ]
  },
  {
   "cell_type": "code",
   "execution_count": 99,
   "metadata": {},
   "outputs": [
    {
     "name": "stdout",
     "output_type": "stream",
     "text": [
      "(655, 100, 6) (655,)\n",
      "(151, 100, 6) (151,)\n",
      "(150, 100, 6) (150,)\n"
     ]
    }
   ],
   "source": [
    "data=data[data[\"Date\"]>=\"2015-11-24\"]\n",
    "data=data.reset_index().drop(\"index\",axis=1)\n",
    "train=data.loc[0:round(len(data[\"Close\"])*.6)][[\"Return\",\"Volume\",\"MA10\",\"MA50\",\"MA200\",\"MACD_Indicator\",\"Return_Binary\"#,\"Volume\",\"Bollinger_High\",\"Bollinger_Low\"\n",
    "                                               ]]\n",
    "validate = data.loc[round(len(data[\"Close\"])*.6)+1:round(len(data[\"Close\"])*.8)][[\"Return\",\"Volume\",\"MA10\",\"MA50\",\"MA200\",\"MACD_Indicator\",\"Return_Binary\"#,\"Volume\",\"Bollinger_High\",\"Bollinger_Low\"\n",
    "                                                                                 ]]\n",
    "test =data.loc[round(len(data[\"Close\"])*.8)+1:][[\"Return\",\"Volume\",\"MA10\",\"MA50\",\"MA200\",\"MACD_Indicator\",\"Return_Binary\"#,\"Volume\",\"Bollinger_High\",\"Bollinger_Low\"\n",
    "                                                ]]\n",
    "from sklearn.preprocessing import StandardScaler\n",
    "scaler = StandardScaler()\n",
    "train_scaled=scaler.fit_transform(train)\n",
    "validate_scaled=scaler.transform(validate)\n",
    "test_scaled=scaler.transform(test)\n",
    "def create_datasets2(X,Y,w,h):\n",
    "    X_set,Y_set=[],[]\n",
    "    for i in range(w,len(X)):\n",
    "        X_set.append(X[i-w:i,])\n",
    "        Y_set.append(Y[i:i+h,].values[0]#.reshape((w,1))\n",
    "                    )\n",
    "    return np.array(X_set),np.array(Y_set)\n",
    "X_train,Y_train=create_datasets2(train_scaled[:,0:6],train[\"Return_Binary\"],w,h)\n",
    "X_validate,Y_validate=create_datasets2(validate_scaled[:,0:6],validate[\"Return_Binary\"],w,h)\n",
    "X_test,Y_test=create_datasets2(test_scaled[:,0:6],test[\"Return_Binary\"],w,h)\n",
    "X_train=X_train.reshape((X_train.shape[0],X_train.shape[1],X_validate.shape[2]))\n",
    "X_validate=X_validate.reshape((X_validate.shape[0],X_validate.shape[1],X_validate.shape[2]))\n",
    "X_test=X_test.reshape((X_test.shape[0],X_test.shape[1],X_validate.shape[2]))\n",
    "print(X_train.shape,Y_train.shape)\n",
    "print(X_validate.shape,Y_validate.shape)\n",
    "print(X_test.shape,Y_test.shape)"
   ]
  },
  {
   "cell_type": "code",
   "execution_count": null,
   "metadata": {},
   "outputs": [],
   "source": [
    "callback = tf.keras.callbacks.EarlyStopping(monitor='loss', patience=5)\n",
    "model=keras.models.Sequential([\n",
    "    keras.layers.Conv1D(filters=20,kernel_size=5,padding=\"valid\",input_shape = [X_train.shape[1],X_train.shape[2]]),\n",
    "    keras.layers.RNN(tfa.rnn.LayerNormLSTMCell(units=50,recurrent_dropout=.1),return_sequences=True),\n",
    "    keras.layers.RNN(tfa.rnn.LayerNormLSTMCell(units=50,recurrent_dropout=.1)),\n",
    "    keras.layers.Dense(1,activation=\"sigmoid\")\n",
    "])\n",
    "model.compile(loss=\"binary_crossentropy\",optimizer = \"adam\",metrics=[\"accuracy\"])\n",
    "model.fit(x=X_train,y=Y_train,epochs=100,validation_data=(X_validate,Y_validate),#callbacks=[callback]\n",
    "         )"
   ]
  },
  {
   "cell_type": "code",
   "execution_count": null,
   "metadata": {},
   "outputs": [],
   "source": [
    "model.evaluate(X_test,Y_test)"
   ]
  },
  {
   "cell_type": "code",
   "execution_count": null,
   "metadata": {},
   "outputs": [],
   "source": [
    "pd.DataFrame([model.predict(X_test).flatten().T,Y_test.flatten().T])"
   ]
  },
  {
   "cell_type": "code",
   "execution_count": null,
   "metadata": {},
   "outputs": [],
   "source": [
    "model.summary()"
   ]
  },
  {
   "cell_type": "code",
   "execution_count": null,
   "metadata": {},
   "outputs": [],
   "source": []
  }
 ],
 "metadata": {
  "kernelspec": {
   "display_name": "Python 3",
   "language": "python",
   "name": "python3"
  },
  "language_info": {
   "codemirror_mode": {
    "name": "ipython",
    "version": 3
   },
   "file_extension": ".py",
   "mimetype": "text/x-python",
   "name": "python",
   "nbconvert_exporter": "python",
   "pygments_lexer": "ipython3",
   "version": "3.8.3"
  }
 },
 "nbformat": 4,
 "nbformat_minor": 4
}
